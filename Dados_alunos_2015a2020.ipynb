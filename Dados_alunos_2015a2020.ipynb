{
  "cells": [
    {
      "cell_type": "markdown",
      "metadata": {
        "id": "view-in-github",
        "colab_type": "text"
      },
      "source": [
        "<a href=\"https://colab.research.google.com/github/andersonjhones/An-lise-de-dados/blob/main/Dados_alunos_2015a2020.ipynb\" target=\"_parent\"><img src=\"https://colab.research.google.com/assets/colab-badge.svg\" alt=\"Open In Colab\"/></a>"
      ]
    },
    {
      "cell_type": "markdown",
      "metadata": {
        "id": "yrHTTQ7Ku9ZT"
      },
      "source": [
        "\n",
        "\n",
        "**Visão geral do conjunto de dados:**\n",
        "\n",
        "Esses dados são sobre características dos alunos da rede da prefeitura que contém dois datasets: \n",
        "* tb_aluno_2015_2020_anonimizado, com 2417671 linhas e 19 colunas;\n",
        "* tb_notas_2015_2020_anonimizado, com 34185100 linhas e 9 colunas.\n",
        "\n",
        "**Dicionário dos dados:**\n",
        "\n",
        "* **tb_aluno_2015_2020_anonimizado**\n",
        "\n",
        "1. **nr_anoletivo:** ano letivo de 2015 a 2020\t\n",
        "2. **id_crede_sefor\t**: ID da CREDE;\n",
        "3. **nm_crede_sefor**: qual a CREDE da escola;\n",
        "4. **id_municipio**: ID do município;\n",
        "5. **nm_municipio**: município da escola;\n",
        "6. **id_escola**: ID da escola;\t\n",
        "7. **nm_escola**: nome da escola;\n",
        "8. **nm_categoria**: categoria do ensino (profissionalizante, de tempo integral, ou regular)\n",
        "9. **ds_modalidade**: modalidade de ensino (regular, profissional...)\n",
        "10. **ds_nivel**: nível de educação;\n",
        "11. **ci_turma**: código da turma;\n",
        "12. **ds_etapa**: série que o aluno está cursando;\t\n",
        "13. **ds_turma**: turma do aluno;\n",
        "14. **ds_turno**: turno que o aluno estuda;\n",
        "15. **nm_curso**: o curso que o aluno está fazendo (tem \"não se aplica\" e cursos técnicos);\n",
        "16. **cd_aluno**: código do aluno (para anonimato do mesmo);\t\n",
        "17. **dt_nascimento**: data de nascimento do aluno;\t\n",
        "18. **ds_sexo**: sexo do aluno;\n",
        "19. **ds_raca**: raça do aluno.\n",
        "\n",
        "\n",
        "\n",
        "\n",
        "\n"
      ]
    },
    {
      "cell_type": "code",
      "execution_count": null,
      "metadata": {
        "id": "C1cLAyInFvZo"
      },
      "outputs": [],
      "source": [
        "import pandas as pd"
      ]
    },
    {
      "cell_type": "code",
      "execution_count": null,
      "metadata": {
        "id": "o5C3bVp3XQNg",
        "colab": {
          "base_uri": "https://localhost:8080/"
        },
        "outputId": "84e4c580-b0af-47f9-db61-5907c54b0e1e"
      },
      "outputs": [
        {
          "output_type": "stream",
          "name": "stdout",
          "text": [
            "Mounted at /content/drive\n"
          ]
        }
      ],
      "source": [
        "from google.colab import drive\n",
        "drive.mount('/content/drive')"
      ]
    },
    {
      "cell_type": "code",
      "execution_count": null,
      "metadata": {
        "id": "7Xtl_IA8XUzM"
      },
      "outputs": [],
      "source": [
        "dados_alunos = pd.read_csv('/content/drive/MyDrive/t_ia/tb_aluno_2015_2020_anonimizado.csv', sep=';')\n"
      ]
    },
    {
      "cell_type": "markdown",
      "metadata": {
        "id": "BEZhK0q_zdDL"
      },
      "source": [
        "**Quantidade de linhas e colunas**"
      ]
    },
    {
      "cell_type": "code",
      "execution_count": null,
      "metadata": {
        "id": "XaxTH64lX8W7",
        "colab": {
          "base_uri": "https://localhost:8080/"
        },
        "outputId": "ea96824e-58ed-41b4-d0d3-a4644d59de18"
      },
      "outputs": [
        {
          "output_type": "execute_result",
          "data": {
            "text/plain": [
              "(2417671, 19)"
            ]
          },
          "metadata": {},
          "execution_count": 4
        }
      ],
      "source": [
        "dados_alunos.shape"
      ]
    },
    {
      "cell_type": "code",
      "execution_count": null,
      "metadata": {
        "id": "XckwUiJ_ug2o",
        "colab": {
          "base_uri": "https://localhost:8080/",
          "height": 531
        },
        "outputId": "78efbdf1-e79d-4b0b-8349-9c2328105ff4"
      },
      "outputs": [
        {
          "output_type": "execute_result",
          "data": {
            "text/plain": [
              "   nr_anoletivo  id_crede_sefor nm_crede_sefor  id_municipio nm_municipio  \\\n",
              "0          2015               1        CREDE 1       2301000      Aquiraz   \n",
              "1          2015               1        CREDE 1       2301000      Aquiraz   \n",
              "2          2015               1        CREDE 1       2301000      Aquiraz   \n",
              "3          2015               1        CREDE 1       2301000      Aquiraz   \n",
              "4          2015               1        CREDE 1       2301000      Aquiraz   \n",
              "\n",
              "   id_escola        nm_escola    nm_categoria ds_modalidade      ds_nivel  \\\n",
              "0   23060948  EEMTI LIA SIDOU  Tempo Integral       Regular  Ensino Médio   \n",
              "1   23060948  EEMTI LIA SIDOU  Tempo Integral       Regular  Ensino Médio   \n",
              "2   23060948  EEMTI LIA SIDOU  Tempo Integral       Regular  Ensino Médio   \n",
              "3   23060948  EEMTI LIA SIDOU  Tempo Integral       Regular  Ensino Médio   \n",
              "4   23060948  EEMTI LIA SIDOU  Tempo Integral       Regular  Ensino Médio   \n",
              "\n",
              "   ci_turma  ds_etapa ds_turma ds_turno               nm_curso  \\\n",
              "0    327724  1ª Série        A    Manhã  --- NÃO SE APLICA ---   \n",
              "1    327724  1ª Série        A    Manhã  --- NÃO SE APLICA ---   \n",
              "2    327724  1ª Série        A    Manhã  --- NÃO SE APLICA ---   \n",
              "3    327724  1ª Série        A    Manhã  --- NÃO SE APLICA ---   \n",
              "4    327724  1ª Série        A    Manhã  --- NÃO SE APLICA ---   \n",
              "\n",
              "                                   cd_aluno dt_nascimento    ds_sexo ds_raca  \n",
              "0  b327d57c3a54103a63c7979f861c46cb4a214f6d    04/03/1999   Feminino   Parda  \n",
              "1  00d6f5760b07f95e4e7a2b2a46da51b55fd9f432    19/12/1999  Masculino   Parda  \n",
              "2  d553cdf580fdcbc6d9f50475d10349f21629bfa8    17/05/1999  Masculino   Parda  \n",
              "3  99d8b2f108857d62be66862e926f03323d3a245a    24/06/1998  Masculino   Parda  \n",
              "4  3e9568340f276ed8f29540321647357bdf0615e7    11/10/1999   Feminino   Parda  "
            ],
            "text/html": [
              "\n",
              "  <div id=\"df-7c29639f-86d7-4c59-bc28-38826039e357\">\n",
              "    <div class=\"colab-df-container\">\n",
              "      <div>\n",
              "<style scoped>\n",
              "    .dataframe tbody tr th:only-of-type {\n",
              "        vertical-align: middle;\n",
              "    }\n",
              "\n",
              "    .dataframe tbody tr th {\n",
              "        vertical-align: top;\n",
              "    }\n",
              "\n",
              "    .dataframe thead th {\n",
              "        text-align: right;\n",
              "    }\n",
              "</style>\n",
              "<table border=\"1\" class=\"dataframe\">\n",
              "  <thead>\n",
              "    <tr style=\"text-align: right;\">\n",
              "      <th></th>\n",
              "      <th>nr_anoletivo</th>\n",
              "      <th>id_crede_sefor</th>\n",
              "      <th>nm_crede_sefor</th>\n",
              "      <th>id_municipio</th>\n",
              "      <th>nm_municipio</th>\n",
              "      <th>id_escola</th>\n",
              "      <th>nm_escola</th>\n",
              "      <th>nm_categoria</th>\n",
              "      <th>ds_modalidade</th>\n",
              "      <th>ds_nivel</th>\n",
              "      <th>ci_turma</th>\n",
              "      <th>ds_etapa</th>\n",
              "      <th>ds_turma</th>\n",
              "      <th>ds_turno</th>\n",
              "      <th>nm_curso</th>\n",
              "      <th>cd_aluno</th>\n",
              "      <th>dt_nascimento</th>\n",
              "      <th>ds_sexo</th>\n",
              "      <th>ds_raca</th>\n",
              "    </tr>\n",
              "  </thead>\n",
              "  <tbody>\n",
              "    <tr>\n",
              "      <th>0</th>\n",
              "      <td>2015</td>\n",
              "      <td>1</td>\n",
              "      <td>CREDE 1</td>\n",
              "      <td>2301000</td>\n",
              "      <td>Aquiraz</td>\n",
              "      <td>23060948</td>\n",
              "      <td>EEMTI LIA SIDOU</td>\n",
              "      <td>Tempo Integral</td>\n",
              "      <td>Regular</td>\n",
              "      <td>Ensino Médio</td>\n",
              "      <td>327724</td>\n",
              "      <td>1ª Série</td>\n",
              "      <td>A</td>\n",
              "      <td>Manhã</td>\n",
              "      <td>--- NÃO SE APLICA ---</td>\n",
              "      <td>b327d57c3a54103a63c7979f861c46cb4a214f6d</td>\n",
              "      <td>04/03/1999</td>\n",
              "      <td>Feminino</td>\n",
              "      <td>Parda</td>\n",
              "    </tr>\n",
              "    <tr>\n",
              "      <th>1</th>\n",
              "      <td>2015</td>\n",
              "      <td>1</td>\n",
              "      <td>CREDE 1</td>\n",
              "      <td>2301000</td>\n",
              "      <td>Aquiraz</td>\n",
              "      <td>23060948</td>\n",
              "      <td>EEMTI LIA SIDOU</td>\n",
              "      <td>Tempo Integral</td>\n",
              "      <td>Regular</td>\n",
              "      <td>Ensino Médio</td>\n",
              "      <td>327724</td>\n",
              "      <td>1ª Série</td>\n",
              "      <td>A</td>\n",
              "      <td>Manhã</td>\n",
              "      <td>--- NÃO SE APLICA ---</td>\n",
              "      <td>00d6f5760b07f95e4e7a2b2a46da51b55fd9f432</td>\n",
              "      <td>19/12/1999</td>\n",
              "      <td>Masculino</td>\n",
              "      <td>Parda</td>\n",
              "    </tr>\n",
              "    <tr>\n",
              "      <th>2</th>\n",
              "      <td>2015</td>\n",
              "      <td>1</td>\n",
              "      <td>CREDE 1</td>\n",
              "      <td>2301000</td>\n",
              "      <td>Aquiraz</td>\n",
              "      <td>23060948</td>\n",
              "      <td>EEMTI LIA SIDOU</td>\n",
              "      <td>Tempo Integral</td>\n",
              "      <td>Regular</td>\n",
              "      <td>Ensino Médio</td>\n",
              "      <td>327724</td>\n",
              "      <td>1ª Série</td>\n",
              "      <td>A</td>\n",
              "      <td>Manhã</td>\n",
              "      <td>--- NÃO SE APLICA ---</td>\n",
              "      <td>d553cdf580fdcbc6d9f50475d10349f21629bfa8</td>\n",
              "      <td>17/05/1999</td>\n",
              "      <td>Masculino</td>\n",
              "      <td>Parda</td>\n",
              "    </tr>\n",
              "    <tr>\n",
              "      <th>3</th>\n",
              "      <td>2015</td>\n",
              "      <td>1</td>\n",
              "      <td>CREDE 1</td>\n",
              "      <td>2301000</td>\n",
              "      <td>Aquiraz</td>\n",
              "      <td>23060948</td>\n",
              "      <td>EEMTI LIA SIDOU</td>\n",
              "      <td>Tempo Integral</td>\n",
              "      <td>Regular</td>\n",
              "      <td>Ensino Médio</td>\n",
              "      <td>327724</td>\n",
              "      <td>1ª Série</td>\n",
              "      <td>A</td>\n",
              "      <td>Manhã</td>\n",
              "      <td>--- NÃO SE APLICA ---</td>\n",
              "      <td>99d8b2f108857d62be66862e926f03323d3a245a</td>\n",
              "      <td>24/06/1998</td>\n",
              "      <td>Masculino</td>\n",
              "      <td>Parda</td>\n",
              "    </tr>\n",
              "    <tr>\n",
              "      <th>4</th>\n",
              "      <td>2015</td>\n",
              "      <td>1</td>\n",
              "      <td>CREDE 1</td>\n",
              "      <td>2301000</td>\n",
              "      <td>Aquiraz</td>\n",
              "      <td>23060948</td>\n",
              "      <td>EEMTI LIA SIDOU</td>\n",
              "      <td>Tempo Integral</td>\n",
              "      <td>Regular</td>\n",
              "      <td>Ensino Médio</td>\n",
              "      <td>327724</td>\n",
              "      <td>1ª Série</td>\n",
              "      <td>A</td>\n",
              "      <td>Manhã</td>\n",
              "      <td>--- NÃO SE APLICA ---</td>\n",
              "      <td>3e9568340f276ed8f29540321647357bdf0615e7</td>\n",
              "      <td>11/10/1999</td>\n",
              "      <td>Feminino</td>\n",
              "      <td>Parda</td>\n",
              "    </tr>\n",
              "  </tbody>\n",
              "</table>\n",
              "</div>\n",
              "      <button class=\"colab-df-convert\" onclick=\"convertToInteractive('df-7c29639f-86d7-4c59-bc28-38826039e357')\"\n",
              "              title=\"Convert this dataframe to an interactive table.\"\n",
              "              style=\"display:none;\">\n",
              "        \n",
              "  <svg xmlns=\"http://www.w3.org/2000/svg\" height=\"24px\"viewBox=\"0 0 24 24\"\n",
              "       width=\"24px\">\n",
              "    <path d=\"M0 0h24v24H0V0z\" fill=\"none\"/>\n",
              "    <path d=\"M18.56 5.44l.94 2.06.94-2.06 2.06-.94-2.06-.94-.94-2.06-.94 2.06-2.06.94zm-11 1L8.5 8.5l.94-2.06 2.06-.94-2.06-.94L8.5 2.5l-.94 2.06-2.06.94zm10 10l.94 2.06.94-2.06 2.06-.94-2.06-.94-.94-2.06-.94 2.06-2.06.94z\"/><path d=\"M17.41 7.96l-1.37-1.37c-.4-.4-.92-.59-1.43-.59-.52 0-1.04.2-1.43.59L10.3 9.45l-7.72 7.72c-.78.78-.78 2.05 0 2.83L4 21.41c.39.39.9.59 1.41.59.51 0 1.02-.2 1.41-.59l7.78-7.78 2.81-2.81c.8-.78.8-2.07 0-2.86zM5.41 20L4 18.59l7.72-7.72 1.47 1.35L5.41 20z\"/>\n",
              "  </svg>\n",
              "      </button>\n",
              "      \n",
              "  <style>\n",
              "    .colab-df-container {\n",
              "      display:flex;\n",
              "      flex-wrap:wrap;\n",
              "      gap: 12px;\n",
              "    }\n",
              "\n",
              "    .colab-df-convert {\n",
              "      background-color: #E8F0FE;\n",
              "      border: none;\n",
              "      border-radius: 50%;\n",
              "      cursor: pointer;\n",
              "      display: none;\n",
              "      fill: #1967D2;\n",
              "      height: 32px;\n",
              "      padding: 0 0 0 0;\n",
              "      width: 32px;\n",
              "    }\n",
              "\n",
              "    .colab-df-convert:hover {\n",
              "      background-color: #E2EBFA;\n",
              "      box-shadow: 0px 1px 2px rgba(60, 64, 67, 0.3), 0px 1px 3px 1px rgba(60, 64, 67, 0.15);\n",
              "      fill: #174EA6;\n",
              "    }\n",
              "\n",
              "    [theme=dark] .colab-df-convert {\n",
              "      background-color: #3B4455;\n",
              "      fill: #D2E3FC;\n",
              "    }\n",
              "\n",
              "    [theme=dark] .colab-df-convert:hover {\n",
              "      background-color: #434B5C;\n",
              "      box-shadow: 0px 1px 3px 1px rgba(0, 0, 0, 0.15);\n",
              "      filter: drop-shadow(0px 1px 2px rgba(0, 0, 0, 0.3));\n",
              "      fill: #FFFFFF;\n",
              "    }\n",
              "  </style>\n",
              "\n",
              "      <script>\n",
              "        const buttonEl =\n",
              "          document.querySelector('#df-7c29639f-86d7-4c59-bc28-38826039e357 button.colab-df-convert');\n",
              "        buttonEl.style.display =\n",
              "          google.colab.kernel.accessAllowed ? 'block' : 'none';\n",
              "\n",
              "        async function convertToInteractive(key) {\n",
              "          const element = document.querySelector('#df-7c29639f-86d7-4c59-bc28-38826039e357');\n",
              "          const dataTable =\n",
              "            await google.colab.kernel.invokeFunction('convertToInteractive',\n",
              "                                                     [key], {});\n",
              "          if (!dataTable) return;\n",
              "\n",
              "          const docLinkHtml = 'Like what you see? Visit the ' +\n",
              "            '<a target=\"_blank\" href=https://colab.research.google.com/notebooks/data_table.ipynb>data table notebook</a>'\n",
              "            + ' to learn more about interactive tables.';\n",
              "          element.innerHTML = '';\n",
              "          dataTable['output_type'] = 'display_data';\n",
              "          await google.colab.output.renderOutput(dataTable, element);\n",
              "          const docLink = document.createElement('div');\n",
              "          docLink.innerHTML = docLinkHtml;\n",
              "          element.appendChild(docLink);\n",
              "        }\n",
              "      </script>\n",
              "    </div>\n",
              "  </div>\n",
              "  "
            ]
          },
          "metadata": {},
          "execution_count": 5
        }
      ],
      "source": [
        "dados_alunos.head()"
      ]
    },
    {
      "cell_type": "markdown",
      "source": [
        "**Dados contidos na coluna ds_nivel (nível de educação)**\n",
        "\n",
        "\n",
        "\n"
      ],
      "metadata": {
        "id": "HIgKD-QNvY9h"
      }
    },
    {
      "cell_type": "code",
      "execution_count": null,
      "metadata": {
        "id": "mGl8gBxbug2q",
        "colab": {
          "base_uri": "https://localhost:8080/"
        },
        "outputId": "9af5f53d-b5f3-41ac-a336-ad9ebea21563"
      },
      "outputs": [
        {
          "output_type": "execute_result",
          "data": {
            "text/plain": [
              "array(['Ensino Médio', 'Ensino Fundamental', 'Educação Infantil',\n",
              "       'CREAECE', 'ENSINO FUNDAMENTAL'], dtype=object)"
            ]
          },
          "metadata": {},
          "execution_count": 6
        }
      ],
      "source": [
        "dados_alunos['ds_nivel'].unique()"
      ]
    },
    {
      "cell_type": "markdown",
      "source": [
        "Identificou-se que em alguns níveis não tinhamos a certeza se o aluno reprovou ou não, pois não tinha atributos para inferir isto. Por emplo na coluna ds_nivel com o nível ENSINO FUNDAMENTAL, que comporta o EJA Presencial - Projovem Urbano e não sabemos por exemplo se quando o aluno aparece no EJA Presencial - Projovem Urbano no ano seguinte ele reprovou ou passou para outra série, pois o nome é repetido e não temos colunas que nos mostre se o aluno foi reprovado ou não."
      ],
      "metadata": {
        "id": "BSJsF-yzvqoX"
      }
    },
    {
      "cell_type": "code",
      "execution_count": null,
      "metadata": {
        "id": "PWLhPQ4Rug2r",
        "colab": {
          "base_uri": "https://localhost:8080/"
        },
        "outputId": "fd8e38bf-e190-42d0-adee-43b76fb0c6ac"
      },
      "outputs": [
        {
          "output_type": "execute_result",
          "data": {
            "text/plain": [
              "array(['EJA Presencial - Projovem Urbano'], dtype=object)"
            ]
          },
          "metadata": {},
          "execution_count": 7
        }
      ],
      "source": [
        "u=dados_alunos[dados_alunos['ds_nivel']=='ENSINO FUNDAMENTAL']\n",
        "u['ds_etapa'].unique()"
      ]
    },
    {
      "cell_type": "code",
      "execution_count": null,
      "metadata": {
        "id": "vHjJUweyug2t",
        "colab": {
          "base_uri": "https://localhost:8080/"
        },
        "outputId": "203be673-cc0e-468a-9434-15a4efea7b6c"
      },
      "outputs": [
        {
          "output_type": "execute_result",
          "data": {
            "text/plain": [
              "array(['Deficiência Intelectual', 'Deficiência Visual',\n",
              "       'Práticas Inclusivas do AEE', 'TGD/TEA', 'LIBRAS'], dtype=object)"
            ]
          },
          "metadata": {},
          "execution_count": 9
        }
      ],
      "source": [
        "u2=dados_alunos[dados_alunos['ds_nivel']=='CREAECE']\n",
        "u2['ds_etapa'].unique()"
      ]
    },
    {
      "cell_type": "code",
      "execution_count": null,
      "metadata": {
        "id": "qrW9shSHug2u",
        "colab": {
          "base_uri": "https://localhost:8080/"
        },
        "outputId": "60ecf2ba-489b-468a-84c5-ea523ab70e1c"
      },
      "outputs": [
        {
          "output_type": "execute_result",
          "data": {
            "text/plain": [
              "array(['Pré-escola (4 e 5 anos)', 'Creche (0 a 3 anos)', 'PRÉ-ESCOLA'],\n",
              "      dtype=object)"
            ]
          },
          "metadata": {},
          "execution_count": 10
        }
      ],
      "source": [
        "uif=dados_alunos[dados_alunos['ds_nivel']=='Educação Infantil']\n",
        "uif['ds_etapa'].unique()"
      ]
    },
    {
      "cell_type": "markdown",
      "source": [
        "Decidiu-se excluir os níveis e as etapas que não fossem possível confirmar se o aluno foi aprovado ou reprovado"
      ],
      "metadata": {
        "id": "BxOutihdwqjr"
      }
    },
    {
      "cell_type": "code",
      "execution_count": null,
      "metadata": {
        "id": "y6zpVifwug2v"
      },
      "outputs": [],
      "source": [
        "hh=dados_alunos[dados_alunos['ds_nivel']!='CREAECE']\n",
        "hh=hh[hh['ds_nivel']!='Educação Infantil']\n",
        "hh=hh[hh['ds_nivel']!='ENSINO FUNDAMENTAL']"
      ]
    },
    {
      "cell_type": "code",
      "execution_count": null,
      "metadata": {
        "id": "Tmjp9QDDug2w",
        "outputId": "15d58d7d-c07f-4976-9d1a-d1efd49cd45c",
        "colab": {
          "base_uri": "https://localhost:8080/"
        }
      },
      "outputs": [
        {
          "output_type": "execute_result",
          "data": {
            "text/plain": [
              "array(['Ensino Médio', 'Ensino Fundamental'], dtype=object)"
            ]
          },
          "metadata": {},
          "execution_count": 12
        }
      ],
      "source": [
        "hh['ds_nivel'].unique()"
      ]
    },
    {
      "cell_type": "code",
      "execution_count": null,
      "metadata": {
        "id": "RMK0xOmYug2y",
        "outputId": "146e6b3d-41b6-471a-c7bd-d04e71732a39",
        "colab": {
          "base_uri": "https://localhost:8080/"
        }
      },
      "outputs": [
        {
          "output_type": "execute_result",
          "data": {
            "text/plain": [
              "array(['1ª Série', '2ª Série', '3ª Série',\n",
              "       'EJA Presencial - Ensino Médio', 'EJA Presencial - Anos finais',\n",
              "       '3º ano', '5º ano', '6º ano', '8º ano', '9º ano', 'Multi',\n",
              "       'Integrado 1ª Série', 'Integrado 2ª Série', 'Integrado 3ª Série',\n",
              "       'EJA Presencial - Anos iniciais', '4º ano', '7º ano', '1º ano',\n",
              "       '2º ano', 'EJA Semipresencial - Anos finais',\n",
              "       'EJA Semipresencial - Ensino Médio',\n",
              "       'Educação Infantil e Ensino Fundamental Multietapa',\n",
              "       'Normal/Magistério 4ª Série', 'Normal/Magistério 2ª Série',\n",
              "       'EJA Semipresencial - Anos iniciais', 'Normal/Magistério 3ª Série',\n",
              "       'Formação Continuada', 'EJA Mais Qualificação Profissional I',\n",
              "       'EJA Mais Qualificação Profissional II',\n",
              "       'Educação Profissional (Subsequente)'], dtype=object)"
            ]
          },
          "metadata": {},
          "execution_count": 13
        }
      ],
      "source": [
        "hh['ds_etapa'].unique()"
      ]
    },
    {
      "cell_type": "code",
      "execution_count": null,
      "metadata": {
        "id": "K-W4NFDIug2z"
      },
      "outputs": [],
      "source": [
        "hh=hh[hh['ds_etapa']!='EJA Presencial - Ensino Médio']\n",
        "hh=hh[hh['ds_etapa']!='EJA Presencial - Anos finais']\n",
        "hh=hh[hh['ds_etapa']!='Multi']\n",
        "hh=hh[hh['ds_etapa']!='EJA Presencial - Anos iniciais']\n",
        "hh=hh[hh['ds_etapa']!='EJA Semipresencial - Anos finais']\n",
        "hh=hh[hh['ds_etapa']!='EJA Semipresencial - Ensino Médio']\n",
        "hh=hh[hh['ds_etapa']!='Educação Infantil e Ensino Fundamental Multietapa']\n",
        "hh=hh[hh['ds_etapa']!='EJA Semipresencial - Anos iniciais']\n",
        "hh=hh[hh['ds_etapa']!='Formação Continuada']\n",
        "hh=hh[hh['ds_etapa']!='EJA Mais Qualificação Profissional I']\n",
        "hh=hh[hh['ds_etapa']!='EJA Mais Qualificação Profissional II']\n",
        "hh=hh[hh['ds_etapa']!='Educação Profissional (Subsequente)']"
      ]
    },
    {
      "cell_type": "code",
      "execution_count": null,
      "metadata": {
        "id": "SzwCz8knug20",
        "outputId": "08259364-dbbf-4c8f-deed-d9d2a1b1f076",
        "colab": {
          "base_uri": "https://localhost:8080/",
          "height": 113
        }
      },
      "outputs": [
        {
          "output_type": "execute_result",
          "data": {
            "text/plain": [
              "Empty DataFrame\n",
              "Columns: [nr_anoletivo, id_crede_sefor, nm_crede_sefor, id_municipio, nm_municipio, id_escola, nm_escola, nm_categoria, ds_modalidade, ds_nivel, ci_turma, ds_etapa, ds_turma, ds_turno, nm_curso, cd_aluno, dt_nascimento, ds_sexo, ds_raca]\n",
              "Index: []"
            ],
            "text/html": [
              "\n",
              "  <div id=\"df-1f261989-6073-4441-9ea7-f660103163ea\">\n",
              "    <div class=\"colab-df-container\">\n",
              "      <div>\n",
              "<style scoped>\n",
              "    .dataframe tbody tr th:only-of-type {\n",
              "        vertical-align: middle;\n",
              "    }\n",
              "\n",
              "    .dataframe tbody tr th {\n",
              "        vertical-align: top;\n",
              "    }\n",
              "\n",
              "    .dataframe thead th {\n",
              "        text-align: right;\n",
              "    }\n",
              "</style>\n",
              "<table border=\"1\" class=\"dataframe\">\n",
              "  <thead>\n",
              "    <tr style=\"text-align: right;\">\n",
              "      <th></th>\n",
              "      <th>nr_anoletivo</th>\n",
              "      <th>id_crede_sefor</th>\n",
              "      <th>nm_crede_sefor</th>\n",
              "      <th>id_municipio</th>\n",
              "      <th>nm_municipio</th>\n",
              "      <th>id_escola</th>\n",
              "      <th>nm_escola</th>\n",
              "      <th>nm_categoria</th>\n",
              "      <th>ds_modalidade</th>\n",
              "      <th>ds_nivel</th>\n",
              "      <th>ci_turma</th>\n",
              "      <th>ds_etapa</th>\n",
              "      <th>ds_turma</th>\n",
              "      <th>ds_turno</th>\n",
              "      <th>nm_curso</th>\n",
              "      <th>cd_aluno</th>\n",
              "      <th>dt_nascimento</th>\n",
              "      <th>ds_sexo</th>\n",
              "      <th>ds_raca</th>\n",
              "    </tr>\n",
              "  </thead>\n",
              "  <tbody>\n",
              "  </tbody>\n",
              "</table>\n",
              "</div>\n",
              "      <button class=\"colab-df-convert\" onclick=\"convertToInteractive('df-1f261989-6073-4441-9ea7-f660103163ea')\"\n",
              "              title=\"Convert this dataframe to an interactive table.\"\n",
              "              style=\"display:none;\">\n",
              "        \n",
              "  <svg xmlns=\"http://www.w3.org/2000/svg\" height=\"24px\"viewBox=\"0 0 24 24\"\n",
              "       width=\"24px\">\n",
              "    <path d=\"M0 0h24v24H0V0z\" fill=\"none\"/>\n",
              "    <path d=\"M18.56 5.44l.94 2.06.94-2.06 2.06-.94-2.06-.94-.94-2.06-.94 2.06-2.06.94zm-11 1L8.5 8.5l.94-2.06 2.06-.94-2.06-.94L8.5 2.5l-.94 2.06-2.06.94zm10 10l.94 2.06.94-2.06 2.06-.94-2.06-.94-.94-2.06-.94 2.06-2.06.94z\"/><path d=\"M17.41 7.96l-1.37-1.37c-.4-.4-.92-.59-1.43-.59-.52 0-1.04.2-1.43.59L10.3 9.45l-7.72 7.72c-.78.78-.78 2.05 0 2.83L4 21.41c.39.39.9.59 1.41.59.51 0 1.02-.2 1.41-.59l7.78-7.78 2.81-2.81c.8-.78.8-2.07 0-2.86zM5.41 20L4 18.59l7.72-7.72 1.47 1.35L5.41 20z\"/>\n",
              "  </svg>\n",
              "      </button>\n",
              "      \n",
              "  <style>\n",
              "    .colab-df-container {\n",
              "      display:flex;\n",
              "      flex-wrap:wrap;\n",
              "      gap: 12px;\n",
              "    }\n",
              "\n",
              "    .colab-df-convert {\n",
              "      background-color: #E8F0FE;\n",
              "      border: none;\n",
              "      border-radius: 50%;\n",
              "      cursor: pointer;\n",
              "      display: none;\n",
              "      fill: #1967D2;\n",
              "      height: 32px;\n",
              "      padding: 0 0 0 0;\n",
              "      width: 32px;\n",
              "    }\n",
              "\n",
              "    .colab-df-convert:hover {\n",
              "      background-color: #E2EBFA;\n",
              "      box-shadow: 0px 1px 2px rgba(60, 64, 67, 0.3), 0px 1px 3px 1px rgba(60, 64, 67, 0.15);\n",
              "      fill: #174EA6;\n",
              "    }\n",
              "\n",
              "    [theme=dark] .colab-df-convert {\n",
              "      background-color: #3B4455;\n",
              "      fill: #D2E3FC;\n",
              "    }\n",
              "\n",
              "    [theme=dark] .colab-df-convert:hover {\n",
              "      background-color: #434B5C;\n",
              "      box-shadow: 0px 1px 3px 1px rgba(0, 0, 0, 0.15);\n",
              "      filter: drop-shadow(0px 1px 2px rgba(0, 0, 0, 0.3));\n",
              "      fill: #FFFFFF;\n",
              "    }\n",
              "  </style>\n",
              "\n",
              "      <script>\n",
              "        const buttonEl =\n",
              "          document.querySelector('#df-1f261989-6073-4441-9ea7-f660103163ea button.colab-df-convert');\n",
              "        buttonEl.style.display =\n",
              "          google.colab.kernel.accessAllowed ? 'block' : 'none';\n",
              "\n",
              "        async function convertToInteractive(key) {\n",
              "          const element = document.querySelector('#df-1f261989-6073-4441-9ea7-f660103163ea');\n",
              "          const dataTable =\n",
              "            await google.colab.kernel.invokeFunction('convertToInteractive',\n",
              "                                                     [key], {});\n",
              "          if (!dataTable) return;\n",
              "\n",
              "          const docLinkHtml = 'Like what you see? Visit the ' +\n",
              "            '<a target=\"_blank\" href=https://colab.research.google.com/notebooks/data_table.ipynb>data table notebook</a>'\n",
              "            + ' to learn more about interactive tables.';\n",
              "          element.innerHTML = '';\n",
              "          dataTable['output_type'] = 'display_data';\n",
              "          await google.colab.output.renderOutput(dataTable, element);\n",
              "          const docLink = document.createElement('div');\n",
              "          docLink.innerHTML = docLinkHtml;\n",
              "          element.appendChild(docLink);\n",
              "        }\n",
              "      </script>\n",
              "    </div>\n",
              "  </div>\n",
              "  "
            ]
          },
          "metadata": {},
          "execution_count": 15
        }
      ],
      "source": [
        "hh[hh['ds_etapa']=='Educação Profissional (Subsequente)']"
      ]
    },
    {
      "cell_type": "markdown",
      "source": [
        "Conjunto de dados que é possível dizer se o aluno reprovou ou não"
      ],
      "metadata": {
        "id": "mMOL6C6rw9LX"
      }
    },
    {
      "cell_type": "code",
      "execution_count": null,
      "metadata": {
        "id": "vXtgE0H2ug21",
        "outputId": "6aab54e1-fbf7-423a-868a-a58859799672",
        "colab": {
          "base_uri": "https://localhost:8080/"
        }
      },
      "outputs": [
        {
          "output_type": "execute_result",
          "data": {
            "text/plain": [
              "array(['1ª Série', '2ª Série', '3ª Série', '3º ano', '5º ano', '6º ano',\n",
              "       '8º ano', '9º ano', 'Integrado 1ª Série', 'Integrado 2ª Série',\n",
              "       'Integrado 3ª Série', '4º ano', '7º ano', '1º ano', '2º ano',\n",
              "       'Normal/Magistério 4ª Série', 'Normal/Magistério 2ª Série',\n",
              "       'Normal/Magistério 3ª Série'], dtype=object)"
            ]
          },
          "metadata": {},
          "execution_count": 16
        }
      ],
      "source": [
        "hh['ds_etapa'].unique()"
      ]
    },
    {
      "cell_type": "markdown",
      "source": [
        "O Conjunto de dados foi reduzido para os níveis fundamental e médio com a esclusão de algumas etapas da coluna ds_etapa que representavam incerteza se o aluno foi aprovado ou não, como no caso já comentado do Eja."
      ],
      "metadata": {
        "id": "F61kZYJ6xGVp"
      }
    },
    {
      "cell_type": "code",
      "execution_count": null,
      "metadata": {
        "id": "5xiUdBarug21",
        "outputId": "234fa780-3708-4855-b9f9-1a13e1e80ee0",
        "colab": {
          "base_uri": "https://localhost:8080/"
        }
      },
      "outputs": [
        {
          "output_type": "execute_result",
          "data": {
            "text/plain": [
              "array(['Ensino Médio', 'Ensino Fundamental'], dtype=object)"
            ]
          },
          "metadata": {},
          "execution_count": 17
        }
      ],
      "source": [
        "hh['ds_nivel'].unique()"
      ]
    },
    {
      "cell_type": "code",
      "execution_count": null,
      "metadata": {
        "id": "EdsCvAYoug22"
      },
      "outputs": [],
      "source": [
        "hh.shape"
      ]
    },
    {
      "cell_type": "markdown",
      "metadata": {
        "id": "mdTUF8fHug22"
      },
      "source": [
        "**Número de linhas retiradas**"
      ]
    },
    {
      "cell_type": "code",
      "execution_count": null,
      "metadata": {
        "id": "EbXMDm4zug23",
        "outputId": "c0fa84bb-e7b7-4d09-9473-563af37ff0fb",
        "colab": {
          "base_uri": "https://localhost:8080/"
        }
      },
      "outputs": [
        {
          "output_type": "execute_result",
          "data": {
            "text/plain": [
              "430960"
            ]
          },
          "metadata": {},
          "execution_count": 18
        }
      ],
      "source": [
        "2417671 - 1986711"
      ]
    },
    {
      "cell_type": "code",
      "execution_count": null,
      "metadata": {
        "id": "dhIG7VXgug24",
        "outputId": "bdd922f0-0f46-4677-8ee4-4ed7a94f4c76",
        "colab": {
          "base_uri": "https://localhost:8080/"
        }
      },
      "outputs": [
        {
          "output_type": "execute_result",
          "data": {
            "text/plain": [
              "Index(['nr_anoletivo', 'id_crede_sefor', 'nm_crede_sefor', 'id_municipio',\n",
              "       'nm_municipio', 'id_escola', 'nm_escola', 'nm_categoria',\n",
              "       'ds_modalidade', 'ds_nivel', 'ci_turma', 'ds_etapa', 'ds_turma',\n",
              "       'ds_turno', 'nm_curso', 'cd_aluno', 'dt_nascimento', 'ds_sexo',\n",
              "       'ds_raca'],\n",
              "      dtype='object')"
            ]
          },
          "metadata": {},
          "execution_count": 19
        }
      ],
      "source": [
        "hh.columns"
      ]
    },
    {
      "cell_type": "code",
      "execution_count": null,
      "metadata": {
        "id": "OOSREr1mug26"
      },
      "outputs": [],
      "source": [
        "hh.columns"
      ]
    },
    {
      "cell_type": "markdown",
      "source": [
        "Agrupamento dos dados por: 'nr_anoletivo', 'nm_escola', 'ds_nivel', 'ds_etapa', 'cd_aluno', 'nm_crede_sefor', 'nm_municipio', 'nm_categoria', 'ds_modalidade', 'ds_turno', 'nm_curso', 'dt_nascimento', 'ds_sexo', 'ds_raca'.\n",
        "\n",
        "\n",
        "\n"
      ],
      "metadata": {
        "id": "aXhpSiQDx0wv"
      }
    },
    {
      "cell_type": "code",
      "execution_count": null,
      "metadata": {
        "id": "eaOyC1M6ug26"
      },
      "outputs": [],
      "source": [
        "bb=hh[['nr_anoletivo', 'nm_escola', 'ds_nivel', 'ds_etapa', 'cd_aluno', 'nm_crede_sefor', 'nm_municipio', 'nm_categoria', 'ds_modalidade', 'ds_turno', 'nm_curso', 'dt_nascimento', 'ds_sexo', 'ds_raca']]"
      ]
    },
    {
      "cell_type": "code",
      "execution_count": null,
      "metadata": {
        "id": "eIvuXcxIug27",
        "outputId": "c8b4b1e8-d0c2-493e-e342-aa934bba13a9"
      },
      "outputs": [
        {
          "data": {
            "text/plain": [
              "2015    2015\n",
              "2015    2015\n",
              "2015    2015\n",
              "2015    2015\n",
              "2015    2015\n",
              "        ... \n",
              "2020    2015\n",
              "2020    2015\n",
              "2020    2015\n",
              "2020    2015\n",
              "2020    2015\n",
              "Name: ano, Length: 1986712, dtype: int64"
            ]
          },
          "execution_count": 15,
          "metadata": {},
          "output_type": "execute_result"
        }
      ],
      "source": [
        "bb['ano'].loc[bb['nr_anoletivo']]"
      ]
    },
    {
      "cell_type": "code",
      "execution_count": null,
      "metadata": {
        "id": "aJECKsc_ug27",
        "outputId": "f4a486ee-cc8a-4bc1-8d59-9c9836e1a64a",
        "colab": {
          "base_uri": "https://localhost:8080/",
          "height": 531
        }
      },
      "outputs": [
        {
          "output_type": "execute_result",
          "data": {
            "text/plain": [
              "   nr_anoletivo        nm_escola      ds_nivel  ds_etapa  \\\n",
              "0          2015  EEMTI LIA SIDOU  Ensino Médio  1ª Série   \n",
              "1          2015  EEMTI LIA SIDOU  Ensino Médio  1ª Série   \n",
              "2          2015  EEMTI LIA SIDOU  Ensino Médio  1ª Série   \n",
              "3          2015  EEMTI LIA SIDOU  Ensino Médio  1ª Série   \n",
              "4          2015  EEMTI LIA SIDOU  Ensino Médio  1ª Série   \n",
              "\n",
              "                                   cd_aluno nm_crede_sefor nm_municipio  \\\n",
              "0  b327d57c3a54103a63c7979f861c46cb4a214f6d        CREDE 1      Aquiraz   \n",
              "1  00d6f5760b07f95e4e7a2b2a46da51b55fd9f432        CREDE 1      Aquiraz   \n",
              "2  d553cdf580fdcbc6d9f50475d10349f21629bfa8        CREDE 1      Aquiraz   \n",
              "3  99d8b2f108857d62be66862e926f03323d3a245a        CREDE 1      Aquiraz   \n",
              "4  3e9568340f276ed8f29540321647357bdf0615e7        CREDE 1      Aquiraz   \n",
              "\n",
              "     nm_categoria ds_modalidade ds_turno               nm_curso dt_nascimento  \\\n",
              "0  Tempo Integral       Regular    Manhã  --- NÃO SE APLICA ---    04/03/1999   \n",
              "1  Tempo Integral       Regular    Manhã  --- NÃO SE APLICA ---    19/12/1999   \n",
              "2  Tempo Integral       Regular    Manhã  --- NÃO SE APLICA ---    17/05/1999   \n",
              "3  Tempo Integral       Regular    Manhã  --- NÃO SE APLICA ---    24/06/1998   \n",
              "4  Tempo Integral       Regular    Manhã  --- NÃO SE APLICA ---    11/10/1999   \n",
              "\n",
              "     ds_sexo ds_raca  \n",
              "0   Feminino   Parda  \n",
              "1  Masculino   Parda  \n",
              "2  Masculino   Parda  \n",
              "3  Masculino   Parda  \n",
              "4   Feminino   Parda  "
            ],
            "text/html": [
              "\n",
              "  <div id=\"df-71887dbe-8d8a-40b6-813e-753e17cdfa26\">\n",
              "    <div class=\"colab-df-container\">\n",
              "      <div>\n",
              "<style scoped>\n",
              "    .dataframe tbody tr th:only-of-type {\n",
              "        vertical-align: middle;\n",
              "    }\n",
              "\n",
              "    .dataframe tbody tr th {\n",
              "        vertical-align: top;\n",
              "    }\n",
              "\n",
              "    .dataframe thead th {\n",
              "        text-align: right;\n",
              "    }\n",
              "</style>\n",
              "<table border=\"1\" class=\"dataframe\">\n",
              "  <thead>\n",
              "    <tr style=\"text-align: right;\">\n",
              "      <th></th>\n",
              "      <th>nr_anoletivo</th>\n",
              "      <th>nm_escola</th>\n",
              "      <th>ds_nivel</th>\n",
              "      <th>ds_etapa</th>\n",
              "      <th>cd_aluno</th>\n",
              "      <th>nm_crede_sefor</th>\n",
              "      <th>nm_municipio</th>\n",
              "      <th>nm_categoria</th>\n",
              "      <th>ds_modalidade</th>\n",
              "      <th>ds_turno</th>\n",
              "      <th>nm_curso</th>\n",
              "      <th>dt_nascimento</th>\n",
              "      <th>ds_sexo</th>\n",
              "      <th>ds_raca</th>\n",
              "    </tr>\n",
              "  </thead>\n",
              "  <tbody>\n",
              "    <tr>\n",
              "      <th>0</th>\n",
              "      <td>2015</td>\n",
              "      <td>EEMTI LIA SIDOU</td>\n",
              "      <td>Ensino Médio</td>\n",
              "      <td>1ª Série</td>\n",
              "      <td>b327d57c3a54103a63c7979f861c46cb4a214f6d</td>\n",
              "      <td>CREDE 1</td>\n",
              "      <td>Aquiraz</td>\n",
              "      <td>Tempo Integral</td>\n",
              "      <td>Regular</td>\n",
              "      <td>Manhã</td>\n",
              "      <td>--- NÃO SE APLICA ---</td>\n",
              "      <td>04/03/1999</td>\n",
              "      <td>Feminino</td>\n",
              "      <td>Parda</td>\n",
              "    </tr>\n",
              "    <tr>\n",
              "      <th>1</th>\n",
              "      <td>2015</td>\n",
              "      <td>EEMTI LIA SIDOU</td>\n",
              "      <td>Ensino Médio</td>\n",
              "      <td>1ª Série</td>\n",
              "      <td>00d6f5760b07f95e4e7a2b2a46da51b55fd9f432</td>\n",
              "      <td>CREDE 1</td>\n",
              "      <td>Aquiraz</td>\n",
              "      <td>Tempo Integral</td>\n",
              "      <td>Regular</td>\n",
              "      <td>Manhã</td>\n",
              "      <td>--- NÃO SE APLICA ---</td>\n",
              "      <td>19/12/1999</td>\n",
              "      <td>Masculino</td>\n",
              "      <td>Parda</td>\n",
              "    </tr>\n",
              "    <tr>\n",
              "      <th>2</th>\n",
              "      <td>2015</td>\n",
              "      <td>EEMTI LIA SIDOU</td>\n",
              "      <td>Ensino Médio</td>\n",
              "      <td>1ª Série</td>\n",
              "      <td>d553cdf580fdcbc6d9f50475d10349f21629bfa8</td>\n",
              "      <td>CREDE 1</td>\n",
              "      <td>Aquiraz</td>\n",
              "      <td>Tempo Integral</td>\n",
              "      <td>Regular</td>\n",
              "      <td>Manhã</td>\n",
              "      <td>--- NÃO SE APLICA ---</td>\n",
              "      <td>17/05/1999</td>\n",
              "      <td>Masculino</td>\n",
              "      <td>Parda</td>\n",
              "    </tr>\n",
              "    <tr>\n",
              "      <th>3</th>\n",
              "      <td>2015</td>\n",
              "      <td>EEMTI LIA SIDOU</td>\n",
              "      <td>Ensino Médio</td>\n",
              "      <td>1ª Série</td>\n",
              "      <td>99d8b2f108857d62be66862e926f03323d3a245a</td>\n",
              "      <td>CREDE 1</td>\n",
              "      <td>Aquiraz</td>\n",
              "      <td>Tempo Integral</td>\n",
              "      <td>Regular</td>\n",
              "      <td>Manhã</td>\n",
              "      <td>--- NÃO SE APLICA ---</td>\n",
              "      <td>24/06/1998</td>\n",
              "      <td>Masculino</td>\n",
              "      <td>Parda</td>\n",
              "    </tr>\n",
              "    <tr>\n",
              "      <th>4</th>\n",
              "      <td>2015</td>\n",
              "      <td>EEMTI LIA SIDOU</td>\n",
              "      <td>Ensino Médio</td>\n",
              "      <td>1ª Série</td>\n",
              "      <td>3e9568340f276ed8f29540321647357bdf0615e7</td>\n",
              "      <td>CREDE 1</td>\n",
              "      <td>Aquiraz</td>\n",
              "      <td>Tempo Integral</td>\n",
              "      <td>Regular</td>\n",
              "      <td>Manhã</td>\n",
              "      <td>--- NÃO SE APLICA ---</td>\n",
              "      <td>11/10/1999</td>\n",
              "      <td>Feminino</td>\n",
              "      <td>Parda</td>\n",
              "    </tr>\n",
              "  </tbody>\n",
              "</table>\n",
              "</div>\n",
              "      <button class=\"colab-df-convert\" onclick=\"convertToInteractive('df-71887dbe-8d8a-40b6-813e-753e17cdfa26')\"\n",
              "              title=\"Convert this dataframe to an interactive table.\"\n",
              "              style=\"display:none;\">\n",
              "        \n",
              "  <svg xmlns=\"http://www.w3.org/2000/svg\" height=\"24px\"viewBox=\"0 0 24 24\"\n",
              "       width=\"24px\">\n",
              "    <path d=\"M0 0h24v24H0V0z\" fill=\"none\"/>\n",
              "    <path d=\"M18.56 5.44l.94 2.06.94-2.06 2.06-.94-2.06-.94-.94-2.06-.94 2.06-2.06.94zm-11 1L8.5 8.5l.94-2.06 2.06-.94-2.06-.94L8.5 2.5l-.94 2.06-2.06.94zm10 10l.94 2.06.94-2.06 2.06-.94-2.06-.94-.94-2.06-.94 2.06-2.06.94z\"/><path d=\"M17.41 7.96l-1.37-1.37c-.4-.4-.92-.59-1.43-.59-.52 0-1.04.2-1.43.59L10.3 9.45l-7.72 7.72c-.78.78-.78 2.05 0 2.83L4 21.41c.39.39.9.59 1.41.59.51 0 1.02-.2 1.41-.59l7.78-7.78 2.81-2.81c.8-.78.8-2.07 0-2.86zM5.41 20L4 18.59l7.72-7.72 1.47 1.35L5.41 20z\"/>\n",
              "  </svg>\n",
              "      </button>\n",
              "      \n",
              "  <style>\n",
              "    .colab-df-container {\n",
              "      display:flex;\n",
              "      flex-wrap:wrap;\n",
              "      gap: 12px;\n",
              "    }\n",
              "\n",
              "    .colab-df-convert {\n",
              "      background-color: #E8F0FE;\n",
              "      border: none;\n",
              "      border-radius: 50%;\n",
              "      cursor: pointer;\n",
              "      display: none;\n",
              "      fill: #1967D2;\n",
              "      height: 32px;\n",
              "      padding: 0 0 0 0;\n",
              "      width: 32px;\n",
              "    }\n",
              "\n",
              "    .colab-df-convert:hover {\n",
              "      background-color: #E2EBFA;\n",
              "      box-shadow: 0px 1px 2px rgba(60, 64, 67, 0.3), 0px 1px 3px 1px rgba(60, 64, 67, 0.15);\n",
              "      fill: #174EA6;\n",
              "    }\n",
              "\n",
              "    [theme=dark] .colab-df-convert {\n",
              "      background-color: #3B4455;\n",
              "      fill: #D2E3FC;\n",
              "    }\n",
              "\n",
              "    [theme=dark] .colab-df-convert:hover {\n",
              "      background-color: #434B5C;\n",
              "      box-shadow: 0px 1px 3px 1px rgba(0, 0, 0, 0.15);\n",
              "      filter: drop-shadow(0px 1px 2px rgba(0, 0, 0, 0.3));\n",
              "      fill: #FFFFFF;\n",
              "    }\n",
              "  </style>\n",
              "\n",
              "      <script>\n",
              "        const buttonEl =\n",
              "          document.querySelector('#df-71887dbe-8d8a-40b6-813e-753e17cdfa26 button.colab-df-convert');\n",
              "        buttonEl.style.display =\n",
              "          google.colab.kernel.accessAllowed ? 'block' : 'none';\n",
              "\n",
              "        async function convertToInteractive(key) {\n",
              "          const element = document.querySelector('#df-71887dbe-8d8a-40b6-813e-753e17cdfa26');\n",
              "          const dataTable =\n",
              "            await google.colab.kernel.invokeFunction('convertToInteractive',\n",
              "                                                     [key], {});\n",
              "          if (!dataTable) return;\n",
              "\n",
              "          const docLinkHtml = 'Like what you see? Visit the ' +\n",
              "            '<a target=\"_blank\" href=https://colab.research.google.com/notebooks/data_table.ipynb>data table notebook</a>'\n",
              "            + ' to learn more about interactive tables.';\n",
              "          element.innerHTML = '';\n",
              "          dataTable['output_type'] = 'display_data';\n",
              "          await google.colab.output.renderOutput(dataTable, element);\n",
              "          const docLink = document.createElement('div');\n",
              "          docLink.innerHTML = docLinkHtml;\n",
              "          element.appendChild(docLink);\n",
              "        }\n",
              "      </script>\n",
              "    </div>\n",
              "  </div>\n",
              "  "
            ]
          },
          "metadata": {},
          "execution_count": 21
        }
      ],
      "source": [
        "bb.head()"
      ]
    },
    {
      "cell_type": "code",
      "execution_count": null,
      "metadata": {
        "id": "K3yLBN5lug28",
        "outputId": "d1f9706a-40fb-4281-8448-6c1f4b60bd28"
      },
      "outputs": [
        {
          "data": {
            "text/plain": [
              "Index(['nr_anoletivo', 'nm_escola', 'ds_nivel', 'ds_etapa', 'cd_aluno',\n",
              "       'nm_crede_sefor', 'nm_municipio', 'nm_categoria', 'ds_modalidade',\n",
              "       'ds_turno', 'nm_curso', 'dt_nascimento', 'ds_sexo', 'ds_raca', 'ano'],\n",
              "      dtype='object')"
            ]
          },
          "execution_count": 17,
          "metadata": {},
          "output_type": "execute_result"
        }
      ],
      "source": [
        "bb.columns"
      ]
    },
    {
      "cell_type": "markdown",
      "source": [
        "Com o agrupamento começando pelo aluno conseguimos ver quantas vezes o aluno repetiu uma série, observando ordenamento da coluna ds_etapa"
      ],
      "metadata": {
        "id": "70nRUODCyRXM"
      }
    },
    {
      "cell_type": "code",
      "execution_count": null,
      "metadata": {
        "id": "MAoU8CBoug29"
      },
      "outputs": [],
      "source": [
        "vs=bb.groupby(['cd_aluno', 'dt_nascimento', 'ds_raca', 'ds_sexo', 'nm_municipio', 'nm_crede_sefor', 'nm_escola', 'ds_modalidade', 'ds_turno', 'nm_categoria', 'ds_nivel', 'nm_curso', 'ds_etapa', 'nr_anoletivo']).count().reset_index()"
      ]
    },
    {
      "cell_type": "code",
      "execution_count": null,
      "metadata": {
        "id": "Us3VOeyaug29",
        "outputId": "99c75fed-5ea7-43b7-fdbb-c0ae2e70d4b0",
        "colab": {
          "base_uri": "https://localhost:8080/",
          "height": 922
        }
      },
      "outputs": [
        {
          "output_type": "execute_result",
          "data": {
            "text/plain": [
              "                                         cd_aluno dt_nascimento  \\\n",
              "0        0000200f8c8d8142c9064366a415d1e296510654    09/11/2001   \n",
              "1        0000200f8c8d8142c9064366a415d1e296510654    09/11/2001   \n",
              "2        0000200f8c8d8142c9064366a415d1e296510654    09/11/2001   \n",
              "3        00006265ab48ceca7d2556c1591c5c466cb66aa0    01/07/2005   \n",
              "4        00006265ab48ceca7d2556c1591c5c466cb66aa0    01/07/2005   \n",
              "...                                           ...           ...   \n",
              "1986706  ffffec72cc97fe9d91809bfd8445d11b14c6d1d8    11/11/1996   \n",
              "1986707  ffffec72cc97fe9d91809bfd8445d11b14c6d1d8    11/11/1996   \n",
              "1986708  fffffacc82ef034fc5f4da6dbfd0fe1026fbc6f7    19/02/2003   \n",
              "1986709  fffffacc82ef034fc5f4da6dbfd0fe1026fbc6f7    19/02/2003   \n",
              "1986710  fffffacc82ef034fc5f4da6dbfd0fe1026fbc6f7    19/02/2003   \n",
              "\n",
              "               ds_raca    ds_sexo nm_municipio nm_crede_sefor  \\\n",
              "0                Parda  Masculino      Pereiro       CREDE 11   \n",
              "1                Parda  Masculino      Pereiro       CREDE 11   \n",
              "2                Parda  Masculino      Pereiro       CREDE 11   \n",
              "3        Não Declarada  Masculino    Fortaleza        SEFOR 3   \n",
              "4        Não Declarada  Masculino    Fortaleza        SEFOR 3   \n",
              "...                ...        ...          ...            ...   \n",
              "1986706          Parda   Feminino     Pacatuba        CREDE 1   \n",
              "1986707          Parda   Feminino     Pacatuba        CREDE 1   \n",
              "1986708          Parda  Masculino      Aracati       CREDE 10   \n",
              "1986709          Parda  Masculino      Aracati       CREDE 10   \n",
              "1986710          Parda  Masculino      Aracati       CREDE 10   \n",
              "\n",
              "                                       nm_escola ds_modalidade  ds_turno  \\\n",
              "0                      EEM VIRGÍLIO CORREIA LIMA       Regular     Manhã   \n",
              "1                      EEM VIRGÍLIO CORREIA LIMA       Regular     Manhã   \n",
              "2                      EEM VIRGÍLIO CORREIA LIMA       Regular     Manhã   \n",
              "3           EEFM DOUTOR UBIRAJARA ÍNDIO DO CEARÁ       Regular     Manhã   \n",
              "4           EEFM DOUTOR UBIRAJARA ÍNDIO DO CEARÁ       Regular     Manhã   \n",
              "...                                          ...           ...       ...   \n",
              "1986706  EEEP PROFESSORA LUIZA DE TEODORO VIEIRA  Profissional  Integral   \n",
              "1986707  EEEP PROFESSORA LUIZA DE TEODORO VIEIRA       Regular  Integral   \n",
              "1986708                     EEM BARÃO DE ARACATI       Regular     Tarde   \n",
              "1986709                     EEM BARÃO DE ARACATI       Regular     Tarde   \n",
              "1986710                     EEM BARÃO DE ARACATI       Regular     Tarde   \n",
              "\n",
              "         nm_categoria            ds_nivel               nm_curso  \\\n",
              "0             Regular        Ensino Médio  --- NÃO SE APLICA ---   \n",
              "1             Regular        Ensino Médio  --- NÃO SE APLICA ---   \n",
              "2             Regular        Ensino Médio  --- NÃO SE APLICA ---   \n",
              "3             Regular  Ensino Fundamental  --- NÃO SE APLICA ---   \n",
              "4             Regular        Ensino Médio  --- NÃO SE APLICA ---   \n",
              "...               ...                 ...                    ...   \n",
              "1986706  Profissional        Ensino Médio  TÉCNICO EM ENFERMAGEM   \n",
              "1986707  Profissional        Ensino Médio  TÉCNICO EM ENFERMAGEM   \n",
              "1986708       Regular        Ensino Médio  --- NÃO SE APLICA ---   \n",
              "1986709       Regular        Ensino Médio  --- NÃO SE APLICA ---   \n",
              "1986710       Regular        Ensino Médio  --- NÃO SE APLICA ---   \n",
              "\n",
              "                   ds_etapa  nr_anoletivo  \n",
              "0                  1ª Série          2017  \n",
              "1                  2ª Série          2018  \n",
              "2                  2ª Série          2019  \n",
              "3                    9º ano          2018  \n",
              "4                  1ª Série          2019  \n",
              "...                     ...           ...  \n",
              "1986706  Integrado 3ª Série          2016  \n",
              "1986707  Integrado 2ª Série          2015  \n",
              "1986708            1ª Série          2018  \n",
              "1986709            2ª Série          2019  \n",
              "1986710            3ª Série          2020  \n",
              "\n",
              "[1986711 rows x 14 columns]"
            ],
            "text/html": [
              "\n",
              "  <div id=\"df-e8a7fa6f-19b7-4f3b-abd2-3589471677e1\">\n",
              "    <div class=\"colab-df-container\">\n",
              "      <div>\n",
              "<style scoped>\n",
              "    .dataframe tbody tr th:only-of-type {\n",
              "        vertical-align: middle;\n",
              "    }\n",
              "\n",
              "    .dataframe tbody tr th {\n",
              "        vertical-align: top;\n",
              "    }\n",
              "\n",
              "    .dataframe thead th {\n",
              "        text-align: right;\n",
              "    }\n",
              "</style>\n",
              "<table border=\"1\" class=\"dataframe\">\n",
              "  <thead>\n",
              "    <tr style=\"text-align: right;\">\n",
              "      <th></th>\n",
              "      <th>cd_aluno</th>\n",
              "      <th>dt_nascimento</th>\n",
              "      <th>ds_raca</th>\n",
              "      <th>ds_sexo</th>\n",
              "      <th>nm_municipio</th>\n",
              "      <th>nm_crede_sefor</th>\n",
              "      <th>nm_escola</th>\n",
              "      <th>ds_modalidade</th>\n",
              "      <th>ds_turno</th>\n",
              "      <th>nm_categoria</th>\n",
              "      <th>ds_nivel</th>\n",
              "      <th>nm_curso</th>\n",
              "      <th>ds_etapa</th>\n",
              "      <th>nr_anoletivo</th>\n",
              "    </tr>\n",
              "  </thead>\n",
              "  <tbody>\n",
              "    <tr>\n",
              "      <th>0</th>\n",
              "      <td>0000200f8c8d8142c9064366a415d1e296510654</td>\n",
              "      <td>09/11/2001</td>\n",
              "      <td>Parda</td>\n",
              "      <td>Masculino</td>\n",
              "      <td>Pereiro</td>\n",
              "      <td>CREDE 11</td>\n",
              "      <td>EEM VIRGÍLIO CORREIA LIMA</td>\n",
              "      <td>Regular</td>\n",
              "      <td>Manhã</td>\n",
              "      <td>Regular</td>\n",
              "      <td>Ensino Médio</td>\n",
              "      <td>--- NÃO SE APLICA ---</td>\n",
              "      <td>1ª Série</td>\n",
              "      <td>2017</td>\n",
              "    </tr>\n",
              "    <tr>\n",
              "      <th>1</th>\n",
              "      <td>0000200f8c8d8142c9064366a415d1e296510654</td>\n",
              "      <td>09/11/2001</td>\n",
              "      <td>Parda</td>\n",
              "      <td>Masculino</td>\n",
              "      <td>Pereiro</td>\n",
              "      <td>CREDE 11</td>\n",
              "      <td>EEM VIRGÍLIO CORREIA LIMA</td>\n",
              "      <td>Regular</td>\n",
              "      <td>Manhã</td>\n",
              "      <td>Regular</td>\n",
              "      <td>Ensino Médio</td>\n",
              "      <td>--- NÃO SE APLICA ---</td>\n",
              "      <td>2ª Série</td>\n",
              "      <td>2018</td>\n",
              "    </tr>\n",
              "    <tr>\n",
              "      <th>2</th>\n",
              "      <td>0000200f8c8d8142c9064366a415d1e296510654</td>\n",
              "      <td>09/11/2001</td>\n",
              "      <td>Parda</td>\n",
              "      <td>Masculino</td>\n",
              "      <td>Pereiro</td>\n",
              "      <td>CREDE 11</td>\n",
              "      <td>EEM VIRGÍLIO CORREIA LIMA</td>\n",
              "      <td>Regular</td>\n",
              "      <td>Manhã</td>\n",
              "      <td>Regular</td>\n",
              "      <td>Ensino Médio</td>\n",
              "      <td>--- NÃO SE APLICA ---</td>\n",
              "      <td>2ª Série</td>\n",
              "      <td>2019</td>\n",
              "    </tr>\n",
              "    <tr>\n",
              "      <th>3</th>\n",
              "      <td>00006265ab48ceca7d2556c1591c5c466cb66aa0</td>\n",
              "      <td>01/07/2005</td>\n",
              "      <td>Não Declarada</td>\n",
              "      <td>Masculino</td>\n",
              "      <td>Fortaleza</td>\n",
              "      <td>SEFOR 3</td>\n",
              "      <td>EEFM DOUTOR UBIRAJARA ÍNDIO DO CEARÁ</td>\n",
              "      <td>Regular</td>\n",
              "      <td>Manhã</td>\n",
              "      <td>Regular</td>\n",
              "      <td>Ensino Fundamental</td>\n",
              "      <td>--- NÃO SE APLICA ---</td>\n",
              "      <td>9º ano</td>\n",
              "      <td>2018</td>\n",
              "    </tr>\n",
              "    <tr>\n",
              "      <th>4</th>\n",
              "      <td>00006265ab48ceca7d2556c1591c5c466cb66aa0</td>\n",
              "      <td>01/07/2005</td>\n",
              "      <td>Não Declarada</td>\n",
              "      <td>Masculino</td>\n",
              "      <td>Fortaleza</td>\n",
              "      <td>SEFOR 3</td>\n",
              "      <td>EEFM DOUTOR UBIRAJARA ÍNDIO DO CEARÁ</td>\n",
              "      <td>Regular</td>\n",
              "      <td>Manhã</td>\n",
              "      <td>Regular</td>\n",
              "      <td>Ensino Médio</td>\n",
              "      <td>--- NÃO SE APLICA ---</td>\n",
              "      <td>1ª Série</td>\n",
              "      <td>2019</td>\n",
              "    </tr>\n",
              "    <tr>\n",
              "      <th>...</th>\n",
              "      <td>...</td>\n",
              "      <td>...</td>\n",
              "      <td>...</td>\n",
              "      <td>...</td>\n",
              "      <td>...</td>\n",
              "      <td>...</td>\n",
              "      <td>...</td>\n",
              "      <td>...</td>\n",
              "      <td>...</td>\n",
              "      <td>...</td>\n",
              "      <td>...</td>\n",
              "      <td>...</td>\n",
              "      <td>...</td>\n",
              "      <td>...</td>\n",
              "    </tr>\n",
              "    <tr>\n",
              "      <th>1986706</th>\n",
              "      <td>ffffec72cc97fe9d91809bfd8445d11b14c6d1d8</td>\n",
              "      <td>11/11/1996</td>\n",
              "      <td>Parda</td>\n",
              "      <td>Feminino</td>\n",
              "      <td>Pacatuba</td>\n",
              "      <td>CREDE 1</td>\n",
              "      <td>EEEP PROFESSORA LUIZA DE TEODORO VIEIRA</td>\n",
              "      <td>Profissional</td>\n",
              "      <td>Integral</td>\n",
              "      <td>Profissional</td>\n",
              "      <td>Ensino Médio</td>\n",
              "      <td>TÉCNICO EM ENFERMAGEM</td>\n",
              "      <td>Integrado 3ª Série</td>\n",
              "      <td>2016</td>\n",
              "    </tr>\n",
              "    <tr>\n",
              "      <th>1986707</th>\n",
              "      <td>ffffec72cc97fe9d91809bfd8445d11b14c6d1d8</td>\n",
              "      <td>11/11/1996</td>\n",
              "      <td>Parda</td>\n",
              "      <td>Feminino</td>\n",
              "      <td>Pacatuba</td>\n",
              "      <td>CREDE 1</td>\n",
              "      <td>EEEP PROFESSORA LUIZA DE TEODORO VIEIRA</td>\n",
              "      <td>Regular</td>\n",
              "      <td>Integral</td>\n",
              "      <td>Profissional</td>\n",
              "      <td>Ensino Médio</td>\n",
              "      <td>TÉCNICO EM ENFERMAGEM</td>\n",
              "      <td>Integrado 2ª Série</td>\n",
              "      <td>2015</td>\n",
              "    </tr>\n",
              "    <tr>\n",
              "      <th>1986708</th>\n",
              "      <td>fffffacc82ef034fc5f4da6dbfd0fe1026fbc6f7</td>\n",
              "      <td>19/02/2003</td>\n",
              "      <td>Parda</td>\n",
              "      <td>Masculino</td>\n",
              "      <td>Aracati</td>\n",
              "      <td>CREDE 10</td>\n",
              "      <td>EEM BARÃO DE ARACATI</td>\n",
              "      <td>Regular</td>\n",
              "      <td>Tarde</td>\n",
              "      <td>Regular</td>\n",
              "      <td>Ensino Médio</td>\n",
              "      <td>--- NÃO SE APLICA ---</td>\n",
              "      <td>1ª Série</td>\n",
              "      <td>2018</td>\n",
              "    </tr>\n",
              "    <tr>\n",
              "      <th>1986709</th>\n",
              "      <td>fffffacc82ef034fc5f4da6dbfd0fe1026fbc6f7</td>\n",
              "      <td>19/02/2003</td>\n",
              "      <td>Parda</td>\n",
              "      <td>Masculino</td>\n",
              "      <td>Aracati</td>\n",
              "      <td>CREDE 10</td>\n",
              "      <td>EEM BARÃO DE ARACATI</td>\n",
              "      <td>Regular</td>\n",
              "      <td>Tarde</td>\n",
              "      <td>Regular</td>\n",
              "      <td>Ensino Médio</td>\n",
              "      <td>--- NÃO SE APLICA ---</td>\n",
              "      <td>2ª Série</td>\n",
              "      <td>2019</td>\n",
              "    </tr>\n",
              "    <tr>\n",
              "      <th>1986710</th>\n",
              "      <td>fffffacc82ef034fc5f4da6dbfd0fe1026fbc6f7</td>\n",
              "      <td>19/02/2003</td>\n",
              "      <td>Parda</td>\n",
              "      <td>Masculino</td>\n",
              "      <td>Aracati</td>\n",
              "      <td>CREDE 10</td>\n",
              "      <td>EEM BARÃO DE ARACATI</td>\n",
              "      <td>Regular</td>\n",
              "      <td>Tarde</td>\n",
              "      <td>Regular</td>\n",
              "      <td>Ensino Médio</td>\n",
              "      <td>--- NÃO SE APLICA ---</td>\n",
              "      <td>3ª Série</td>\n",
              "      <td>2020</td>\n",
              "    </tr>\n",
              "  </tbody>\n",
              "</table>\n",
              "<p>1986711 rows × 14 columns</p>\n",
              "</div>\n",
              "      <button class=\"colab-df-convert\" onclick=\"convertToInteractive('df-e8a7fa6f-19b7-4f3b-abd2-3589471677e1')\"\n",
              "              title=\"Convert this dataframe to an interactive table.\"\n",
              "              style=\"display:none;\">\n",
              "        \n",
              "  <svg xmlns=\"http://www.w3.org/2000/svg\" height=\"24px\"viewBox=\"0 0 24 24\"\n",
              "       width=\"24px\">\n",
              "    <path d=\"M0 0h24v24H0V0z\" fill=\"none\"/>\n",
              "    <path d=\"M18.56 5.44l.94 2.06.94-2.06 2.06-.94-2.06-.94-.94-2.06-.94 2.06-2.06.94zm-11 1L8.5 8.5l.94-2.06 2.06-.94-2.06-.94L8.5 2.5l-.94 2.06-2.06.94zm10 10l.94 2.06.94-2.06 2.06-.94-2.06-.94-.94-2.06-.94 2.06-2.06.94z\"/><path d=\"M17.41 7.96l-1.37-1.37c-.4-.4-.92-.59-1.43-.59-.52 0-1.04.2-1.43.59L10.3 9.45l-7.72 7.72c-.78.78-.78 2.05 0 2.83L4 21.41c.39.39.9.59 1.41.59.51 0 1.02-.2 1.41-.59l7.78-7.78 2.81-2.81c.8-.78.8-2.07 0-2.86zM5.41 20L4 18.59l7.72-7.72 1.47 1.35L5.41 20z\"/>\n",
              "  </svg>\n",
              "      </button>\n",
              "      \n",
              "  <style>\n",
              "    .colab-df-container {\n",
              "      display:flex;\n",
              "      flex-wrap:wrap;\n",
              "      gap: 12px;\n",
              "    }\n",
              "\n",
              "    .colab-df-convert {\n",
              "      background-color: #E8F0FE;\n",
              "      border: none;\n",
              "      border-radius: 50%;\n",
              "      cursor: pointer;\n",
              "      display: none;\n",
              "      fill: #1967D2;\n",
              "      height: 32px;\n",
              "      padding: 0 0 0 0;\n",
              "      width: 32px;\n",
              "    }\n",
              "\n",
              "    .colab-df-convert:hover {\n",
              "      background-color: #E2EBFA;\n",
              "      box-shadow: 0px 1px 2px rgba(60, 64, 67, 0.3), 0px 1px 3px 1px rgba(60, 64, 67, 0.15);\n",
              "      fill: #174EA6;\n",
              "    }\n",
              "\n",
              "    [theme=dark] .colab-df-convert {\n",
              "      background-color: #3B4455;\n",
              "      fill: #D2E3FC;\n",
              "    }\n",
              "\n",
              "    [theme=dark] .colab-df-convert:hover {\n",
              "      background-color: #434B5C;\n",
              "      box-shadow: 0px 1px 3px 1px rgba(0, 0, 0, 0.15);\n",
              "      filter: drop-shadow(0px 1px 2px rgba(0, 0, 0, 0.3));\n",
              "      fill: #FFFFFF;\n",
              "    }\n",
              "  </style>\n",
              "\n",
              "      <script>\n",
              "        const buttonEl =\n",
              "          document.querySelector('#df-e8a7fa6f-19b7-4f3b-abd2-3589471677e1 button.colab-df-convert');\n",
              "        buttonEl.style.display =\n",
              "          google.colab.kernel.accessAllowed ? 'block' : 'none';\n",
              "\n",
              "        async function convertToInteractive(key) {\n",
              "          const element = document.querySelector('#df-e8a7fa6f-19b7-4f3b-abd2-3589471677e1');\n",
              "          const dataTable =\n",
              "            await google.colab.kernel.invokeFunction('convertToInteractive',\n",
              "                                                     [key], {});\n",
              "          if (!dataTable) return;\n",
              "\n",
              "          const docLinkHtml = 'Like what you see? Visit the ' +\n",
              "            '<a target=\"_blank\" href=https://colab.research.google.com/notebooks/data_table.ipynb>data table notebook</a>'\n",
              "            + ' to learn more about interactive tables.';\n",
              "          element.innerHTML = '';\n",
              "          dataTable['output_type'] = 'display_data';\n",
              "          await google.colab.output.renderOutput(dataTable, element);\n",
              "          const docLink = document.createElement('div');\n",
              "          docLink.innerHTML = docLinkHtml;\n",
              "          element.appendChild(docLink);\n",
              "        }\n",
              "      </script>\n",
              "    </div>\n",
              "  </div>\n",
              "  "
            ]
          },
          "metadata": {},
          "execution_count": 23
        }
      ],
      "source": [
        "vs"
      ]
    },
    {
      "cell_type": "code",
      "execution_count": null,
      "metadata": {
        "id": "qU-CYoGcug29",
        "outputId": "9caa719d-504f-42f6-9d53-6ecfb1318165",
        "colab": {
          "base_uri": "https://localhost:8080/"
        }
      },
      "outputs": [
        {
          "output_type": "execute_result",
          "data": {
            "text/plain": [
              "1986711"
            ]
          },
          "metadata": {},
          "execution_count": 24
        }
      ],
      "source": [
        "len(vs)"
      ]
    },
    {
      "cell_type": "markdown",
      "source": [
        "**Criando dados de aprovação ou reprovação do aluno em cada ano**"
      ],
      "metadata": {
        "id": "IEOZnmQHyvth"
      }
    },
    {
      "cell_type": "code",
      "execution_count": null,
      "metadata": {
        "id": "ajT4RPziug2-"
      },
      "outputs": [],
      "source": [
        "status=[]\n",
        "for i in range(0,1986710):\n",
        "  if vs['cd_aluno'][i] == vs['cd_aluno'][i+1] and vs['ds_etapa'][i] == vs['ds_etapa'][i+1]:\n",
        "    status.append(1)\n",
        "  else:\n",
        "    status.append(0)\n"
      ]
    },
    {
      "cell_type": "code",
      "execution_count": null,
      "metadata": {
        "id": "swLeWeQFug2-",
        "outputId": "b6364475-54b0-43e5-b589-4d5ad6c2e274",
        "colab": {
          "base_uri": "https://localhost:8080/"
        }
      },
      "outputs": [
        {
          "output_type": "execute_result",
          "data": {
            "text/plain": [
              "[0,\n",
              " 1,\n",
              " 0,\n",
              " 0,\n",
              " 0,\n",
              " 0,\n",
              " 0,\n",
              " 0,\n",
              " 0,\n",
              " 0,\n",
              " 0,\n",
              " 0,\n",
              " 1,\n",
              " 0,\n",
              " 0,\n",
              " 0,\n",
              " 0,\n",
              " 0,\n",
              " 0,\n",
              " 0,\n",
              " 0,\n",
              " 0,\n",
              " 0,\n",
              " 0,\n",
              " 0,\n",
              " 0,\n",
              " 0,\n",
              " 0,\n",
              " 0,\n",
              " 0,\n",
              " 0,\n",
              " 0,\n",
              " 0,\n",
              " 0,\n",
              " 0,\n",
              " 0,\n",
              " 0,\n",
              " 0,\n",
              " 0,\n",
              " 0,\n",
              " 0,\n",
              " 0,\n",
              " 0,\n",
              " 0,\n",
              " 0,\n",
              " 0,\n",
              " 0,\n",
              " 0,\n",
              " 0,\n",
              " 0,\n",
              " 0,\n",
              " 0,\n",
              " 0,\n",
              " 0,\n",
              " 0,\n",
              " 0,\n",
              " 0,\n",
              " 0,\n",
              " 0,\n",
              " 0,\n",
              " 0,\n",
              " 0,\n",
              " 0,\n",
              " 0,\n",
              " 0,\n",
              " 0,\n",
              " 0,\n",
              " 0,\n",
              " 0,\n",
              " 0,\n",
              " 0,\n",
              " 0,\n",
              " 0,\n",
              " 0,\n",
              " 0,\n",
              " 0,\n",
              " 0,\n",
              " 0,\n",
              " 0,\n",
              " 0,\n",
              " 0,\n",
              " 0,\n",
              " 0,\n",
              " 0,\n",
              " 0,\n",
              " 0,\n",
              " 0,\n",
              " 0,\n",
              " 0,\n",
              " 0,\n",
              " 0,\n",
              " 0,\n",
              " 0,\n",
              " 0,\n",
              " 0,\n",
              " 0,\n",
              " 0,\n",
              " 0,\n",
              " 0,\n",
              " 0,\n",
              " 0,\n",
              " 0,\n",
              " 0,\n",
              " 0,\n",
              " 0,\n",
              " 0,\n",
              " 0,\n",
              " 0,\n",
              " 0,\n",
              " 0,\n",
              " 0,\n",
              " 0,\n",
              " 0,\n",
              " 0,\n",
              " 0,\n",
              " 0,\n",
              " 0,\n",
              " 0,\n",
              " 0,\n",
              " 0,\n",
              " 0,\n",
              " 0,\n",
              " 1,\n",
              " 0,\n",
              " 0,\n",
              " 0,\n",
              " 0,\n",
              " 0,\n",
              " 0,\n",
              " 0,\n",
              " 0,\n",
              " 0,\n",
              " 0,\n",
              " 0,\n",
              " 0,\n",
              " 0,\n",
              " 0,\n",
              " 0,\n",
              " 0,\n",
              " 0,\n",
              " 0,\n",
              " 0,\n",
              " 0,\n",
              " 0,\n",
              " 0,\n",
              " 0,\n",
              " 0,\n",
              " 0,\n",
              " 0,\n",
              " 0,\n",
              " 0,\n",
              " 0,\n",
              " 0,\n",
              " 0,\n",
              " 0,\n",
              " 0,\n",
              " 0,\n",
              " 0,\n",
              " 0,\n",
              " 0,\n",
              " 0,\n",
              " 0,\n",
              " 0,\n",
              " 0,\n",
              " 0,\n",
              " 0,\n",
              " 0,\n",
              " 0,\n",
              " 0,\n",
              " 0,\n",
              " 0,\n",
              " 0,\n",
              " 0,\n",
              " 0,\n",
              " 0,\n",
              " 0,\n",
              " 0,\n",
              " 0,\n",
              " 0,\n",
              " 0,\n",
              " 0,\n",
              " 0,\n",
              " 0,\n",
              " 0,\n",
              " 0,\n",
              " 0,\n",
              " 0,\n",
              " 0,\n",
              " 0,\n",
              " 0,\n",
              " 0,\n",
              " 0,\n",
              " 0,\n",
              " 0,\n",
              " 0,\n",
              " 0,\n",
              " 0,\n",
              " 0,\n",
              " 0,\n",
              " 0,\n",
              " 0,\n",
              " 0,\n",
              " 0,\n",
              " 0,\n",
              " 0,\n",
              " 0,\n",
              " 0,\n",
              " 0,\n",
              " 0,\n",
              " 0,\n",
              " 0,\n",
              " 0,\n",
              " 0,\n",
              " 0,\n",
              " 0,\n",
              " 0,\n",
              " 0,\n",
              " 0,\n",
              " 0,\n",
              " 0,\n",
              " 0,\n",
              " 0,\n",
              " 0,\n",
              " 0,\n",
              " 0,\n",
              " 0,\n",
              " 0,\n",
              " 0,\n",
              " 0,\n",
              " 0,\n",
              " 0,\n",
              " 0,\n",
              " 0,\n",
              " 0,\n",
              " 0,\n",
              " 0,\n",
              " 0,\n",
              " 0,\n",
              " 0,\n",
              " 0,\n",
              " 0,\n",
              " 0,\n",
              " 0,\n",
              " 0,\n",
              " 0,\n",
              " 0,\n",
              " 0,\n",
              " 0,\n",
              " 0,\n",
              " 0,\n",
              " 0,\n",
              " 0,\n",
              " 0,\n",
              " 0,\n",
              " 0,\n",
              " 0,\n",
              " 0,\n",
              " 0,\n",
              " 0,\n",
              " 0,\n",
              " 0,\n",
              " 0,\n",
              " 0,\n",
              " 0,\n",
              " 0,\n",
              " 0,\n",
              " 1,\n",
              " 0,\n",
              " 0,\n",
              " 0,\n",
              " 1,\n",
              " 0,\n",
              " 0,\n",
              " 0,\n",
              " 0,\n",
              " 0,\n",
              " 0,\n",
              " 0,\n",
              " 0,\n",
              " 0,\n",
              " 0,\n",
              " 0,\n",
              " 0,\n",
              " 0,\n",
              " 0,\n",
              " 0,\n",
              " 0,\n",
              " 0,\n",
              " 0,\n",
              " 0,\n",
              " 0,\n",
              " 0,\n",
              " 0,\n",
              " 0,\n",
              " 0,\n",
              " 0,\n",
              " 0,\n",
              " 0,\n",
              " 0,\n",
              " 0,\n",
              " 0,\n",
              " 0,\n",
              " 0,\n",
              " 0,\n",
              " 0,\n",
              " 0,\n",
              " 0,\n",
              " 0,\n",
              " 0,\n",
              " 0,\n",
              " 0,\n",
              " 0,\n",
              " 0,\n",
              " 0,\n",
              " 1,\n",
              " 0,\n",
              " 0,\n",
              " 0,\n",
              " 0,\n",
              " 0,\n",
              " 0,\n",
              " 0,\n",
              " 0,\n",
              " 0,\n",
              " 0,\n",
              " 0,\n",
              " 0,\n",
              " 0,\n",
              " 0,\n",
              " 0,\n",
              " 0,\n",
              " 0,\n",
              " 0,\n",
              " 0,\n",
              " 0,\n",
              " 0,\n",
              " 0,\n",
              " 0,\n",
              " 0,\n",
              " 0,\n",
              " 0,\n",
              " 0,\n",
              " 0,\n",
              " 0,\n",
              " 0,\n",
              " 0,\n",
              " 0,\n",
              " 0,\n",
              " 0,\n",
              " 0,\n",
              " 0,\n",
              " 0,\n",
              " 0,\n",
              " 0,\n",
              " 0,\n",
              " 0,\n",
              " 0,\n",
              " 0,\n",
              " 0,\n",
              " 0,\n",
              " 0,\n",
              " 0,\n",
              " 1,\n",
              " 0,\n",
              " 0,\n",
              " 0,\n",
              " 0,\n",
              " 0,\n",
              " 0,\n",
              " 0,\n",
              " 0,\n",
              " 0,\n",
              " 0,\n",
              " 0,\n",
              " 0,\n",
              " 0,\n",
              " 0,\n",
              " 0,\n",
              " 0,\n",
              " 0,\n",
              " 0,\n",
              " 0,\n",
              " 0,\n",
              " 0,\n",
              " 0,\n",
              " 0,\n",
              " 0,\n",
              " 0,\n",
              " 0,\n",
              " 0,\n",
              " 0,\n",
              " 0,\n",
              " 0,\n",
              " 0,\n",
              " 0,\n",
              " 0,\n",
              " 0,\n",
              " 0,\n",
              " 0,\n",
              " 0,\n",
              " 0,\n",
              " 0,\n",
              " 0,\n",
              " 0,\n",
              " 0,\n",
              " 0,\n",
              " 0,\n",
              " 0,\n",
              " 0,\n",
              " 0,\n",
              " 0,\n",
              " 0,\n",
              " 0,\n",
              " 0,\n",
              " 0,\n",
              " 0,\n",
              " 0,\n",
              " 0,\n",
              " 0,\n",
              " 0,\n",
              " 0,\n",
              " 0,\n",
              " 0,\n",
              " 0,\n",
              " 0,\n",
              " 0,\n",
              " 0,\n",
              " 0,\n",
              " 0,\n",
              " 0,\n",
              " 0,\n",
              " 0,\n",
              " 0,\n",
              " 0,\n",
              " 0,\n",
              " 0,\n",
              " 0,\n",
              " 0,\n",
              " 0,\n",
              " 0,\n",
              " 0,\n",
              " 0,\n",
              " 0,\n",
              " 0,\n",
              " 0,\n",
              " 0,\n",
              " 0,\n",
              " 0,\n",
              " 0,\n",
              " 0,\n",
              " 0,\n",
              " 0,\n",
              " 0,\n",
              " 0,\n",
              " 0,\n",
              " 0,\n",
              " 0,\n",
              " 0,\n",
              " 0,\n",
              " 0,\n",
              " 1,\n",
              " 0,\n",
              " 0,\n",
              " 0,\n",
              " 0,\n",
              " 0,\n",
              " 0,\n",
              " 0,\n",
              " 1,\n",
              " 0,\n",
              " 0,\n",
              " 0,\n",
              " 0,\n",
              " 0,\n",
              " 0,\n",
              " 0,\n",
              " 0,\n",
              " 0,\n",
              " 0,\n",
              " 0,\n",
              " 0,\n",
              " 0,\n",
              " 0,\n",
              " 0,\n",
              " 0,\n",
              " 0,\n",
              " 0,\n",
              " 0,\n",
              " 0,\n",
              " 0,\n",
              " 0,\n",
              " 0,\n",
              " 1,\n",
              " 0,\n",
              " 0,\n",
              " 0,\n",
              " 0,\n",
              " 0,\n",
              " 0,\n",
              " 0,\n",
              " 0,\n",
              " 0,\n",
              " 0,\n",
              " 0,\n",
              " 0,\n",
              " 0,\n",
              " 0,\n",
              " 0,\n",
              " 0,\n",
              " 0,\n",
              " 0,\n",
              " 0,\n",
              " 0,\n",
              " 0,\n",
              " 0,\n",
              " 0,\n",
              " 0,\n",
              " 0,\n",
              " 0,\n",
              " 0,\n",
              " 0,\n",
              " 0,\n",
              " 0,\n",
              " 0,\n",
              " 0,\n",
              " 0,\n",
              " 0,\n",
              " 0,\n",
              " 0,\n",
              " 0,\n",
              " 0,\n",
              " 0,\n",
              " 0,\n",
              " 0,\n",
              " 0,\n",
              " 0,\n",
              " 0,\n",
              " 0,\n",
              " 0,\n",
              " 0,\n",
              " 0,\n",
              " 0,\n",
              " 0,\n",
              " 0,\n",
              " 0,\n",
              " 0,\n",
              " 0,\n",
              " 0,\n",
              " 0,\n",
              " 0,\n",
              " 0,\n",
              " 0,\n",
              " 0,\n",
              " 0,\n",
              " 0,\n",
              " 0,\n",
              " 0,\n",
              " 0,\n",
              " 0,\n",
              " 0,\n",
              " 0,\n",
              " 0,\n",
              " 0,\n",
              " 0,\n",
              " 0,\n",
              " 0,\n",
              " 0,\n",
              " 0,\n",
              " 0,\n",
              " 0,\n",
              " 0,\n",
              " 0,\n",
              " 0,\n",
              " 0,\n",
              " 0,\n",
              " 0,\n",
              " 0,\n",
              " 0,\n",
              " 0,\n",
              " 0,\n",
              " 0,\n",
              " 0,\n",
              " 0,\n",
              " 0,\n",
              " 0,\n",
              " 0,\n",
              " 0,\n",
              " 0,\n",
              " 0,\n",
              " 0,\n",
              " 0,\n",
              " 0,\n",
              " 0,\n",
              " 0,\n",
              " 0,\n",
              " 0,\n",
              " 0,\n",
              " 0,\n",
              " 0,\n",
              " 0,\n",
              " 0,\n",
              " 0,\n",
              " 0,\n",
              " 0,\n",
              " 0,\n",
              " 0,\n",
              " 0,\n",
              " 0,\n",
              " 0,\n",
              " 0,\n",
              " 0,\n",
              " 0,\n",
              " 0,\n",
              " 0,\n",
              " 0,\n",
              " 0,\n",
              " 0,\n",
              " 1,\n",
              " 0,\n",
              " 0,\n",
              " 0,\n",
              " 0,\n",
              " 0,\n",
              " 0,\n",
              " 0,\n",
              " 0,\n",
              " 0,\n",
              " 0,\n",
              " 0,\n",
              " 0,\n",
              " 0,\n",
              " 0,\n",
              " 0,\n",
              " 0,\n",
              " 0,\n",
              " 0,\n",
              " 0,\n",
              " 0,\n",
              " 0,\n",
              " 0,\n",
              " 0,\n",
              " 0,\n",
              " 0,\n",
              " 0,\n",
              " 0,\n",
              " 0,\n",
              " 0,\n",
              " 0,\n",
              " 0,\n",
              " 0,\n",
              " 0,\n",
              " 0,\n",
              " 0,\n",
              " 0,\n",
              " 0,\n",
              " 0,\n",
              " 0,\n",
              " 0,\n",
              " 0,\n",
              " 0,\n",
              " 0,\n",
              " 0,\n",
              " 0,\n",
              " 0,\n",
              " 0,\n",
              " 0,\n",
              " 0,\n",
              " 0,\n",
              " 0,\n",
              " 0,\n",
              " 0,\n",
              " 0,\n",
              " 0,\n",
              " 0,\n",
              " 0,\n",
              " 0,\n",
              " 0,\n",
              " 0,\n",
              " 0,\n",
              " 0,\n",
              " 0,\n",
              " 0,\n",
              " 0,\n",
              " 0,\n",
              " 0,\n",
              " 0,\n",
              " 0,\n",
              " 0,\n",
              " 0,\n",
              " 0,\n",
              " 0,\n",
              " 1,\n",
              " 0,\n",
              " 0,\n",
              " 0,\n",
              " 0,\n",
              " 0,\n",
              " 1,\n",
              " 0,\n",
              " 0,\n",
              " 0,\n",
              " 0,\n",
              " 0,\n",
              " 0,\n",
              " 0,\n",
              " 0,\n",
              " 0,\n",
              " 0,\n",
              " 0,\n",
              " 0,\n",
              " 0,\n",
              " 0,\n",
              " 0,\n",
              " 0,\n",
              " 0,\n",
              " 0,\n",
              " 0,\n",
              " 0,\n",
              " 1,\n",
              " 0,\n",
              " 0,\n",
              " 0,\n",
              " 0,\n",
              " 0,\n",
              " 0,\n",
              " 0,\n",
              " 0,\n",
              " 0,\n",
              " 0,\n",
              " 0,\n",
              " 0,\n",
              " 0,\n",
              " 0,\n",
              " 0,\n",
              " 0,\n",
              " 0,\n",
              " 0,\n",
              " 0,\n",
              " 0,\n",
              " 0,\n",
              " 1,\n",
              " 0,\n",
              " 0,\n",
              " 0,\n",
              " 0,\n",
              " 0,\n",
              " 0,\n",
              " 0,\n",
              " 0,\n",
              " 0,\n",
              " 0,\n",
              " 0,\n",
              " 0,\n",
              " 0,\n",
              " 0,\n",
              " 0,\n",
              " 0,\n",
              " 0,\n",
              " 0,\n",
              " 0,\n",
              " 0,\n",
              " 0,\n",
              " 0,\n",
              " 0,\n",
              " 0,\n",
              " 0,\n",
              " 0,\n",
              " 0,\n",
              " 0,\n",
              " 0,\n",
              " 0,\n",
              " 0,\n",
              " 0,\n",
              " 0,\n",
              " 0,\n",
              " 0,\n",
              " 0,\n",
              " 0,\n",
              " 0,\n",
              " 0,\n",
              " 0,\n",
              " 0,\n",
              " 0,\n",
              " 0,\n",
              " 0,\n",
              " 0,\n",
              " 0,\n",
              " 0,\n",
              " 0,\n",
              " 0,\n",
              " 0,\n",
              " 0,\n",
              " 1,\n",
              " 0,\n",
              " 0,\n",
              " 0,\n",
              " 0,\n",
              " 0,\n",
              " 1,\n",
              " 0,\n",
              " 0,\n",
              " 0,\n",
              " 0,\n",
              " 0,\n",
              " 0,\n",
              " 1,\n",
              " 0,\n",
              " 0,\n",
              " 0,\n",
              " 0,\n",
              " 0,\n",
              " 0,\n",
              " 0,\n",
              " 0,\n",
              " 0,\n",
              " 0,\n",
              " 0,\n",
              " 0,\n",
              " 0,\n",
              " 0,\n",
              " 0,\n",
              " 0,\n",
              " 0,\n",
              " 0,\n",
              " 0,\n",
              " 0,\n",
              " 0,\n",
              " 0,\n",
              " 0,\n",
              " 0,\n",
              " 0,\n",
              " 0,\n",
              " 0,\n",
              " 0,\n",
              " 0,\n",
              " 0,\n",
              " 0,\n",
              " 0,\n",
              " 0,\n",
              " 0,\n",
              " 0,\n",
              " 0,\n",
              " 0,\n",
              " 0,\n",
              " 0,\n",
              " 0,\n",
              " 0,\n",
              " 0,\n",
              " 0,\n",
              " 0,\n",
              " 0,\n",
              " 0,\n",
              " 0,\n",
              " 0,\n",
              " 0,\n",
              " 0,\n",
              " 0,\n",
              " 0,\n",
              " 0,\n",
              " 0,\n",
              " 0,\n",
              " 0,\n",
              " 0,\n",
              " 0,\n",
              " 0,\n",
              " 0,\n",
              " 0,\n",
              " 0,\n",
              " 0,\n",
              " 0,\n",
              " 0,\n",
              " 0,\n",
              " 0,\n",
              " 0,\n",
              " 0,\n",
              " 0,\n",
              " 0,\n",
              " 0,\n",
              " 0,\n",
              " 0,\n",
              " 0,\n",
              " 0,\n",
              " 0,\n",
              " 0,\n",
              " 0,\n",
              " 0,\n",
              " 0,\n",
              " 0,\n",
              " 0,\n",
              " 0,\n",
              " 0,\n",
              " 0,\n",
              " 0,\n",
              " 0,\n",
              " 0,\n",
              " 0,\n",
              " 0,\n",
              " 0,\n",
              " 0,\n",
              " 0,\n",
              " 0,\n",
              " 0,\n",
              " 0,\n",
              " 0,\n",
              " 0,\n",
              " 0,\n",
              " 0,\n",
              " 0,\n",
              " 0,\n",
              " 0,\n",
              " 0,\n",
              " 0,\n",
              " 0,\n",
              " 0,\n",
              " 0,\n",
              " 0,\n",
              " 0,\n",
              " 0,\n",
              " 0,\n",
              " 0,\n",
              " 0,\n",
              " 0,\n",
              " 0,\n",
              " 0,\n",
              " 0,\n",
              " 0,\n",
              " 0,\n",
              " 0,\n",
              " 0,\n",
              " 0,\n",
              " 0,\n",
              " 0,\n",
              " 0,\n",
              " 0,\n",
              " 0,\n",
              " 0,\n",
              " 0,\n",
              " 0,\n",
              " 0,\n",
              " 0,\n",
              " 0,\n",
              " 0,\n",
              " 0,\n",
              " 0,\n",
              " 1,\n",
              " 0,\n",
              " 0,\n",
              " 0,\n",
              " 0,\n",
              " 0,\n",
              " 0,\n",
              " 0,\n",
              " 0,\n",
              " 0,\n",
              " 0,\n",
              " 0,\n",
              " 0,\n",
              " 0,\n",
              " 0,\n",
              " 0,\n",
              " 0,\n",
              " 0,\n",
              " 0,\n",
              " 0,\n",
              " 0,\n",
              " 0,\n",
              " 0,\n",
              " 0,\n",
              " 0,\n",
              " 0,\n",
              " 0,\n",
              " 0,\n",
              " 0,\n",
              " 0,\n",
              " 0,\n",
              " 0,\n",
              " 0,\n",
              " 0,\n",
              " 0,\n",
              " 0,\n",
              " 0,\n",
              " 0,\n",
              " 0,\n",
              " 0,\n",
              " 0,\n",
              " 0,\n",
              " 0,\n",
              " 0,\n",
              " 0,\n",
              " 0,\n",
              " 0,\n",
              " 0,\n",
              " 0,\n",
              " 0,\n",
              " 0,\n",
              " 0,\n",
              " 0,\n",
              " 0,\n",
              " 0,\n",
              " 0,\n",
              " ...]"
            ]
          },
          "metadata": {},
          "execution_count": 26
        }
      ],
      "source": [
        "status"
      ]
    },
    {
      "cell_type": "code",
      "execution_count": null,
      "metadata": {
        "id": "qCbYkvNOug2_",
        "outputId": "cf13abaf-742a-41b6-cf88-44908fc376f6",
        "colab": {
          "base_uri": "https://localhost:8080/"
        }
      },
      "outputs": [
        {
          "output_type": "execute_result",
          "data": {
            "text/plain": [
              "1986710"
            ]
          },
          "metadata": {},
          "execution_count": 27
        }
      ],
      "source": [
        "len(status)"
      ]
    },
    {
      "cell_type": "markdown",
      "source": [
        "Adcionando o status do último aluno"
      ],
      "metadata": {
        "id": "nAErAnjszAnQ"
      }
    },
    {
      "cell_type": "code",
      "execution_count": null,
      "metadata": {
        "id": "9sYLk2z8ug2_"
      },
      "outputs": [],
      "source": [
        "status.append(0)"
      ]
    },
    {
      "cell_type": "code",
      "execution_count": null,
      "metadata": {
        "id": "dxToVhfpug2_",
        "outputId": "dcd3f79d-d699-4d0c-9420-b650ef29adf6"
      },
      "outputs": [
        {
          "data": {
            "text/plain": [
              "1986711"
            ]
          },
          "execution_count": 25,
          "metadata": {},
          "output_type": "execute_result"
        }
      ],
      "source": [
        "len(status)"
      ]
    },
    {
      "cell_type": "code",
      "execution_count": null,
      "metadata": {
        "id": "Yq0MvAG-ug3A",
        "outputId": "c1cd60be-3af0-4fa7-bcfa-08abede0fe54",
        "colab": {
          "base_uri": "https://localhost:8080/"
        }
      },
      "outputs": [
        {
          "output_type": "execute_result",
          "data": {
            "text/plain": [
              "0"
            ]
          },
          "metadata": {},
          "execution_count": 29
        }
      ],
      "source": [
        "status[1986710]"
      ]
    },
    {
      "cell_type": "markdown",
      "source": [
        "Adicionando a coluna reprovado ou aprovado com 1 para reprovado e 0 para aprovado"
      ],
      "metadata": {
        "id": "kPKQab1lzNSm"
      }
    },
    {
      "cell_type": "code",
      "execution_count": null,
      "metadata": {
        "id": "HVSUgq61ug3A"
      },
      "outputs": [],
      "source": [
        "vs['reprovado_aprovado']=status"
      ]
    },
    {
      "cell_type": "code",
      "execution_count": null,
      "metadata": {
        "id": "JCynTXDlug3A",
        "outputId": "bb7a7497-09f9-4e33-bfb7-9d73feb1aec7",
        "colab": {
          "base_uri": "https://localhost:8080/",
          "height": 922
        }
      },
      "outputs": [
        {
          "output_type": "execute_result",
          "data": {
            "text/plain": [
              "                                         cd_aluno dt_nascimento  \\\n",
              "0        0000200f8c8d8142c9064366a415d1e296510654    09/11/2001   \n",
              "1        0000200f8c8d8142c9064366a415d1e296510654    09/11/2001   \n",
              "2        0000200f8c8d8142c9064366a415d1e296510654    09/11/2001   \n",
              "3        00006265ab48ceca7d2556c1591c5c466cb66aa0    01/07/2005   \n",
              "4        00006265ab48ceca7d2556c1591c5c466cb66aa0    01/07/2005   \n",
              "...                                           ...           ...   \n",
              "1986706  ffffec72cc97fe9d91809bfd8445d11b14c6d1d8    11/11/1996   \n",
              "1986707  ffffec72cc97fe9d91809bfd8445d11b14c6d1d8    11/11/1996   \n",
              "1986708  fffffacc82ef034fc5f4da6dbfd0fe1026fbc6f7    19/02/2003   \n",
              "1986709  fffffacc82ef034fc5f4da6dbfd0fe1026fbc6f7    19/02/2003   \n",
              "1986710  fffffacc82ef034fc5f4da6dbfd0fe1026fbc6f7    19/02/2003   \n",
              "\n",
              "               ds_raca    ds_sexo nm_municipio nm_crede_sefor  \\\n",
              "0                Parda  Masculino      Pereiro       CREDE 11   \n",
              "1                Parda  Masculino      Pereiro       CREDE 11   \n",
              "2                Parda  Masculino      Pereiro       CREDE 11   \n",
              "3        Não Declarada  Masculino    Fortaleza        SEFOR 3   \n",
              "4        Não Declarada  Masculino    Fortaleza        SEFOR 3   \n",
              "...                ...        ...          ...            ...   \n",
              "1986706          Parda   Feminino     Pacatuba        CREDE 1   \n",
              "1986707          Parda   Feminino     Pacatuba        CREDE 1   \n",
              "1986708          Parda  Masculino      Aracati       CREDE 10   \n",
              "1986709          Parda  Masculino      Aracati       CREDE 10   \n",
              "1986710          Parda  Masculino      Aracati       CREDE 10   \n",
              "\n",
              "                                       nm_escola ds_modalidade  ds_turno  \\\n",
              "0                      EEM VIRGÍLIO CORREIA LIMA       Regular     Manhã   \n",
              "1                      EEM VIRGÍLIO CORREIA LIMA       Regular     Manhã   \n",
              "2                      EEM VIRGÍLIO CORREIA LIMA       Regular     Manhã   \n",
              "3           EEFM DOUTOR UBIRAJARA ÍNDIO DO CEARÁ       Regular     Manhã   \n",
              "4           EEFM DOUTOR UBIRAJARA ÍNDIO DO CEARÁ       Regular     Manhã   \n",
              "...                                          ...           ...       ...   \n",
              "1986706  EEEP PROFESSORA LUIZA DE TEODORO VIEIRA  Profissional  Integral   \n",
              "1986707  EEEP PROFESSORA LUIZA DE TEODORO VIEIRA       Regular  Integral   \n",
              "1986708                     EEM BARÃO DE ARACATI       Regular     Tarde   \n",
              "1986709                     EEM BARÃO DE ARACATI       Regular     Tarde   \n",
              "1986710                     EEM BARÃO DE ARACATI       Regular     Tarde   \n",
              "\n",
              "         nm_categoria            ds_nivel               nm_curso  \\\n",
              "0             Regular        Ensino Médio  --- NÃO SE APLICA ---   \n",
              "1             Regular        Ensino Médio  --- NÃO SE APLICA ---   \n",
              "2             Regular        Ensino Médio  --- NÃO SE APLICA ---   \n",
              "3             Regular  Ensino Fundamental  --- NÃO SE APLICA ---   \n",
              "4             Regular        Ensino Médio  --- NÃO SE APLICA ---   \n",
              "...               ...                 ...                    ...   \n",
              "1986706  Profissional        Ensino Médio  TÉCNICO EM ENFERMAGEM   \n",
              "1986707  Profissional        Ensino Médio  TÉCNICO EM ENFERMAGEM   \n",
              "1986708       Regular        Ensino Médio  --- NÃO SE APLICA ---   \n",
              "1986709       Regular        Ensino Médio  --- NÃO SE APLICA ---   \n",
              "1986710       Regular        Ensino Médio  --- NÃO SE APLICA ---   \n",
              "\n",
              "                   ds_etapa  nr_anoletivo  reprovado_aprovado  \n",
              "0                  1ª Série          2017                   0  \n",
              "1                  2ª Série          2018                   1  \n",
              "2                  2ª Série          2019                   0  \n",
              "3                    9º ano          2018                   0  \n",
              "4                  1ª Série          2019                   0  \n",
              "...                     ...           ...                 ...  \n",
              "1986706  Integrado 3ª Série          2016                   0  \n",
              "1986707  Integrado 2ª Série          2015                   0  \n",
              "1986708            1ª Série          2018                   0  \n",
              "1986709            2ª Série          2019                   0  \n",
              "1986710            3ª Série          2020                   0  \n",
              "\n",
              "[1986711 rows x 15 columns]"
            ],
            "text/html": [
              "\n",
              "  <div id=\"df-2e3b6c00-cc36-41ee-9555-4fb84a220a0b\">\n",
              "    <div class=\"colab-df-container\">\n",
              "      <div>\n",
              "<style scoped>\n",
              "    .dataframe tbody tr th:only-of-type {\n",
              "        vertical-align: middle;\n",
              "    }\n",
              "\n",
              "    .dataframe tbody tr th {\n",
              "        vertical-align: top;\n",
              "    }\n",
              "\n",
              "    .dataframe thead th {\n",
              "        text-align: right;\n",
              "    }\n",
              "</style>\n",
              "<table border=\"1\" class=\"dataframe\">\n",
              "  <thead>\n",
              "    <tr style=\"text-align: right;\">\n",
              "      <th></th>\n",
              "      <th>cd_aluno</th>\n",
              "      <th>dt_nascimento</th>\n",
              "      <th>ds_raca</th>\n",
              "      <th>ds_sexo</th>\n",
              "      <th>nm_municipio</th>\n",
              "      <th>nm_crede_sefor</th>\n",
              "      <th>nm_escola</th>\n",
              "      <th>ds_modalidade</th>\n",
              "      <th>ds_turno</th>\n",
              "      <th>nm_categoria</th>\n",
              "      <th>ds_nivel</th>\n",
              "      <th>nm_curso</th>\n",
              "      <th>ds_etapa</th>\n",
              "      <th>nr_anoletivo</th>\n",
              "      <th>reprovado_aprovado</th>\n",
              "    </tr>\n",
              "  </thead>\n",
              "  <tbody>\n",
              "    <tr>\n",
              "      <th>0</th>\n",
              "      <td>0000200f8c8d8142c9064366a415d1e296510654</td>\n",
              "      <td>09/11/2001</td>\n",
              "      <td>Parda</td>\n",
              "      <td>Masculino</td>\n",
              "      <td>Pereiro</td>\n",
              "      <td>CREDE 11</td>\n",
              "      <td>EEM VIRGÍLIO CORREIA LIMA</td>\n",
              "      <td>Regular</td>\n",
              "      <td>Manhã</td>\n",
              "      <td>Regular</td>\n",
              "      <td>Ensino Médio</td>\n",
              "      <td>--- NÃO SE APLICA ---</td>\n",
              "      <td>1ª Série</td>\n",
              "      <td>2017</td>\n",
              "      <td>0</td>\n",
              "    </tr>\n",
              "    <tr>\n",
              "      <th>1</th>\n",
              "      <td>0000200f8c8d8142c9064366a415d1e296510654</td>\n",
              "      <td>09/11/2001</td>\n",
              "      <td>Parda</td>\n",
              "      <td>Masculino</td>\n",
              "      <td>Pereiro</td>\n",
              "      <td>CREDE 11</td>\n",
              "      <td>EEM VIRGÍLIO CORREIA LIMA</td>\n",
              "      <td>Regular</td>\n",
              "      <td>Manhã</td>\n",
              "      <td>Regular</td>\n",
              "      <td>Ensino Médio</td>\n",
              "      <td>--- NÃO SE APLICA ---</td>\n",
              "      <td>2ª Série</td>\n",
              "      <td>2018</td>\n",
              "      <td>1</td>\n",
              "    </tr>\n",
              "    <tr>\n",
              "      <th>2</th>\n",
              "      <td>0000200f8c8d8142c9064366a415d1e296510654</td>\n",
              "      <td>09/11/2001</td>\n",
              "      <td>Parda</td>\n",
              "      <td>Masculino</td>\n",
              "      <td>Pereiro</td>\n",
              "      <td>CREDE 11</td>\n",
              "      <td>EEM VIRGÍLIO CORREIA LIMA</td>\n",
              "      <td>Regular</td>\n",
              "      <td>Manhã</td>\n",
              "      <td>Regular</td>\n",
              "      <td>Ensino Médio</td>\n",
              "      <td>--- NÃO SE APLICA ---</td>\n",
              "      <td>2ª Série</td>\n",
              "      <td>2019</td>\n",
              "      <td>0</td>\n",
              "    </tr>\n",
              "    <tr>\n",
              "      <th>3</th>\n",
              "      <td>00006265ab48ceca7d2556c1591c5c466cb66aa0</td>\n",
              "      <td>01/07/2005</td>\n",
              "      <td>Não Declarada</td>\n",
              "      <td>Masculino</td>\n",
              "      <td>Fortaleza</td>\n",
              "      <td>SEFOR 3</td>\n",
              "      <td>EEFM DOUTOR UBIRAJARA ÍNDIO DO CEARÁ</td>\n",
              "      <td>Regular</td>\n",
              "      <td>Manhã</td>\n",
              "      <td>Regular</td>\n",
              "      <td>Ensino Fundamental</td>\n",
              "      <td>--- NÃO SE APLICA ---</td>\n",
              "      <td>9º ano</td>\n",
              "      <td>2018</td>\n",
              "      <td>0</td>\n",
              "    </tr>\n",
              "    <tr>\n",
              "      <th>4</th>\n",
              "      <td>00006265ab48ceca7d2556c1591c5c466cb66aa0</td>\n",
              "      <td>01/07/2005</td>\n",
              "      <td>Não Declarada</td>\n",
              "      <td>Masculino</td>\n",
              "      <td>Fortaleza</td>\n",
              "      <td>SEFOR 3</td>\n",
              "      <td>EEFM DOUTOR UBIRAJARA ÍNDIO DO CEARÁ</td>\n",
              "      <td>Regular</td>\n",
              "      <td>Manhã</td>\n",
              "      <td>Regular</td>\n",
              "      <td>Ensino Médio</td>\n",
              "      <td>--- NÃO SE APLICA ---</td>\n",
              "      <td>1ª Série</td>\n",
              "      <td>2019</td>\n",
              "      <td>0</td>\n",
              "    </tr>\n",
              "    <tr>\n",
              "      <th>...</th>\n",
              "      <td>...</td>\n",
              "      <td>...</td>\n",
              "      <td>...</td>\n",
              "      <td>...</td>\n",
              "      <td>...</td>\n",
              "      <td>...</td>\n",
              "      <td>...</td>\n",
              "      <td>...</td>\n",
              "      <td>...</td>\n",
              "      <td>...</td>\n",
              "      <td>...</td>\n",
              "      <td>...</td>\n",
              "      <td>...</td>\n",
              "      <td>...</td>\n",
              "      <td>...</td>\n",
              "    </tr>\n",
              "    <tr>\n",
              "      <th>1986706</th>\n",
              "      <td>ffffec72cc97fe9d91809bfd8445d11b14c6d1d8</td>\n",
              "      <td>11/11/1996</td>\n",
              "      <td>Parda</td>\n",
              "      <td>Feminino</td>\n",
              "      <td>Pacatuba</td>\n",
              "      <td>CREDE 1</td>\n",
              "      <td>EEEP PROFESSORA LUIZA DE TEODORO VIEIRA</td>\n",
              "      <td>Profissional</td>\n",
              "      <td>Integral</td>\n",
              "      <td>Profissional</td>\n",
              "      <td>Ensino Médio</td>\n",
              "      <td>TÉCNICO EM ENFERMAGEM</td>\n",
              "      <td>Integrado 3ª Série</td>\n",
              "      <td>2016</td>\n",
              "      <td>0</td>\n",
              "    </tr>\n",
              "    <tr>\n",
              "      <th>1986707</th>\n",
              "      <td>ffffec72cc97fe9d91809bfd8445d11b14c6d1d8</td>\n",
              "      <td>11/11/1996</td>\n",
              "      <td>Parda</td>\n",
              "      <td>Feminino</td>\n",
              "      <td>Pacatuba</td>\n",
              "      <td>CREDE 1</td>\n",
              "      <td>EEEP PROFESSORA LUIZA DE TEODORO VIEIRA</td>\n",
              "      <td>Regular</td>\n",
              "      <td>Integral</td>\n",
              "      <td>Profissional</td>\n",
              "      <td>Ensino Médio</td>\n",
              "      <td>TÉCNICO EM ENFERMAGEM</td>\n",
              "      <td>Integrado 2ª Série</td>\n",
              "      <td>2015</td>\n",
              "      <td>0</td>\n",
              "    </tr>\n",
              "    <tr>\n",
              "      <th>1986708</th>\n",
              "      <td>fffffacc82ef034fc5f4da6dbfd0fe1026fbc6f7</td>\n",
              "      <td>19/02/2003</td>\n",
              "      <td>Parda</td>\n",
              "      <td>Masculino</td>\n",
              "      <td>Aracati</td>\n",
              "      <td>CREDE 10</td>\n",
              "      <td>EEM BARÃO DE ARACATI</td>\n",
              "      <td>Regular</td>\n",
              "      <td>Tarde</td>\n",
              "      <td>Regular</td>\n",
              "      <td>Ensino Médio</td>\n",
              "      <td>--- NÃO SE APLICA ---</td>\n",
              "      <td>1ª Série</td>\n",
              "      <td>2018</td>\n",
              "      <td>0</td>\n",
              "    </tr>\n",
              "    <tr>\n",
              "      <th>1986709</th>\n",
              "      <td>fffffacc82ef034fc5f4da6dbfd0fe1026fbc6f7</td>\n",
              "      <td>19/02/2003</td>\n",
              "      <td>Parda</td>\n",
              "      <td>Masculino</td>\n",
              "      <td>Aracati</td>\n",
              "      <td>CREDE 10</td>\n",
              "      <td>EEM BARÃO DE ARACATI</td>\n",
              "      <td>Regular</td>\n",
              "      <td>Tarde</td>\n",
              "      <td>Regular</td>\n",
              "      <td>Ensino Médio</td>\n",
              "      <td>--- NÃO SE APLICA ---</td>\n",
              "      <td>2ª Série</td>\n",
              "      <td>2019</td>\n",
              "      <td>0</td>\n",
              "    </tr>\n",
              "    <tr>\n",
              "      <th>1986710</th>\n",
              "      <td>fffffacc82ef034fc5f4da6dbfd0fe1026fbc6f7</td>\n",
              "      <td>19/02/2003</td>\n",
              "      <td>Parda</td>\n",
              "      <td>Masculino</td>\n",
              "      <td>Aracati</td>\n",
              "      <td>CREDE 10</td>\n",
              "      <td>EEM BARÃO DE ARACATI</td>\n",
              "      <td>Regular</td>\n",
              "      <td>Tarde</td>\n",
              "      <td>Regular</td>\n",
              "      <td>Ensino Médio</td>\n",
              "      <td>--- NÃO SE APLICA ---</td>\n",
              "      <td>3ª Série</td>\n",
              "      <td>2020</td>\n",
              "      <td>0</td>\n",
              "    </tr>\n",
              "  </tbody>\n",
              "</table>\n",
              "<p>1986711 rows × 15 columns</p>\n",
              "</div>\n",
              "      <button class=\"colab-df-convert\" onclick=\"convertToInteractive('df-2e3b6c00-cc36-41ee-9555-4fb84a220a0b')\"\n",
              "              title=\"Convert this dataframe to an interactive table.\"\n",
              "              style=\"display:none;\">\n",
              "        \n",
              "  <svg xmlns=\"http://www.w3.org/2000/svg\" height=\"24px\"viewBox=\"0 0 24 24\"\n",
              "       width=\"24px\">\n",
              "    <path d=\"M0 0h24v24H0V0z\" fill=\"none\"/>\n",
              "    <path d=\"M18.56 5.44l.94 2.06.94-2.06 2.06-.94-2.06-.94-.94-2.06-.94 2.06-2.06.94zm-11 1L8.5 8.5l.94-2.06 2.06-.94-2.06-.94L8.5 2.5l-.94 2.06-2.06.94zm10 10l.94 2.06.94-2.06 2.06-.94-2.06-.94-.94-2.06-.94 2.06-2.06.94z\"/><path d=\"M17.41 7.96l-1.37-1.37c-.4-.4-.92-.59-1.43-.59-.52 0-1.04.2-1.43.59L10.3 9.45l-7.72 7.72c-.78.78-.78 2.05 0 2.83L4 21.41c.39.39.9.59 1.41.59.51 0 1.02-.2 1.41-.59l7.78-7.78 2.81-2.81c.8-.78.8-2.07 0-2.86zM5.41 20L4 18.59l7.72-7.72 1.47 1.35L5.41 20z\"/>\n",
              "  </svg>\n",
              "      </button>\n",
              "      \n",
              "  <style>\n",
              "    .colab-df-container {\n",
              "      display:flex;\n",
              "      flex-wrap:wrap;\n",
              "      gap: 12px;\n",
              "    }\n",
              "\n",
              "    .colab-df-convert {\n",
              "      background-color: #E8F0FE;\n",
              "      border: none;\n",
              "      border-radius: 50%;\n",
              "      cursor: pointer;\n",
              "      display: none;\n",
              "      fill: #1967D2;\n",
              "      height: 32px;\n",
              "      padding: 0 0 0 0;\n",
              "      width: 32px;\n",
              "    }\n",
              "\n",
              "    .colab-df-convert:hover {\n",
              "      background-color: #E2EBFA;\n",
              "      box-shadow: 0px 1px 2px rgba(60, 64, 67, 0.3), 0px 1px 3px 1px rgba(60, 64, 67, 0.15);\n",
              "      fill: #174EA6;\n",
              "    }\n",
              "\n",
              "    [theme=dark] .colab-df-convert {\n",
              "      background-color: #3B4455;\n",
              "      fill: #D2E3FC;\n",
              "    }\n",
              "\n",
              "    [theme=dark] .colab-df-convert:hover {\n",
              "      background-color: #434B5C;\n",
              "      box-shadow: 0px 1px 3px 1px rgba(0, 0, 0, 0.15);\n",
              "      filter: drop-shadow(0px 1px 2px rgba(0, 0, 0, 0.3));\n",
              "      fill: #FFFFFF;\n",
              "    }\n",
              "  </style>\n",
              "\n",
              "      <script>\n",
              "        const buttonEl =\n",
              "          document.querySelector('#df-2e3b6c00-cc36-41ee-9555-4fb84a220a0b button.colab-df-convert');\n",
              "        buttonEl.style.display =\n",
              "          google.colab.kernel.accessAllowed ? 'block' : 'none';\n",
              "\n",
              "        async function convertToInteractive(key) {\n",
              "          const element = document.querySelector('#df-2e3b6c00-cc36-41ee-9555-4fb84a220a0b');\n",
              "          const dataTable =\n",
              "            await google.colab.kernel.invokeFunction('convertToInteractive',\n",
              "                                                     [key], {});\n",
              "          if (!dataTable) return;\n",
              "\n",
              "          const docLinkHtml = 'Like what you see? Visit the ' +\n",
              "            '<a target=\"_blank\" href=https://colab.research.google.com/notebooks/data_table.ipynb>data table notebook</a>'\n",
              "            + ' to learn more about interactive tables.';\n",
              "          element.innerHTML = '';\n",
              "          dataTable['output_type'] = 'display_data';\n",
              "          await google.colab.output.renderOutput(dataTable, element);\n",
              "          const docLink = document.createElement('div');\n",
              "          docLink.innerHTML = docLinkHtml;\n",
              "          element.appendChild(docLink);\n",
              "        }\n",
              "      </script>\n",
              "    </div>\n",
              "  </div>\n",
              "  "
            ]
          },
          "metadata": {},
          "execution_count": 33
        }
      ],
      "source": [
        "vs"
      ]
    },
    {
      "cell_type": "code",
      "execution_count": null,
      "metadata": {
        "id": "ZCa-ufeoug3B"
      },
      "outputs": [],
      "source": [
        "vs.drop('ano', inplace=True, axis=1)"
      ]
    },
    {
      "cell_type": "code",
      "execution_count": null,
      "metadata": {
        "id": "nBFLxRUCug3B",
        "outputId": "56f81a91-9b0a-4661-cd40-0864fe1d5cf3",
        "colab": {
          "base_uri": "https://localhost:8080/"
        }
      },
      "outputs": [
        {
          "output_type": "execute_result",
          "data": {
            "text/plain": [
              "cd_aluno              0\n",
              "dt_nascimento         0\n",
              "ds_raca               0\n",
              "ds_sexo               0\n",
              "nm_municipio          0\n",
              "nm_crede_sefor        0\n",
              "nm_escola             0\n",
              "ds_modalidade         0\n",
              "ds_turno              0\n",
              "nm_categoria          0\n",
              "ds_nivel              0\n",
              "nm_curso              0\n",
              "ds_etapa              0\n",
              "nr_anoletivo          0\n",
              "reprovado_aprovado    0\n",
              "dtype: int64"
            ]
          },
          "metadata": {},
          "execution_count": 36
        }
      ],
      "source": [
        "vs.isnull().sum()"
      ]
    },
    {
      "cell_type": "markdown",
      "source": [
        "Separando os alunos aprovados dos reprovados em datasets diferentes"
      ],
      "metadata": {
        "id": "d7EBKRINzq8E"
      }
    },
    {
      "cell_type": "code",
      "execution_count": null,
      "metadata": {
        "id": "3iumBqLvug3C"
      },
      "outputs": [],
      "source": [
        "g=vs[vs['reprovado_aprovado']==1]"
      ]
    },
    {
      "cell_type": "code",
      "execution_count": null,
      "metadata": {
        "id": "h5sPL26Jug3C",
        "outputId": "383b4d21-f594-4c47-be1f-063876f86a3d"
      },
      "outputs": [
        {
          "data": {
            "text/plain": [
              "(38527, 15)"
            ]
          },
          "execution_count": 39,
          "metadata": {},
          "output_type": "execute_result"
        }
      ],
      "source": [
        "g.shape"
      ]
    },
    {
      "cell_type": "code",
      "execution_count": null,
      "metadata": {
        "id": "4UVBflHjug3C",
        "outputId": "b32516e9-0722-4eba-a098-517f0611e96c"
      },
      "outputs": [
        {
          "data": {
            "text/plain": [
              "Index(['cd_aluno', 'dt_nascimento', 'ds_raca', 'ds_sexo', 'nm_municipio',\n",
              "       'nm_crede_sefor', 'nm_escola', 'ds_modalidade', 'ds_turno',\n",
              "       'nm_categoria', 'ds_nivel', 'nm_curso', 'ds_etapa', 'nr_anoletivo',\n",
              "       'reprovado_aprovado'],\n",
              "      dtype='object')"
            ]
          },
          "execution_count": 40,
          "metadata": {},
          "output_type": "execute_result"
        }
      ],
      "source": [
        "g.columns"
      ]
    },
    {
      "cell_type": "code",
      "execution_count": null,
      "metadata": {
        "id": "m2x2_nPCug3C",
        "outputId": "7360144a-b81c-4749-f4b4-e5220bb2339e"
      },
      "outputs": [
        {
          "name": "stderr",
          "output_type": "stream",
          "text": [
            "C:\\Users\\ander\\anaconda3\\lib\\site-packages\\pandas\\core\\frame.py:5039: SettingWithCopyWarning: \n",
            "A value is trying to be set on a copy of a slice from a DataFrame\n",
            "\n",
            "See the caveats in the documentation: https://pandas.pydata.org/pandas-docs/stable/user_guide/indexing.html#returning-a-view-versus-a-copy\n",
            "  return super().rename(\n"
          ]
        }
      ],
      "source": [
        "g.rename(columns={'reprovado_aprovado':'reprovados'}, inplace=True)"
      ]
    },
    {
      "cell_type": "code",
      "execution_count": null,
      "metadata": {
        "id": "gwXWmxVrug3D",
        "outputId": "eca2764c-7cf9-40d8-880a-8a9cbee3b20a"
      },
      "outputs": [
        {
          "data": {
            "text/plain": [
              "Index(['cd_aluno', 'dt_nascimento', 'ds_raca', 'ds_sexo', 'nm_municipio',\n",
              "       'nm_crede_sefor', 'nm_escola', 'ds_modalidade', 'ds_turno',\n",
              "       'nm_categoria', 'ds_nivel', 'nm_curso', 'ds_etapa', 'nr_anoletivo',\n",
              "       'reprovados'],\n",
              "      dtype='object')"
            ]
          },
          "execution_count": 42,
          "metadata": {},
          "output_type": "execute_result"
        }
      ],
      "source": [
        "g.columns"
      ]
    },
    {
      "cell_type": "markdown",
      "source": [
        "Reprovados"
      ],
      "metadata": {
        "id": "af4CqQakC2cE"
      }
    },
    {
      "cell_type": "code",
      "execution_count": null,
      "metadata": {
        "id": "OwJwAnmZug3D",
        "outputId": "dd689a3d-486f-4336-b041-336c84cf0dcc"
      },
      "outputs": [
        {
          "data": {
            "text/html": [
              "<div>\n",
              "<style scoped>\n",
              "    .dataframe tbody tr th:only-of-type {\n",
              "        vertical-align: middle;\n",
              "    }\n",
              "\n",
              "    .dataframe tbody tr th {\n",
              "        vertical-align: top;\n",
              "    }\n",
              "\n",
              "    .dataframe thead th {\n",
              "        text-align: right;\n",
              "    }\n",
              "</style>\n",
              "<table border=\"1\" class=\"dataframe\">\n",
              "  <thead>\n",
              "    <tr style=\"text-align: right;\">\n",
              "      <th></th>\n",
              "      <th>cd_aluno</th>\n",
              "      <th>dt_nascimento</th>\n",
              "      <th>ds_raca</th>\n",
              "      <th>ds_sexo</th>\n",
              "      <th>nm_municipio</th>\n",
              "      <th>nm_crede_sefor</th>\n",
              "      <th>nm_escola</th>\n",
              "      <th>ds_modalidade</th>\n",
              "      <th>ds_turno</th>\n",
              "      <th>nm_categoria</th>\n",
              "      <th>ds_nivel</th>\n",
              "      <th>nm_curso</th>\n",
              "      <th>ds_etapa</th>\n",
              "      <th>nr_anoletivo</th>\n",
              "      <th>reprovados</th>\n",
              "    </tr>\n",
              "  </thead>\n",
              "  <tbody>\n",
              "    <tr>\n",
              "      <th>1</th>\n",
              "      <td>0000200f8c8d8142c9064366a415d1e296510654</td>\n",
              "      <td>09/11/2001</td>\n",
              "      <td>Parda</td>\n",
              "      <td>Masculino</td>\n",
              "      <td>Pereiro</td>\n",
              "      <td>CREDE 11</td>\n",
              "      <td>EEM VIRGÍLIO CORREIA LIMA</td>\n",
              "      <td>Regular</td>\n",
              "      <td>Manhã</td>\n",
              "      <td>Regular</td>\n",
              "      <td>Ensino Médio</td>\n",
              "      <td>--- NÃO SE APLICA ---</td>\n",
              "      <td>2ª Série</td>\n",
              "      <td>2018</td>\n",
              "      <td>1</td>\n",
              "    </tr>\n",
              "    <tr>\n",
              "      <th>12</th>\n",
              "      <td>0000f48f80225118a2c1c74d757b40beb1cd3184</td>\n",
              "      <td>12/11/1996</td>\n",
              "      <td>Não Declarada</td>\n",
              "      <td>Masculino</td>\n",
              "      <td>Fortaleza</td>\n",
              "      <td>SEFOR 1</td>\n",
              "      <td>EEFM MÁRIO HUGO CIDRACK DO VALE</td>\n",
              "      <td>Regular</td>\n",
              "      <td>Manhã</td>\n",
              "      <td>Regular</td>\n",
              "      <td>Ensino Médio</td>\n",
              "      <td>--- NÃO SE APLICA ---</td>\n",
              "      <td>1ª Série</td>\n",
              "      <td>2015</td>\n",
              "      <td>1</td>\n",
              "    </tr>\n",
              "    <tr>\n",
              "      <th>122</th>\n",
              "      <td>0003ec2884a097705183aea93f388666ef65a338</td>\n",
              "      <td>04/05/2000</td>\n",
              "      <td>Parda</td>\n",
              "      <td>Feminino</td>\n",
              "      <td>Camocim</td>\n",
              "      <td>CREDE 4</td>\n",
              "      <td>EEM MARIA STELA ROCHA AGUIAR</td>\n",
              "      <td>Regular</td>\n",
              "      <td>Manhã</td>\n",
              "      <td>Regular</td>\n",
              "      <td>Ensino Médio</td>\n",
              "      <td>--- NÃO SE APLICA ---</td>\n",
              "      <td>2ª Série</td>\n",
              "      <td>2018</td>\n",
              "      <td>1</td>\n",
              "    </tr>\n",
              "    <tr>\n",
              "      <th>266</th>\n",
              "      <td>0008e849b8231b33fd3fcb476105c09b3f17e9b6</td>\n",
              "      <td>04/03/2000</td>\n",
              "      <td>Parda</td>\n",
              "      <td>Masculino</td>\n",
              "      <td>Quixelô</td>\n",
              "      <td>CREDE 16</td>\n",
              "      <td>EEM PROFESSOR LUIZ GONZAGA DA FONSECA MOTA</td>\n",
              "      <td>Regular</td>\n",
              "      <td>Tarde</td>\n",
              "      <td>Regular</td>\n",
              "      <td>Ensino Médio</td>\n",
              "      <td>--- NÃO SE APLICA ---</td>\n",
              "      <td>1ª Série</td>\n",
              "      <td>2016</td>\n",
              "      <td>1</td>\n",
              "    </tr>\n",
              "    <tr>\n",
              "      <th>270</th>\n",
              "      <td>00090016c4ef939806b0a17ed828725cd92b1942</td>\n",
              "      <td>18/05/1997</td>\n",
              "      <td>Parda</td>\n",
              "      <td>Masculino</td>\n",
              "      <td>Caucaia</td>\n",
              "      <td>CREDE 1</td>\n",
              "      <td>EEM BRANCA CARNEIRO DE MENDONÇA</td>\n",
              "      <td>Regular</td>\n",
              "      <td>Noite</td>\n",
              "      <td>Regular</td>\n",
              "      <td>Ensino Médio</td>\n",
              "      <td>--- NÃO SE APLICA ---</td>\n",
              "      <td>3ª Série</td>\n",
              "      <td>2016</td>\n",
              "      <td>1</td>\n",
              "    </tr>\n",
              "  </tbody>\n",
              "</table>\n",
              "</div>"
            ],
            "text/plain": [
              "                                     cd_aluno dt_nascimento        ds_raca  \\\n",
              "1    0000200f8c8d8142c9064366a415d1e296510654    09/11/2001          Parda   \n",
              "12   0000f48f80225118a2c1c74d757b40beb1cd3184    12/11/1996  Não Declarada   \n",
              "122  0003ec2884a097705183aea93f388666ef65a338    04/05/2000          Parda   \n",
              "266  0008e849b8231b33fd3fcb476105c09b3f17e9b6    04/03/2000          Parda   \n",
              "270  00090016c4ef939806b0a17ed828725cd92b1942    18/05/1997          Parda   \n",
              "\n",
              "       ds_sexo nm_municipio nm_crede_sefor  \\\n",
              "1    Masculino      Pereiro       CREDE 11   \n",
              "12   Masculino    Fortaleza        SEFOR 1   \n",
              "122   Feminino      Camocim        CREDE 4   \n",
              "266  Masculino      Quixelô       CREDE 16   \n",
              "270  Masculino      Caucaia        CREDE 1   \n",
              "\n",
              "                                      nm_escola ds_modalidade ds_turno  \\\n",
              "1                     EEM VIRGÍLIO CORREIA LIMA       Regular    Manhã   \n",
              "12              EEFM MÁRIO HUGO CIDRACK DO VALE       Regular    Manhã   \n",
              "122                EEM MARIA STELA ROCHA AGUIAR       Regular    Manhã   \n",
              "266  EEM PROFESSOR LUIZ GONZAGA DA FONSECA MOTA       Regular    Tarde   \n",
              "270             EEM BRANCA CARNEIRO DE MENDONÇA       Regular    Noite   \n",
              "\n",
              "    nm_categoria      ds_nivel               nm_curso  ds_etapa  nr_anoletivo  \\\n",
              "1        Regular  Ensino Médio  --- NÃO SE APLICA ---  2ª Série          2018   \n",
              "12       Regular  Ensino Médio  --- NÃO SE APLICA ---  1ª Série          2015   \n",
              "122      Regular  Ensino Médio  --- NÃO SE APLICA ---  2ª Série          2018   \n",
              "266      Regular  Ensino Médio  --- NÃO SE APLICA ---  1ª Série          2016   \n",
              "270      Regular  Ensino Médio  --- NÃO SE APLICA ---  3ª Série          2016   \n",
              "\n",
              "     reprovados  \n",
              "1             1  \n",
              "12            1  \n",
              "122           1  \n",
              "266           1  \n",
              "270           1  "
            ]
          },
          "execution_count": 43,
          "metadata": {},
          "output_type": "execute_result"
        }
      ],
      "source": [
        "g.head()"
      ]
    },
    {
      "cell_type": "markdown",
      "source": [
        "Salvando os dados dos alunos reprovados individualmente"
      ],
      "metadata": {
        "id": "nQzwvBnSzzio"
      }
    },
    {
      "cell_type": "code",
      "execution_count": null,
      "metadata": {
        "id": "AXUozRabug3D"
      },
      "outputs": [],
      "source": [
        " g.to_csv('reprovados_individualmente.csv', na_rep='#N/A',header=True,index=False)"
      ]
    },
    {
      "cell_type": "markdown",
      "source": [
        "Dataset dos alunos aprovados"
      ],
      "metadata": {
        "id": "p6pkeLUEz5PG"
      }
    },
    {
      "cell_type": "code",
      "execution_count": null,
      "metadata": {
        "id": "FR0Ayaadug3E"
      },
      "outputs": [],
      "source": [
        "gg=vs[vs['reprovado_aprovado']==0]"
      ]
    },
    {
      "cell_type": "code",
      "execution_count": null,
      "metadata": {
        "id": "nGICTpqaug3E",
        "outputId": "ab1c91b3-08c2-428b-cefd-8bd299d6a7ac"
      },
      "outputs": [
        {
          "data": {
            "text/plain": [
              "(1948184, 15)"
            ]
          },
          "execution_count": 47,
          "metadata": {},
          "output_type": "execute_result"
        }
      ],
      "source": [
        "gg.shape"
      ]
    },
    {
      "cell_type": "code",
      "execution_count": null,
      "metadata": {
        "id": "546ctETiug3E",
        "outputId": "297db103-ab7f-4c63-cc43-70f67bcaae0a"
      },
      "outputs": [
        {
          "name": "stderr",
          "output_type": "stream",
          "text": [
            "C:\\Users\\ander\\anaconda3\\lib\\site-packages\\pandas\\core\\frame.py:5039: SettingWithCopyWarning: \n",
            "A value is trying to be set on a copy of a slice from a DataFrame\n",
            "\n",
            "See the caveats in the documentation: https://pandas.pydata.org/pandas-docs/stable/user_guide/indexing.html#returning-a-view-versus-a-copy\n",
            "  return super().rename(\n"
          ]
        }
      ],
      "source": [
        "gg.rename(columns={'reprovado_aprovado':'aprovados'}, inplace=True)"
      ]
    },
    {
      "cell_type": "code",
      "execution_count": null,
      "metadata": {
        "id": "8zQzTvgRug3E",
        "outputId": "0c6f0e97-6767-42d8-b532-2ddc057de7f1"
      },
      "outputs": [
        {
          "data": {
            "text/plain": [
              "Index(['cd_aluno', 'dt_nascimento', 'ds_raca', 'ds_sexo', 'nm_municipio',\n",
              "       'nm_crede_sefor', 'nm_escola', 'ds_modalidade', 'ds_turno',\n",
              "       'nm_categoria', 'ds_nivel', 'nm_curso', 'ds_etapa', 'nr_anoletivo',\n",
              "       'aprovados'],\n",
              "      dtype='object')"
            ]
          },
          "execution_count": 49,
          "metadata": {},
          "output_type": "execute_result"
        }
      ],
      "source": [
        "gg.columns"
      ]
    },
    {
      "cell_type": "code",
      "execution_count": null,
      "metadata": {
        "id": "F3JYtp_hug3F",
        "outputId": "2f0cfbe9-ade9-408e-f26c-1c9714a0afa1"
      },
      "outputs": [
        {
          "data": {
            "text/html": [
              "<div>\n",
              "<style scoped>\n",
              "    .dataframe tbody tr th:only-of-type {\n",
              "        vertical-align: middle;\n",
              "    }\n",
              "\n",
              "    .dataframe tbody tr th {\n",
              "        vertical-align: top;\n",
              "    }\n",
              "\n",
              "    .dataframe thead th {\n",
              "        text-align: right;\n",
              "    }\n",
              "</style>\n",
              "<table border=\"1\" class=\"dataframe\">\n",
              "  <thead>\n",
              "    <tr style=\"text-align: right;\">\n",
              "      <th></th>\n",
              "      <th>cd_aluno</th>\n",
              "      <th>dt_nascimento</th>\n",
              "      <th>ds_raca</th>\n",
              "      <th>ds_sexo</th>\n",
              "      <th>nm_municipio</th>\n",
              "      <th>nm_crede_sefor</th>\n",
              "      <th>nm_escola</th>\n",
              "      <th>ds_modalidade</th>\n",
              "      <th>ds_turno</th>\n",
              "      <th>nm_categoria</th>\n",
              "      <th>ds_nivel</th>\n",
              "      <th>nm_curso</th>\n",
              "      <th>ds_etapa</th>\n",
              "      <th>nr_anoletivo</th>\n",
              "      <th>aprovados</th>\n",
              "    </tr>\n",
              "  </thead>\n",
              "  <tbody>\n",
              "    <tr>\n",
              "      <th>0</th>\n",
              "      <td>0000200f8c8d8142c9064366a415d1e296510654</td>\n",
              "      <td>09/11/2001</td>\n",
              "      <td>Parda</td>\n",
              "      <td>Masculino</td>\n",
              "      <td>Pereiro</td>\n",
              "      <td>CREDE 11</td>\n",
              "      <td>EEM VIRGÍLIO CORREIA LIMA</td>\n",
              "      <td>Regular</td>\n",
              "      <td>Manhã</td>\n",
              "      <td>Regular</td>\n",
              "      <td>Ensino Médio</td>\n",
              "      <td>--- NÃO SE APLICA ---</td>\n",
              "      <td>1ª Série</td>\n",
              "      <td>2017</td>\n",
              "      <td>0</td>\n",
              "    </tr>\n",
              "    <tr>\n",
              "      <th>2</th>\n",
              "      <td>0000200f8c8d8142c9064366a415d1e296510654</td>\n",
              "      <td>09/11/2001</td>\n",
              "      <td>Parda</td>\n",
              "      <td>Masculino</td>\n",
              "      <td>Pereiro</td>\n",
              "      <td>CREDE 11</td>\n",
              "      <td>EEM VIRGÍLIO CORREIA LIMA</td>\n",
              "      <td>Regular</td>\n",
              "      <td>Manhã</td>\n",
              "      <td>Regular</td>\n",
              "      <td>Ensino Médio</td>\n",
              "      <td>--- NÃO SE APLICA ---</td>\n",
              "      <td>2ª Série</td>\n",
              "      <td>2019</td>\n",
              "      <td>0</td>\n",
              "    </tr>\n",
              "    <tr>\n",
              "      <th>3</th>\n",
              "      <td>00006265ab48ceca7d2556c1591c5c466cb66aa0</td>\n",
              "      <td>01/07/2005</td>\n",
              "      <td>Não Declarada</td>\n",
              "      <td>Masculino</td>\n",
              "      <td>Fortaleza</td>\n",
              "      <td>SEFOR 3</td>\n",
              "      <td>EEFM DOUTOR UBIRAJARA ÍNDIO DO CEARÁ</td>\n",
              "      <td>Regular</td>\n",
              "      <td>Manhã</td>\n",
              "      <td>Regular</td>\n",
              "      <td>Ensino Fundamental</td>\n",
              "      <td>--- NÃO SE APLICA ---</td>\n",
              "      <td>9º ano</td>\n",
              "      <td>2018</td>\n",
              "      <td>0</td>\n",
              "    </tr>\n",
              "    <tr>\n",
              "      <th>4</th>\n",
              "      <td>00006265ab48ceca7d2556c1591c5c466cb66aa0</td>\n",
              "      <td>01/07/2005</td>\n",
              "      <td>Não Declarada</td>\n",
              "      <td>Masculino</td>\n",
              "      <td>Fortaleza</td>\n",
              "      <td>SEFOR 3</td>\n",
              "      <td>EEFM DOUTOR UBIRAJARA ÍNDIO DO CEARÁ</td>\n",
              "      <td>Regular</td>\n",
              "      <td>Manhã</td>\n",
              "      <td>Regular</td>\n",
              "      <td>Ensino Médio</td>\n",
              "      <td>--- NÃO SE APLICA ---</td>\n",
              "      <td>1ª Série</td>\n",
              "      <td>2019</td>\n",
              "      <td>0</td>\n",
              "    </tr>\n",
              "    <tr>\n",
              "      <th>5</th>\n",
              "      <td>00006b760ed3341b9d8f61601aac6a10d8710721</td>\n",
              "      <td>02/03/2005</td>\n",
              "      <td>Parda</td>\n",
              "      <td>Masculino</td>\n",
              "      <td>Icó</td>\n",
              "      <td>CREDE 17</td>\n",
              "      <td>EEM VIVINA MONTEIRO</td>\n",
              "      <td>Regular</td>\n",
              "      <td>Manhã</td>\n",
              "      <td>Regular</td>\n",
              "      <td>Ensino Médio</td>\n",
              "      <td>--- NÃO SE APLICA ---</td>\n",
              "      <td>1ª Série</td>\n",
              "      <td>2020</td>\n",
              "      <td>0</td>\n",
              "    </tr>\n",
              "  </tbody>\n",
              "</table>\n",
              "</div>"
            ],
            "text/plain": [
              "                                   cd_aluno dt_nascimento        ds_raca  \\\n",
              "0  0000200f8c8d8142c9064366a415d1e296510654    09/11/2001          Parda   \n",
              "2  0000200f8c8d8142c9064366a415d1e296510654    09/11/2001          Parda   \n",
              "3  00006265ab48ceca7d2556c1591c5c466cb66aa0    01/07/2005  Não Declarada   \n",
              "4  00006265ab48ceca7d2556c1591c5c466cb66aa0    01/07/2005  Não Declarada   \n",
              "5  00006b760ed3341b9d8f61601aac6a10d8710721    02/03/2005          Parda   \n",
              "\n",
              "     ds_sexo nm_municipio nm_crede_sefor  \\\n",
              "0  Masculino      Pereiro       CREDE 11   \n",
              "2  Masculino      Pereiro       CREDE 11   \n",
              "3  Masculino    Fortaleza        SEFOR 3   \n",
              "4  Masculino    Fortaleza        SEFOR 3   \n",
              "5  Masculino          Icó       CREDE 17   \n",
              "\n",
              "                              nm_escola ds_modalidade ds_turno nm_categoria  \\\n",
              "0             EEM VIRGÍLIO CORREIA LIMA       Regular    Manhã      Regular   \n",
              "2             EEM VIRGÍLIO CORREIA LIMA       Regular    Manhã      Regular   \n",
              "3  EEFM DOUTOR UBIRAJARA ÍNDIO DO CEARÁ       Regular    Manhã      Regular   \n",
              "4  EEFM DOUTOR UBIRAJARA ÍNDIO DO CEARÁ       Regular    Manhã      Regular   \n",
              "5                   EEM VIVINA MONTEIRO       Regular    Manhã      Regular   \n",
              "\n",
              "             ds_nivel               nm_curso  ds_etapa  nr_anoletivo  \\\n",
              "0        Ensino Médio  --- NÃO SE APLICA ---  1ª Série          2017   \n",
              "2        Ensino Médio  --- NÃO SE APLICA ---  2ª Série          2019   \n",
              "3  Ensino Fundamental  --- NÃO SE APLICA ---    9º ano          2018   \n",
              "4        Ensino Médio  --- NÃO SE APLICA ---  1ª Série          2019   \n",
              "5        Ensino Médio  --- NÃO SE APLICA ---  1ª Série          2020   \n",
              "\n",
              "   aprovados  \n",
              "0          0  \n",
              "2          0  \n",
              "3          0  \n",
              "4          0  \n",
              "5          0  "
            ]
          },
          "execution_count": 50,
          "metadata": {},
          "output_type": "execute_result"
        }
      ],
      "source": [
        "gg.head()"
      ]
    },
    {
      "cell_type": "markdown",
      "source": [
        "Salvando os dados dos aluno aprovados individualmente"
      ],
      "metadata": {
        "id": "zDcvS88qz_U7"
      }
    },
    {
      "cell_type": "code",
      "execution_count": null,
      "metadata": {
        "id": "WnxiI1oZug3F"
      },
      "outputs": [],
      "source": [
        " gg.to_csv('aprovados_individualmente.csv', na_rep='#N/A',header=True,index=False)"
      ]
    },
    {
      "cell_type": "markdown",
      "source": [
        "Agrupando os alunos por ano, município, crede e escola"
      ],
      "metadata": {
        "id": "HBJmpOok0GWJ"
      }
    },
    {
      "cell_type": "code",
      "execution_count": null,
      "metadata": {
        "id": "7kXAyn1nug3F"
      },
      "outputs": [],
      "source": [
        "re=g.groupby(['nr_anoletivo', 'nm_municipio', 'nm_crede_sefor', 'nm_escola']).count().reset_index()"
      ]
    },
    {
      "cell_type": "code",
      "execution_count": null,
      "metadata": {
        "id": "CZbQYfQDug3F",
        "outputId": "51b244bd-ccbf-44a7-b3be-566fa0a9f781"
      },
      "outputs": [
        {
          "data": {
            "text/html": [
              "<div>\n",
              "<style scoped>\n",
              "    .dataframe tbody tr th:only-of-type {\n",
              "        vertical-align: middle;\n",
              "    }\n",
              "\n",
              "    .dataframe tbody tr th {\n",
              "        vertical-align: top;\n",
              "    }\n",
              "\n",
              "    .dataframe thead th {\n",
              "        text-align: right;\n",
              "    }\n",
              "</style>\n",
              "<table border=\"1\" class=\"dataframe\">\n",
              "  <thead>\n",
              "    <tr style=\"text-align: right;\">\n",
              "      <th></th>\n",
              "      <th>nr_anoletivo</th>\n",
              "      <th>nm_municipio</th>\n",
              "      <th>nm_crede_sefor</th>\n",
              "      <th>nm_escola</th>\n",
              "      <th>cd_aluno</th>\n",
              "      <th>dt_nascimento</th>\n",
              "      <th>ds_raca</th>\n",
              "      <th>ds_sexo</th>\n",
              "      <th>ds_modalidade</th>\n",
              "      <th>ds_turno</th>\n",
              "      <th>nm_categoria</th>\n",
              "      <th>ds_nivel</th>\n",
              "      <th>nm_curso</th>\n",
              "      <th>ds_etapa</th>\n",
              "      <th>reprovados</th>\n",
              "    </tr>\n",
              "  </thead>\n",
              "  <tbody>\n",
              "    <tr>\n",
              "      <th>0</th>\n",
              "      <td>2015</td>\n",
              "      <td>Abaiara</td>\n",
              "      <td>CREDE 20</td>\n",
              "      <td>EEFM BELARMINO LINS DE MEDEIROS</td>\n",
              "      <td>7</td>\n",
              "      <td>7</td>\n",
              "      <td>7</td>\n",
              "      <td>7</td>\n",
              "      <td>7</td>\n",
              "      <td>7</td>\n",
              "      <td>7</td>\n",
              "      <td>7</td>\n",
              "      <td>7</td>\n",
              "      <td>7</td>\n",
              "      <td>7</td>\n",
              "    </tr>\n",
              "    <tr>\n",
              "      <th>1</th>\n",
              "      <td>2015</td>\n",
              "      <td>Acarape</td>\n",
              "      <td>CREDE 8</td>\n",
              "      <td>EEMTI MARIA DO CARMO BEZERRA</td>\n",
              "      <td>14</td>\n",
              "      <td>14</td>\n",
              "      <td>14</td>\n",
              "      <td>14</td>\n",
              "      <td>14</td>\n",
              "      <td>14</td>\n",
              "      <td>14</td>\n",
              "      <td>14</td>\n",
              "      <td>14</td>\n",
              "      <td>14</td>\n",
              "      <td>14</td>\n",
              "    </tr>\n",
              "    <tr>\n",
              "      <th>2</th>\n",
              "      <td>2015</td>\n",
              "      <td>Acaraú</td>\n",
              "      <td>CREDE 3</td>\n",
              "      <td>EEM MARIA CONCEIÇÃO DE ARAÚJO</td>\n",
              "      <td>23</td>\n",
              "      <td>23</td>\n",
              "      <td>23</td>\n",
              "      <td>23</td>\n",
              "      <td>23</td>\n",
              "      <td>23</td>\n",
              "      <td>23</td>\n",
              "      <td>23</td>\n",
              "      <td>23</td>\n",
              "      <td>23</td>\n",
              "      <td>23</td>\n",
              "    </tr>\n",
              "    <tr>\n",
              "      <th>3</th>\n",
              "      <td>2015</td>\n",
              "      <td>Acaraú</td>\n",
              "      <td>CREDE 3</td>\n",
              "      <td>EEM TOMAZ POMPEU DE SOUSA BRASIL</td>\n",
              "      <td>11</td>\n",
              "      <td>11</td>\n",
              "      <td>11</td>\n",
              "      <td>11</td>\n",
              "      <td>11</td>\n",
              "      <td>11</td>\n",
              "      <td>11</td>\n",
              "      <td>11</td>\n",
              "      <td>11</td>\n",
              "      <td>11</td>\n",
              "      <td>11</td>\n",
              "    </tr>\n",
              "    <tr>\n",
              "      <th>4</th>\n",
              "      <td>2015</td>\n",
              "      <td>Acaraú</td>\n",
              "      <td>CREDE 3</td>\n",
              "      <td>EEMTI VICENTE DE PAULO DA COSTA</td>\n",
              "      <td>1</td>\n",
              "      <td>1</td>\n",
              "      <td>1</td>\n",
              "      <td>1</td>\n",
              "      <td>1</td>\n",
              "      <td>1</td>\n",
              "      <td>1</td>\n",
              "      <td>1</td>\n",
              "      <td>1</td>\n",
              "      <td>1</td>\n",
              "      <td>1</td>\n",
              "    </tr>\n",
              "  </tbody>\n",
              "</table>\n",
              "</div>"
            ],
            "text/plain": [
              "   nr_anoletivo nm_municipio nm_crede_sefor                         nm_escola  \\\n",
              "0          2015      Abaiara       CREDE 20   EEFM BELARMINO LINS DE MEDEIROS   \n",
              "1          2015      Acarape        CREDE 8      EEMTI MARIA DO CARMO BEZERRA   \n",
              "2          2015       Acaraú        CREDE 3     EEM MARIA CONCEIÇÃO DE ARAÚJO   \n",
              "3          2015       Acaraú        CREDE 3  EEM TOMAZ POMPEU DE SOUSA BRASIL   \n",
              "4          2015       Acaraú        CREDE 3   EEMTI VICENTE DE PAULO DA COSTA   \n",
              "\n",
              "   cd_aluno  dt_nascimento  ds_raca  ds_sexo  ds_modalidade  ds_turno  \\\n",
              "0         7              7        7        7              7         7   \n",
              "1        14             14       14       14             14        14   \n",
              "2        23             23       23       23             23        23   \n",
              "3        11             11       11       11             11        11   \n",
              "4         1              1        1        1              1         1   \n",
              "\n",
              "   nm_categoria  ds_nivel  nm_curso  ds_etapa  reprovados  \n",
              "0             7         7         7         7           7  \n",
              "1            14        14        14        14          14  \n",
              "2            23        23        23        23          23  \n",
              "3            11        11        11        11          11  \n",
              "4             1         1         1         1           1  "
            ]
          },
          "execution_count": 54,
          "metadata": {},
          "output_type": "execute_result"
        }
      ],
      "source": [
        "re.head()"
      ]
    },
    {
      "cell_type": "markdown",
      "source": [
        "Excluindo colunas desnecessárias"
      ],
      "metadata": {
        "id": "8flzHo4i0Pw3"
      }
    },
    {
      "cell_type": "code",
      "execution_count": null,
      "metadata": {
        "id": "vgf9r9Toug3F"
      },
      "outputs": [],
      "source": [
        "re.drop(['cd_aluno', 'dt_nascimento', 'ds_raca', 'ds_sexo', 'ds_modalidade', 'ds_turno', 'nm_categoria', 'ds_nivel', 'nm_curso', 'ds_etapa'], inplace=True, axis=1)"
      ]
    },
    {
      "cell_type": "code",
      "execution_count": null,
      "metadata": {
        "id": "tKDLCfF2ug3G",
        "outputId": "aa5523d8-fdf7-4077-986a-f37198834c55"
      },
      "outputs": [
        {
          "data": {
            "text/html": [
              "<div>\n",
              "<style scoped>\n",
              "    .dataframe tbody tr th:only-of-type {\n",
              "        vertical-align: middle;\n",
              "    }\n",
              "\n",
              "    .dataframe tbody tr th {\n",
              "        vertical-align: top;\n",
              "    }\n",
              "\n",
              "    .dataframe thead th {\n",
              "        text-align: right;\n",
              "    }\n",
              "</style>\n",
              "<table border=\"1\" class=\"dataframe\">\n",
              "  <thead>\n",
              "    <tr style=\"text-align: right;\">\n",
              "      <th></th>\n",
              "      <th>nr_anoletivo</th>\n",
              "      <th>nm_municipio</th>\n",
              "      <th>nm_crede_sefor</th>\n",
              "      <th>nm_escola</th>\n",
              "      <th>reprovados</th>\n",
              "    </tr>\n",
              "  </thead>\n",
              "  <tbody>\n",
              "    <tr>\n",
              "      <th>0</th>\n",
              "      <td>2015</td>\n",
              "      <td>Abaiara</td>\n",
              "      <td>CREDE 20</td>\n",
              "      <td>EEFM BELARMINO LINS DE MEDEIROS</td>\n",
              "      <td>7</td>\n",
              "    </tr>\n",
              "    <tr>\n",
              "      <th>1</th>\n",
              "      <td>2015</td>\n",
              "      <td>Acarape</td>\n",
              "      <td>CREDE 8</td>\n",
              "      <td>EEMTI MARIA DO CARMO BEZERRA</td>\n",
              "      <td>14</td>\n",
              "    </tr>\n",
              "    <tr>\n",
              "      <th>2</th>\n",
              "      <td>2015</td>\n",
              "      <td>Acaraú</td>\n",
              "      <td>CREDE 3</td>\n",
              "      <td>EEM MARIA CONCEIÇÃO DE ARAÚJO</td>\n",
              "      <td>23</td>\n",
              "    </tr>\n",
              "    <tr>\n",
              "      <th>3</th>\n",
              "      <td>2015</td>\n",
              "      <td>Acaraú</td>\n",
              "      <td>CREDE 3</td>\n",
              "      <td>EEM TOMAZ POMPEU DE SOUSA BRASIL</td>\n",
              "      <td>11</td>\n",
              "    </tr>\n",
              "    <tr>\n",
              "      <th>4</th>\n",
              "      <td>2015</td>\n",
              "      <td>Acaraú</td>\n",
              "      <td>CREDE 3</td>\n",
              "      <td>EEMTI VICENTE DE PAULO DA COSTA</td>\n",
              "      <td>1</td>\n",
              "    </tr>\n",
              "  </tbody>\n",
              "</table>\n",
              "</div>"
            ],
            "text/plain": [
              "   nr_anoletivo nm_municipio nm_crede_sefor                         nm_escola  \\\n",
              "0          2015      Abaiara       CREDE 20   EEFM BELARMINO LINS DE MEDEIROS   \n",
              "1          2015      Acarape        CREDE 8      EEMTI MARIA DO CARMO BEZERRA   \n",
              "2          2015       Acaraú        CREDE 3     EEM MARIA CONCEIÇÃO DE ARAÚJO   \n",
              "3          2015       Acaraú        CREDE 3  EEM TOMAZ POMPEU DE SOUSA BRASIL   \n",
              "4          2015       Acaraú        CREDE 3   EEMTI VICENTE DE PAULO DA COSTA   \n",
              "\n",
              "   reprovados  \n",
              "0           7  \n",
              "1          14  \n",
              "2          23  \n",
              "3          11  \n",
              "4           1  "
            ]
          },
          "execution_count": 57,
          "metadata": {},
          "output_type": "execute_result"
        }
      ],
      "source": [
        "re.head()"
      ]
    },
    {
      "cell_type": "markdown",
      "source": [
        "Reprovados por escola"
      ],
      "metadata": {
        "id": "pd0BjVUL0V7p"
      }
    },
    {
      "cell_type": "code",
      "execution_count": null,
      "metadata": {
        "id": "HbXwTItLug3G",
        "outputId": "86ec7a95-8ba0-4d73-fc1b-bb01f02f267b"
      },
      "outputs": [
        {
          "data": {
            "text/plain": [
              "(2986, 5)"
            ]
          },
          "execution_count": 58,
          "metadata": {},
          "output_type": "execute_result"
        }
      ],
      "source": [
        "re.shape"
      ]
    },
    {
      "cell_type": "code",
      "execution_count": null,
      "metadata": {
        "id": "LX8c4HQvug3G"
      },
      "outputs": [],
      "source": [
        " re.to_csv('reprovados_por_escola.csv', na_rep='#N/A',header=True,index=False)"
      ]
    },
    {
      "cell_type": "markdown",
      "source": [
        "Aprovados por escola"
      ],
      "metadata": {
        "id": "zXzxngC30ZpI"
      }
    },
    {
      "cell_type": "code",
      "execution_count": null,
      "metadata": {
        "id": "wz_nSgmXug3G"
      },
      "outputs": [],
      "source": [
        "ap=gg.groupby(['nr_anoletivo', 'nm_municipio', 'nm_crede_sefor', 'nm_escola']).count().reset_index()"
      ]
    },
    {
      "cell_type": "code",
      "execution_count": null,
      "metadata": {
        "id": "YBKOeg_eug3G"
      },
      "outputs": [],
      "source": [
        "ap.drop(['cd_aluno', 'dt_nascimento', 'ds_raca', 'ds_sexo', 'ds_modalidade', 'ds_turno', 'nm_categoria', 'ds_nivel', 'nm_curso', 'ds_etapa'], inplace=True, axis=1)"
      ]
    },
    {
      "cell_type": "code",
      "execution_count": null,
      "metadata": {
        "id": "DEiNaMhwug3G",
        "outputId": "a68d9a9f-b3f6-4735-bada-1f7e0fe9b268"
      },
      "outputs": [
        {
          "data": {
            "text/html": [
              "<div>\n",
              "<style scoped>\n",
              "    .dataframe tbody tr th:only-of-type {\n",
              "        vertical-align: middle;\n",
              "    }\n",
              "\n",
              "    .dataframe tbody tr th {\n",
              "        vertical-align: top;\n",
              "    }\n",
              "\n",
              "    .dataframe thead th {\n",
              "        text-align: right;\n",
              "    }\n",
              "</style>\n",
              "<table border=\"1\" class=\"dataframe\">\n",
              "  <thead>\n",
              "    <tr style=\"text-align: right;\">\n",
              "      <th></th>\n",
              "      <th>nr_anoletivo</th>\n",
              "      <th>nm_municipio</th>\n",
              "      <th>nm_crede_sefor</th>\n",
              "      <th>nm_escola</th>\n",
              "      <th>aprovados</th>\n",
              "    </tr>\n",
              "  </thead>\n",
              "  <tbody>\n",
              "    <tr>\n",
              "      <th>0</th>\n",
              "      <td>2015</td>\n",
              "      <td>Abaiara</td>\n",
              "      <td>CREDE 20</td>\n",
              "      <td>EEFM BELARMINO LINS DE MEDEIROS</td>\n",
              "      <td>376</td>\n",
              "    </tr>\n",
              "    <tr>\n",
              "      <th>1</th>\n",
              "      <td>2015</td>\n",
              "      <td>Acarape</td>\n",
              "      <td>CREDE 8</td>\n",
              "      <td>EEMTI MARIA DO CARMO BEZERRA</td>\n",
              "      <td>346</td>\n",
              "    </tr>\n",
              "    <tr>\n",
              "      <th>2</th>\n",
              "      <td>2015</td>\n",
              "      <td>Acaraú</td>\n",
              "      <td>CREDE 3</td>\n",
              "      <td>EEEP MARTA MARIA GIFFONI DE SOUSA</td>\n",
              "      <td>455</td>\n",
              "    </tr>\n",
              "    <tr>\n",
              "      <th>3</th>\n",
              "      <td>2015</td>\n",
              "      <td>Acaraú</td>\n",
              "      <td>CREDE 3</td>\n",
              "      <td>EEM MARIA CONCEIÇÃO DE ARAÚJO</td>\n",
              "      <td>349</td>\n",
              "    </tr>\n",
              "    <tr>\n",
              "      <th>4</th>\n",
              "      <td>2015</td>\n",
              "      <td>Acaraú</td>\n",
              "      <td>CREDE 3</td>\n",
              "      <td>EEM TOMAZ POMPEU DE SOUSA BRASIL</td>\n",
              "      <td>577</td>\n",
              "    </tr>\n",
              "  </tbody>\n",
              "</table>\n",
              "</div>"
            ],
            "text/plain": [
              "   nr_anoletivo nm_municipio nm_crede_sefor  \\\n",
              "0          2015      Abaiara       CREDE 20   \n",
              "1          2015      Acarape        CREDE 8   \n",
              "2          2015       Acaraú        CREDE 3   \n",
              "3          2015       Acaraú        CREDE 3   \n",
              "4          2015       Acaraú        CREDE 3   \n",
              "\n",
              "                           nm_escola  aprovados  \n",
              "0    EEFM BELARMINO LINS DE MEDEIROS        376  \n",
              "1       EEMTI MARIA DO CARMO BEZERRA        346  \n",
              "2  EEEP MARTA MARIA GIFFONI DE SOUSA        455  \n",
              "3      EEM MARIA CONCEIÇÃO DE ARAÚJO        349  \n",
              "4   EEM TOMAZ POMPEU DE SOUSA BRASIL        577  "
            ]
          },
          "execution_count": 62,
          "metadata": {},
          "output_type": "execute_result"
        }
      ],
      "source": [
        "ap.head()"
      ]
    },
    {
      "cell_type": "code",
      "execution_count": null,
      "metadata": {
        "id": "2HAYrVdrug3H",
        "outputId": "022a3c69-6170-410c-df78-a08762249e5d"
      },
      "outputs": [
        {
          "data": {
            "text/plain": [
              "(4036, 5)"
            ]
          },
          "execution_count": 63,
          "metadata": {},
          "output_type": "execute_result"
        }
      ],
      "source": [
        "ap.shape"
      ]
    },
    {
      "cell_type": "markdown",
      "source": [
        "Salvando o dataset dos Aprovados por escola"
      ],
      "metadata": {
        "id": "28l27GO10oRX"
      }
    },
    {
      "cell_type": "code",
      "execution_count": null,
      "metadata": {
        "id": "5LZlISoMug3H"
      },
      "outputs": [],
      "source": [
        " ap.to_csv('aprovados_por_escola.csv', na_rep='#N/A',header=True,index=False)"
      ]
    },
    {
      "cell_type": "code",
      "execution_count": null,
      "metadata": {
        "id": "Wv_4Tb29ug3H"
      },
      "outputs": [],
      "source": [
        " vs.to_csv('reprovados_aprovados.csv', na_rep='#N/A',header=True,index=False)"
      ]
    },
    {
      "cell_type": "code",
      "execution_count": null,
      "metadata": {
        "id": "R2JpF7lJug3H"
      },
      "outputs": [],
      "source": [
        "bb.groupby(['ds_sexo', 'ds_raca', 'dt_nascimento', 'cd_aluno', 'nm_municipio', 'nm_crede_sefor', 'nm_escola', 'ds_modalidade', 'ds_turno', 'nm_categoria', 'ds_nivel', 'nm_curso', 'ds_etapa', 'nr_anoletivo']).count().reset_index()"
      ]
    },
    {
      "cell_type": "markdown",
      "metadata": {
        "id": "xqxiYsGlzlG6"
      },
      "source": [
        "**Tipo dos dados**"
      ]
    },
    {
      "cell_type": "code",
      "execution_count": null,
      "metadata": {
        "id": "nWl7EG9DXmfj",
        "colab": {
          "base_uri": "https://localhost:8080/"
        },
        "outputId": "243579b5-9290-4488-88b7-0da39af8e8bd"
      },
      "outputs": [
        {
          "output_type": "stream",
          "name": "stdout",
          "text": [
            "<class 'pandas.core.frame.DataFrame'>\n",
            "RangeIndex: 2417671 entries, 0 to 2417670\n",
            "Data columns (total 19 columns):\n",
            " #   Column          Dtype \n",
            "---  ------          ----- \n",
            " 0   nr_anoletivo    int64 \n",
            " 1   id_crede_sefor  int64 \n",
            " 2   nm_crede_sefor  object\n",
            " 3   id_municipio    int64 \n",
            " 4   nm_municipio    object\n",
            " 5   id_escola       int64 \n",
            " 6   nm_escola       object\n",
            " 7   nm_categoria    object\n",
            " 8   ds_modalidade   object\n",
            " 9   ds_nivel        object\n",
            " 10  ci_turma        int64 \n",
            " 11  ds_etapa        object\n",
            " 12  ds_turma        object\n",
            " 13  ds_turno        object\n",
            " 14  nm_curso        object\n",
            " 15  cd_aluno        object\n",
            " 16  dt_nascimento   object\n",
            " 17  ds_sexo         object\n",
            " 18  ds_raca         object\n",
            "dtypes: int64(5), object(14)\n",
            "memory usage: 350.5+ MB\n"
          ]
        }
      ],
      "source": [
        "dados_alunos.info()"
      ]
    },
    {
      "cell_type": "markdown",
      "metadata": {
        "id": "PdveBsCMzpm5"
      },
      "source": [
        "**Observação de valores nulos**"
      ]
    },
    {
      "cell_type": "code",
      "execution_count": null,
      "metadata": {
        "id": "IhJZI15r93OM",
        "colab": {
          "base_uri": "https://localhost:8080/"
        },
        "outputId": "2fb1a1ea-1558-43f7-df92-346c8ed56dc1"
      },
      "outputs": [
        {
          "output_type": "execute_result",
          "data": {
            "text/plain": [
              "nr_anoletivo      0\n",
              "id_crede_sefor    0\n",
              "nm_crede_sefor    0\n",
              "id_municipio      0\n",
              "nm_municipio      0\n",
              "id_escola         0\n",
              "nm_escola         0\n",
              "nm_categoria      0\n",
              "ds_modalidade     0\n",
              "ds_nivel          0\n",
              "ci_turma          0\n",
              "ds_etapa          0\n",
              "ds_turma          0\n",
              "ds_turno          0\n",
              "nm_curso          0\n",
              "cd_aluno          0\n",
              "dt_nascimento     1\n",
              "ds_sexo           0\n",
              "ds_raca           0\n",
              "dtype: int64"
            ]
          },
          "metadata": {},
          "execution_count": 9
        }
      ],
      "source": [
        "dados_alunos.isnull().sum()"
      ]
    },
    {
      "cell_type": "markdown",
      "metadata": {
        "id": "6oNss-z4ztgg"
      },
      "source": [
        "**Exclusão de valor nulo**"
      ]
    },
    {
      "cell_type": "code",
      "execution_count": null,
      "metadata": {
        "id": "wTsfjP1eC-LK"
      },
      "outputs": [],
      "source": [
        "dados_alunos.dropna(inplace=True)"
      ]
    },
    {
      "cell_type": "code",
      "execution_count": null,
      "metadata": {
        "id": "qnz4oJdWDZSG",
        "colab": {
          "base_uri": "https://localhost:8080/"
        },
        "outputId": "7349d86f-1039-4a22-83f5-0474e66109ee"
      },
      "outputs": [
        {
          "output_type": "execute_result",
          "data": {
            "text/plain": [
              "nr_anoletivo      0\n",
              "id_crede_sefor    0\n",
              "nm_crede_sefor    0\n",
              "id_municipio      0\n",
              "nm_municipio      0\n",
              "id_escola         0\n",
              "nm_escola         0\n",
              "nm_categoria      0\n",
              "ds_modalidade     0\n",
              "ds_nivel          0\n",
              "ci_turma          0\n",
              "ds_etapa          0\n",
              "ds_turma          0\n",
              "ds_turno          0\n",
              "nm_curso          0\n",
              "cd_aluno          0\n",
              "dt_nascimento     0\n",
              "ds_sexo           0\n",
              "ds_raca           0\n",
              "dtype: int64"
            ]
          },
          "metadata": {},
          "execution_count": 11
        }
      ],
      "source": [
        "dados_alunos.isnull().sum()"
      ]
    },
    {
      "cell_type": "code",
      "execution_count": null,
      "metadata": {
        "id": "1wpNLtheC16n"
      },
      "outputs": [],
      "source": [
        "#from sklearn.preprocessing import LabelEncoder\n",
        "#label_encoder_CdAlunos = LabelEncoder()"
      ]
    },
    {
      "cell_type": "code",
      "execution_count": null,
      "metadata": {
        "id": "TYIawknWD70M"
      },
      "outputs": [],
      "source": [
        "#dados_alunos['cd_aluno'] = label_encoder_CdAlunos.fit_transform(dados_alunos['cd_aluno'])"
      ]
    },
    {
      "cell_type": "code",
      "execution_count": null,
      "metadata": {
        "id": "QyxcMC9EFTEJ",
        "colab": {
          "base_uri": "https://localhost:8080/"
        },
        "outputId": "d7b1d472-9143-4c16-d9aa-f2c67db2c984"
      },
      "outputs": [
        {
          "output_type": "execute_result",
          "data": {
            "text/plain": [
              "(2417670, 19)"
            ]
          },
          "metadata": {},
          "execution_count": 12
        }
      ],
      "source": [
        "dados_alunos.shape"
      ]
    },
    {
      "cell_type": "markdown",
      "source": [
        "Quantidade de vezes que o aluno aparece no dataset"
      ],
      "metadata": {
        "id": "sZ1MAENFDhed"
      }
    },
    {
      "cell_type": "code",
      "execution_count": null,
      "metadata": {
        "id": "xipxXBTFNiwe",
        "colab": {
          "base_uri": "https://localhost:8080/"
        },
        "outputId": "34657563-4c8a-4ffa-b0fa-06ced7c4f107"
      },
      "outputs": [
        {
          "output_type": "execute_result",
          "data": {
            "text/plain": [
              "2475bcfb67663574d08b58bf4fcdf5f7cbafa2d6    6\n",
              "81418839da44056933d3eafc8cb83c775c902b0d    6\n",
              "8b26ac9b32dcf7856565e56137e2f01a3699897a    6\n",
              "822983f20dde11784fc1ae3eac723a64d6284871    6\n",
              "d6a3efd827a6b83a2aaca7aef045be657826183b    6\n",
              "                                           ..\n",
              "02b83597818ba81962b2826793a14af63730c336    1\n",
              "9ae16a94dc7cff0f8d1bcb39922f0438366696eb    1\n",
              "8bb805562987e04ab452c834c7ad3761b4634534    1\n",
              "2a2f2e64dbcdb14a35b113c48edc57fa0d3901b9    1\n",
              "ffb9028ef05d5702ca9986e961c1045d0fbc8019    1\n",
              "Name: cd_aluno, Length: 1102989, dtype: int64"
            ]
          },
          "metadata": {},
          "execution_count": 13
        }
      ],
      "source": [
        "dados_alunos['cd_aluno'].value_counts()"
      ]
    },
    {
      "cell_type": "markdown",
      "metadata": {
        "id": "e77L5c6fzy04"
      },
      "source": [
        "**Sexo dos alunos**"
      ]
    },
    {
      "cell_type": "code",
      "execution_count": null,
      "metadata": {
        "id": "XYezh7W6HBTk",
        "colab": {
          "base_uri": "https://localhost:8080/"
        },
        "outputId": "d15fb7df-1f96-4bcc-8ace-69b48800d1fd"
      },
      "outputs": [
        {
          "output_type": "execute_result",
          "data": {
            "text/plain": [
              "array(['Feminino', 'Masculino'], dtype=object)"
            ]
          },
          "metadata": {},
          "execution_count": 14
        }
      ],
      "source": [
        "dados_alunos['ds_sexo'].unique()"
      ]
    },
    {
      "cell_type": "markdown",
      "metadata": {
        "id": "TcyjbKE9z2Q3"
      },
      "source": [
        "**Geração de gráficos pelo sexo dos alunos**"
      ]
    },
    {
      "cell_type": "code",
      "execution_count": null,
      "metadata": {
        "id": "5T42NnnaGDDi"
      },
      "outputs": [],
      "source": [
        "import matplotlib.pyplot as plt\n",
        "%matplotlib inline\n",
        "import seaborn as sns\n",
        "sns.set() "
      ]
    },
    {
      "cell_type": "code",
      "execution_count": null,
      "metadata": {
        "id": "B-Jm_7dbGShX"
      },
      "outputs": [],
      "source": [
        "def grafico_barras(caracteristica):\n",
        "    sexo_aluno_homens = dados_alunos[dados_alunos['ds_sexo']=='Masculino'][caracteristica].value_counts()\n",
        "    sexo_aluno_mulheres = dados_alunos[dados_alunos['ds_sexo']=='Feminino'][caracteristica].value_counts()\n",
        "    df = pd.DataFrame([sexo_aluno_homens,sexo_aluno_mulheres])\n",
        "    df.index = ['Masculino','Feminino']\n",
        "    df.plot(kind='barh',stacked=True, figsize=(20,5))"
      ]
    },
    {
      "cell_type": "markdown",
      "metadata": {
        "id": "Sdohhz2sz9iw"
      },
      "source": [
        "**Temos um dataset bem distribuído em relação ao sexo dos alunos**"
      ]
    },
    {
      "cell_type": "code",
      "execution_count": null,
      "metadata": {
        "id": "236oXf6OKH1c",
        "colab": {
          "base_uri": "https://localhost:8080/"
        },
        "outputId": "46bb70ff-0236-432c-cbd0-454d70deb07d"
      },
      "outputs": [
        {
          "output_type": "execute_result",
          "data": {
            "text/plain": [
              "Feminino     1248315\n",
              "Masculino    1169355\n",
              "Name: ds_sexo, dtype: int64"
            ]
          },
          "metadata": {},
          "execution_count": 17
        }
      ],
      "source": [
        "dados_alunos['ds_sexo'].value_counts()"
      ]
    },
    {
      "cell_type": "markdown",
      "metadata": {
        "id": "wRf96ukM0KfB"
      },
      "source": [
        "**Raça dos alunos**"
      ]
    },
    {
      "cell_type": "code",
      "execution_count": null,
      "metadata": {
        "id": "BFh6TouvKmvl",
        "colab": {
          "base_uri": "https://localhost:8080/"
        },
        "outputId": "6c1a04e6-95ff-47a4-d33c-86218372b9a5"
      },
      "outputs": [
        {
          "output_type": "execute_result",
          "data": {
            "text/plain": [
              "Parda            1612280\n",
              "Não Declarada     461486\n",
              "Branca            276660\n",
              "Indígena           30673\n",
              "Preta              29785\n",
              "Amarela             6786\n",
              "Name: ds_raca, dtype: int64"
            ]
          },
          "metadata": {},
          "execution_count": 18
        }
      ],
      "source": [
        "dados_alunos['ds_raca'].value_counts()"
      ]
    },
    {
      "cell_type": "markdown",
      "metadata": {
        "id": "ITbaIpW10OTP"
      },
      "source": [
        "**A raça parda é a que foi encontrada em maior quantidade, mas percebe-se que muitos alunos estão sem raça declarada**"
      ]
    },
    {
      "cell_type": "code",
      "execution_count": null,
      "metadata": {
        "id": "PDxrLkq1LQ5X",
        "colab": {
          "base_uri": "https://localhost:8080/"
        },
        "outputId": "3c8e2198-09a3-419a-e006-45344dea279c"
      },
      "outputs": [
        {
          "output_type": "execute_result",
          "data": {
            "text/plain": [
              "count     2417670\n",
              "unique          6\n",
              "top         Parda\n",
              "freq      1612280\n",
              "Name: ds_raca, dtype: object"
            ]
          },
          "metadata": {},
          "execution_count": 19
        }
      ],
      "source": [
        "dados_alunos['ds_raca'].describe()"
      ]
    },
    {
      "cell_type": "code",
      "execution_count": null,
      "metadata": {
        "id": "1azOxOUbIaGR",
        "colab": {
          "base_uri": "https://localhost:8080/",
          "height": 335
        },
        "outputId": "1c186986-9802-44ed-cbbf-af54732a9019"
      },
      "outputs": [
        {
          "output_type": "display_data",
          "data": {
            "text/plain": [
              "<Figure size 1440x360 with 1 Axes>"
            ],
            "image/png": "[encoded data removed]"
          },
          "metadata": {}
        }
      ],
      "source": [
        "grafico_barras('ds_raca')"
      ]
    },
    {
      "cell_type": "markdown",
      "metadata": {
        "id": "_aA6SAii0eJY"
      },
      "source": [
        "**Modalidade de ensino (regular, profissional...)**\n",
        "\n",
        "A maioria dos alunos encontram-se no ensino regular, seguida pela modalidade EJA e em terceiro lugar o ensino profissional**"
      ]
    },
    {
      "cell_type": "code",
      "execution_count": null,
      "metadata": {
        "id": "soUHt3sPMQmX",
        "colab": {
          "base_uri": "https://localhost:8080/",
          "height": 335
        },
        "outputId": "f79c0907-4c6c-4a01-c5e5-80d87f028b00"
      },
      "outputs": [
        {
          "output_type": "display_data",
          "data": {
            "text/plain": [
              "<Figure size 1440x360 with 1 Axes>"
            ],
            "image/png": "[encoded data removed]"
          },
          "metadata": {}
        }
      ],
      "source": [
        "grafico_barras('ds_modalidade')"
      ]
    },
    {
      "cell_type": "markdown",
      "metadata": {
        "id": "MVNSYWknMxrq"
      },
      "source": [
        "**A escola regular é aquela que segue a educação comum, com os níveis de ensino e faixas etárias estabelecidas. O que é a modalidade de ensino EJA?\n",
        "O que é EJA? EJA é a sigla de Educação de Jovens e Adultos, uma modalidade de ensino destinada ao público que não completou, abandonou ou não teve acesso à educação formal na idade apropriada. A EJA é popularmente conhecida como supletivo. O que é ensino médio profissional?\n",
        "São cursos que se integram à organização curricular de uma Habilitação Profissional Técnica de Nível Médio (curso técnico), compondo o respectivo itinerário formativo aprovado pelo sistema de ensino.**"
      ]
    },
    {
      "cell_type": "markdown",
      "metadata": {
        "id": "FWrsx17l089q"
      },
      "source": [
        "**Série que o aluno está cursando**"
      ]
    },
    {
      "cell_type": "code",
      "execution_count": null,
      "metadata": {
        "id": "VPp839kdPUhO",
        "colab": {
          "base_uri": "https://localhost:8080/",
          "height": 648
        },
        "outputId": "4cc5af0d-9e58-467a-d08c-3957d9b7f707"
      },
      "outputs": [
        {
          "output_type": "display_data",
          "data": {
            "text/plain": [
              "<Figure size 1440x360 with 1 Axes>"
            ],
            "image/png": "[encoded data removed]"
          },
          "metadata": {}
        }
      ],
      "source": [
        "grafico_barras('ds_etapa')"
      ]
    },
    {
      "cell_type": "markdown",
      "metadata": {
        "id": "7NOZTceF1BUp"
      },
      "source": [
        "**Alunos por série**"
      ]
    },
    {
      "cell_type": "code",
      "execution_count": null,
      "metadata": {
        "id": "peupIdR_V0MS",
        "colab": {
          "base_uri": "https://localhost:8080/"
        },
        "outputId": "9cf8d231-a73b-4e4c-f08e-00ab398b4664"
      },
      "outputs": [
        {
          "output_type": "execute_result",
          "data": {
            "text/plain": [
              "1ª Série                                             570247\n",
              "2ª Série                                             506264\n",
              "3ª Série                                             462786\n",
              "EJA Semipresencial - Ensino Médio                    203963\n",
              "Integrado 1ª Série                                   110322\n",
              "Integrado 2ª Série                                    98582\n",
              "Integrado 3ª Série                                    89573\n",
              "EJA Presencial - Ensino Médio                         83416\n",
              "EJA Semipresencial - Anos finais                      79685\n",
              "9º ano                                                63811\n",
              "8º ano                                                38478\n",
              "7º ano                                                17215\n",
              "EJA Mais Qualificação Profissional I                  14910\n",
              "EJA Presencial - Anos finais                          13313\n",
              "EJA Presencial - Anos iniciais                        11489\n",
              "6º ano                                                10709\n",
              "EJA Mais Qualificação Profissional II                  8319\n",
              "Multi                                                  5039\n",
              "Pré-escola (4 e 5 anos)                                4383\n",
              "5º ano                                                 3881\n",
              "4º ano                                                 3580\n",
              "3º ano                                                 3487\n",
              "1º ano                                                 3253\n",
              "2º ano                                                 3215\n",
              "LIBRAS                                                 2653\n",
              "Creche (0 a 3 anos)                                    2022\n",
              "Práticas Inclusivas do AEE                              495\n",
              "Normal/Magistério 2ª Série                              473\n",
              "Normal/Magistério 4ª Série                              461\n",
              "Normal/Magistério 3ª Série                              374\n",
              "Formação Continuada                                     279\n",
              "Deficiência Intelectual                                 243\n",
              "EJA Semipresencial - Anos iniciais                      237\n",
              "TGD/TEA                                                 186\n",
              "Deficiência Visual                                      158\n",
              "PRÉ-ESCOLA                                               79\n",
              "EJA Presencial - Projovem Urbano                         34\n",
              "Educação Profissional (Subsequente)                      31\n",
              "Educação Infantil e Ensino Fundamental Multietapa        25\n",
              "Name: ds_etapa, dtype: int64"
            ]
          },
          "metadata": {},
          "execution_count": 23
        }
      ],
      "source": [
        "dados_alunos['ds_etapa'].value_counts()"
      ]
    },
    {
      "cell_type": "code",
      "execution_count": null,
      "metadata": {
        "id": "XwZDTjUFgsnA"
      },
      "outputs": [],
      "source": [
        "aluno = dados_alunos[['ds_sexo', 'ds_etapa']]"
      ]
    },
    {
      "cell_type": "code",
      "execution_count": null,
      "metadata": {
        "id": "94PIEsnbg3e2",
        "colab": {
          "base_uri": "https://localhost:8080/",
          "height": 206
        },
        "outputId": "c084d680-1008-41a7-df89-8a45bc3af266"
      },
      "outputs": [
        {
          "output_type": "execute_result",
          "data": {
            "text/plain": [
              "     ds_sexo  ds_etapa\n",
              "0   Feminino  1ª Série\n",
              "1  Masculino  1ª Série\n",
              "2  Masculino  1ª Série\n",
              "3  Masculino  1ª Série\n",
              "4   Feminino  1ª Série"
            ],
            "text/html": [
              "\n",
              "  <div id=\"df-3905986c-e1fc-40f3-8a43-84702605304c\">\n",
              "    <div class=\"colab-df-container\">\n",
              "      <div>\n",
              "<style scoped>\n",
              "    .dataframe tbody tr th:only-of-type {\n",
              "        vertical-align: middle;\n",
              "    }\n",
              "\n",
              "    .dataframe tbody tr th {\n",
              "        vertical-align: top;\n",
              "    }\n",
              "\n",
              "    .dataframe thead th {\n",
              "        text-align: right;\n",
              "    }\n",
              "</style>\n",
              "<table border=\"1\" class=\"dataframe\">\n",
              "  <thead>\n",
              "    <tr style=\"text-align: right;\">\n",
              "      <th></th>\n",
              "      <th>ds_sexo</th>\n",
              "      <th>ds_etapa</th>\n",
              "    </tr>\n",
              "  </thead>\n",
              "  <tbody>\n",
              "    <tr>\n",
              "      <th>0</th>\n",
              "      <td>Feminino</td>\n",
              "      <td>1ª Série</td>\n",
              "    </tr>\n",
              "    <tr>\n",
              "      <th>1</th>\n",
              "      <td>Masculino</td>\n",
              "      <td>1ª Série</td>\n",
              "    </tr>\n",
              "    <tr>\n",
              "      <th>2</th>\n",
              "      <td>Masculino</td>\n",
              "      <td>1ª Série</td>\n",
              "    </tr>\n",
              "    <tr>\n",
              "      <th>3</th>\n",
              "      <td>Masculino</td>\n",
              "      <td>1ª Série</td>\n",
              "    </tr>\n",
              "    <tr>\n",
              "      <th>4</th>\n",
              "      <td>Feminino</td>\n",
              "      <td>1ª Série</td>\n",
              "    </tr>\n",
              "  </tbody>\n",
              "</table>\n",
              "</div>\n",
              "      <button class=\"colab-df-convert\" onclick=\"convertToInteractive('df-3905986c-e1fc-40f3-8a43-84702605304c')\"\n",
              "              title=\"Convert this dataframe to an interactive table.\"\n",
              "              style=\"display:none;\">\n",
              "        \n",
              "  <svg xmlns=\"http://www.w3.org/2000/svg\" height=\"24px\"viewBox=\"0 0 24 24\"\n",
              "       width=\"24px\">\n",
              "    <path d=\"M0 0h24v24H0V0z\" fill=\"none\"/>\n",
              "    <path d=\"M18.56 5.44l.94 2.06.94-2.06 2.06-.94-2.06-.94-.94-2.06-.94 2.06-2.06.94zm-11 1L8.5 8.5l.94-2.06 2.06-.94-2.06-.94L8.5 2.5l-.94 2.06-2.06.94zm10 10l.94 2.06.94-2.06 2.06-.94-2.06-.94-.94-2.06-.94 2.06-2.06.94z\"/><path d=\"M17.41 7.96l-1.37-1.37c-.4-.4-.92-.59-1.43-.59-.52 0-1.04.2-1.43.59L10.3 9.45l-7.72 7.72c-.78.78-.78 2.05 0 2.83L4 21.41c.39.39.9.59 1.41.59.51 0 1.02-.2 1.41-.59l7.78-7.78 2.81-2.81c.8-.78.8-2.07 0-2.86zM5.41 20L4 18.59l7.72-7.72 1.47 1.35L5.41 20z\"/>\n",
              "  </svg>\n",
              "      </button>\n",
              "      \n",
              "  <style>\n",
              "    .colab-df-container {\n",
              "      display:flex;\n",
              "      flex-wrap:wrap;\n",
              "      gap: 12px;\n",
              "    }\n",
              "\n",
              "    .colab-df-convert {\n",
              "      background-color: #E8F0FE;\n",
              "      border: none;\n",
              "      border-radius: 50%;\n",
              "      cursor: pointer;\n",
              "      display: none;\n",
              "      fill: #1967D2;\n",
              "      height: 32px;\n",
              "      padding: 0 0 0 0;\n",
              "      width: 32px;\n",
              "    }\n",
              "\n",
              "    .colab-df-convert:hover {\n",
              "      background-color: #E2EBFA;\n",
              "      box-shadow: 0px 1px 2px rgba(60, 64, 67, 0.3), 0px 1px 3px 1px rgba(60, 64, 67, 0.15);\n",
              "      fill: #174EA6;\n",
              "    }\n",
              "\n",
              "    [theme=dark] .colab-df-convert {\n",
              "      background-color: #3B4455;\n",
              "      fill: #D2E3FC;\n",
              "    }\n",
              "\n",
              "    [theme=dark] .colab-df-convert:hover {\n",
              "      background-color: #434B5C;\n",
              "      box-shadow: 0px 1px 3px 1px rgba(0, 0, 0, 0.15);\n",
              "      filter: drop-shadow(0px 1px 2px rgba(0, 0, 0, 0.3));\n",
              "      fill: #FFFFFF;\n",
              "    }\n",
              "  </style>\n",
              "\n",
              "      <script>\n",
              "        const buttonEl =\n",
              "          document.querySelector('#df-3905986c-e1fc-40f3-8a43-84702605304c button.colab-df-convert');\n",
              "        buttonEl.style.display =\n",
              "          google.colab.kernel.accessAllowed ? 'block' : 'none';\n",
              "\n",
              "        async function convertToInteractive(key) {\n",
              "          const element = document.querySelector('#df-3905986c-e1fc-40f3-8a43-84702605304c');\n",
              "          const dataTable =\n",
              "            await google.colab.kernel.invokeFunction('convertToInteractive',\n",
              "                                                     [key], {});\n",
              "          if (!dataTable) return;\n",
              "\n",
              "          const docLinkHtml = 'Like what you see? Visit the ' +\n",
              "            '<a target=\"_blank\" href=https://colab.research.google.com/notebooks/data_table.ipynb>data table notebook</a>'\n",
              "            + ' to learn more about interactive tables.';\n",
              "          element.innerHTML = '';\n",
              "          dataTable['output_type'] = 'display_data';\n",
              "          await google.colab.output.renderOutput(dataTable, element);\n",
              "          const docLink = document.createElement('div');\n",
              "          docLink.innerHTML = docLinkHtml;\n",
              "          element.appendChild(docLink);\n",
              "        }\n",
              "      </script>\n",
              "    </div>\n",
              "  </div>\n",
              "  "
            ]
          },
          "metadata": {},
          "execution_count": 25
        }
      ],
      "source": [
        "aluno.head()"
      ]
    },
    {
      "cell_type": "markdown",
      "metadata": {
        "id": "8vya03-_1Hv_"
      },
      "source": [
        "**Tabela com alunos por série**"
      ]
    },
    {
      "cell_type": "code",
      "execution_count": null,
      "metadata": {
        "id": "1fyvw5M2W7kd",
        "colab": {
          "base_uri": "https://localhost:8080/",
          "height": 1000
        },
        "outputId": "3bb503b6-d557-472e-9265-ebf27a83b08c"
      },
      "outputs": [
        {
          "output_type": "execute_result",
          "data": {
            "text/plain": [
              "                                                   ds_sexo\n",
              "ds_etapa                                                  \n",
              "1ª Série                                            570247\n",
              "1º ano                                                3253\n",
              "2ª Série                                            506264\n",
              "2º ano                                                3215\n",
              "3ª Série                                            462786\n",
              "3º ano                                                3487\n",
              "4º ano                                                3580\n",
              "5º ano                                                3881\n",
              "6º ano                                               10709\n",
              "7º ano                                               17215\n",
              "8º ano                                               38478\n",
              "9º ano                                               63811\n",
              "Creche (0 a 3 anos)                                   2022\n",
              "Deficiência Intelectual                                243\n",
              "Deficiência Visual                                     158\n",
              "EJA Mais Qualificação Profissional I                 14910\n",
              "EJA Mais Qualificação Profissional II                 8319\n",
              "EJA Presencial - Anos finais                         13313\n",
              "EJA Presencial - Anos iniciais                       11489\n",
              "EJA Presencial - Ensino Médio                        83416\n",
              "EJA Presencial - Projovem Urbano                        34\n",
              "EJA Semipresencial - Anos finais                     79685\n",
              "EJA Semipresencial - Anos iniciais                     237\n",
              "EJA Semipresencial - Ensino Médio                   203963\n",
              "Educação Infantil e Ensino Fundamental Multietapa       25\n",
              "Educação Profissional (Subsequente)                     31\n",
              "Formação Continuada                                    279\n",
              "Integrado 1ª Série                                  110322\n",
              "Integrado 2ª Série                                   98582\n",
              "Integrado 3ª Série                                   89573\n",
              "LIBRAS                                                2653\n",
              "Multi                                                 5039\n",
              "Normal/Magistério 2ª Série                             473\n",
              "Normal/Magistério 3ª Série                             374\n",
              "Normal/Magistério 4ª Série                             461\n",
              "PRÉ-ESCOLA                                              79\n",
              "Práticas Inclusivas do AEE                             495\n",
              "Pré-escola (4 e 5 anos)                               4383\n",
              "TGD/TEA                                                186"
            ],
            "text/html": [
              "\n",
              "  <div id=\"df-7e320fdf-4ae0-4676-9cfb-870e273e6740\">\n",
              "    <div class=\"colab-df-container\">\n",
              "      <div>\n",
              "<style scoped>\n",
              "    .dataframe tbody tr th:only-of-type {\n",
              "        vertical-align: middle;\n",
              "    }\n",
              "\n",
              "    .dataframe tbody tr th {\n",
              "        vertical-align: top;\n",
              "    }\n",
              "\n",
              "    .dataframe thead th {\n",
              "        text-align: right;\n",
              "    }\n",
              "</style>\n",
              "<table border=\"1\" class=\"dataframe\">\n",
              "  <thead>\n",
              "    <tr style=\"text-align: right;\">\n",
              "      <th></th>\n",
              "      <th>ds_sexo</th>\n",
              "    </tr>\n",
              "    <tr>\n",
              "      <th>ds_etapa</th>\n",
              "      <th></th>\n",
              "    </tr>\n",
              "  </thead>\n",
              "  <tbody>\n",
              "    <tr>\n",
              "      <th>1ª Série</th>\n",
              "      <td>570247</td>\n",
              "    </tr>\n",
              "    <tr>\n",
              "      <th>1º ano</th>\n",
              "      <td>3253</td>\n",
              "    </tr>\n",
              "    <tr>\n",
              "      <th>2ª Série</th>\n",
              "      <td>506264</td>\n",
              "    </tr>\n",
              "    <tr>\n",
              "      <th>2º ano</th>\n",
              "      <td>3215</td>\n",
              "    </tr>\n",
              "    <tr>\n",
              "      <th>3ª Série</th>\n",
              "      <td>462786</td>\n",
              "    </tr>\n",
              "    <tr>\n",
              "      <th>3º ano</th>\n",
              "      <td>3487</td>\n",
              "    </tr>\n",
              "    <tr>\n",
              "      <th>4º ano</th>\n",
              "      <td>3580</td>\n",
              "    </tr>\n",
              "    <tr>\n",
              "      <th>5º ano</th>\n",
              "      <td>3881</td>\n",
              "    </tr>\n",
              "    <tr>\n",
              "      <th>6º ano</th>\n",
              "      <td>10709</td>\n",
              "    </tr>\n",
              "    <tr>\n",
              "      <th>7º ano</th>\n",
              "      <td>17215</td>\n",
              "    </tr>\n",
              "    <tr>\n",
              "      <th>8º ano</th>\n",
              "      <td>38478</td>\n",
              "    </tr>\n",
              "    <tr>\n",
              "      <th>9º ano</th>\n",
              "      <td>63811</td>\n",
              "    </tr>\n",
              "    <tr>\n",
              "      <th>Creche (0 a 3 anos)</th>\n",
              "      <td>2022</td>\n",
              "    </tr>\n",
              "    <tr>\n",
              "      <th>Deficiência Intelectual</th>\n",
              "      <td>243</td>\n",
              "    </tr>\n",
              "    <tr>\n",
              "      <th>Deficiência Visual</th>\n",
              "      <td>158</td>\n",
              "    </tr>\n",
              "    <tr>\n",
              "      <th>EJA Mais Qualificação Profissional I</th>\n",
              "      <td>14910</td>\n",
              "    </tr>\n",
              "    <tr>\n",
              "      <th>EJA Mais Qualificação Profissional II</th>\n",
              "      <td>8319</td>\n",
              "    </tr>\n",
              "    <tr>\n",
              "      <th>EJA Presencial - Anos finais</th>\n",
              "      <td>13313</td>\n",
              "    </tr>\n",
              "    <tr>\n",
              "      <th>EJA Presencial - Anos iniciais</th>\n",
              "      <td>11489</td>\n",
              "    </tr>\n",
              "    <tr>\n",
              "      <th>EJA Presencial - Ensino Médio</th>\n",
              "      <td>83416</td>\n",
              "    </tr>\n",
              "    <tr>\n",
              "      <th>EJA Presencial - Projovem Urbano</th>\n",
              "      <td>34</td>\n",
              "    </tr>\n",
              "    <tr>\n",
              "      <th>EJA Semipresencial - Anos finais</th>\n",
              "      <td>79685</td>\n",
              "    </tr>\n",
              "    <tr>\n",
              "      <th>EJA Semipresencial - Anos iniciais</th>\n",
              "      <td>237</td>\n",
              "    </tr>\n",
              "    <tr>\n",
              "      <th>EJA Semipresencial - Ensino Médio</th>\n",
              "      <td>203963</td>\n",
              "    </tr>\n",
              "    <tr>\n",
              "      <th>Educação Infantil e Ensino Fundamental Multietapa</th>\n",
              "      <td>25</td>\n",
              "    </tr>\n",
              "    <tr>\n",
              "      <th>Educação Profissional (Subsequente)</th>\n",
              "      <td>31</td>\n",
              "    </tr>\n",
              "    <tr>\n",
              "      <th>Formação Continuada</th>\n",
              "      <td>279</td>\n",
              "    </tr>\n",
              "    <tr>\n",
              "      <th>Integrado 1ª Série</th>\n",
              "      <td>110322</td>\n",
              "    </tr>\n",
              "    <tr>\n",
              "      <th>Integrado 2ª Série</th>\n",
              "      <td>98582</td>\n",
              "    </tr>\n",
              "    <tr>\n",
              "      <th>Integrado 3ª Série</th>\n",
              "      <td>89573</td>\n",
              "    </tr>\n",
              "    <tr>\n",
              "      <th>LIBRAS</th>\n",
              "      <td>2653</td>\n",
              "    </tr>\n",
              "    <tr>\n",
              "      <th>Multi</th>\n",
              "      <td>5039</td>\n",
              "    </tr>\n",
              "    <tr>\n",
              "      <th>Normal/Magistério 2ª Série</th>\n",
              "      <td>473</td>\n",
              "    </tr>\n",
              "    <tr>\n",
              "      <th>Normal/Magistério 3ª Série</th>\n",
              "      <td>374</td>\n",
              "    </tr>\n",
              "    <tr>\n",
              "      <th>Normal/Magistério 4ª Série</th>\n",
              "      <td>461</td>\n",
              "    </tr>\n",
              "    <tr>\n",
              "      <th>PRÉ-ESCOLA</th>\n",
              "      <td>79</td>\n",
              "    </tr>\n",
              "    <tr>\n",
              "      <th>Práticas Inclusivas do AEE</th>\n",
              "      <td>495</td>\n",
              "    </tr>\n",
              "    <tr>\n",
              "      <th>Pré-escola (4 e 5 anos)</th>\n",
              "      <td>4383</td>\n",
              "    </tr>\n",
              "    <tr>\n",
              "      <th>TGD/TEA</th>\n",
              "      <td>186</td>\n",
              "    </tr>\n",
              "  </tbody>\n",
              "</table>\n",
              "</div>\n",
              "      <button class=\"colab-df-convert\" onclick=\"convertToInteractive('df-7e320fdf-4ae0-4676-9cfb-870e273e6740')\"\n",
              "              title=\"Convert this dataframe to an interactive table.\"\n",
              "              style=\"display:none;\">\n",
              "        \n",
              "  <svg xmlns=\"http://www.w3.org/2000/svg\" height=\"24px\"viewBox=\"0 0 24 24\"\n",
              "       width=\"24px\">\n",
              "    <path d=\"M0 0h24v24H0V0z\" fill=\"none\"/>\n",
              "    <path d=\"M18.56 5.44l.94 2.06.94-2.06 2.06-.94-2.06-.94-.94-2.06-.94 2.06-2.06.94zm-11 1L8.5 8.5l.94-2.06 2.06-.94-2.06-.94L8.5 2.5l-.94 2.06-2.06.94zm10 10l.94 2.06.94-2.06 2.06-.94-2.06-.94-.94-2.06-.94 2.06-2.06.94z\"/><path d=\"M17.41 7.96l-1.37-1.37c-.4-.4-.92-.59-1.43-.59-.52 0-1.04.2-1.43.59L10.3 9.45l-7.72 7.72c-.78.78-.78 2.05 0 2.83L4 21.41c.39.39.9.59 1.41.59.51 0 1.02-.2 1.41-.59l7.78-7.78 2.81-2.81c.8-.78.8-2.07 0-2.86zM5.41 20L4 18.59l7.72-7.72 1.47 1.35L5.41 20z\"/>\n",
              "  </svg>\n",
              "      </button>\n",
              "      \n",
              "  <style>\n",
              "    .colab-df-container {\n",
              "      display:flex;\n",
              "      flex-wrap:wrap;\n",
              "      gap: 12px;\n",
              "    }\n",
              "\n",
              "    .colab-df-convert {\n",
              "      background-color: #E8F0FE;\n",
              "      border: none;\n",
              "      border-radius: 50%;\n",
              "      cursor: pointer;\n",
              "      display: none;\n",
              "      fill: #1967D2;\n",
              "      height: 32px;\n",
              "      padding: 0 0 0 0;\n",
              "      width: 32px;\n",
              "    }\n",
              "\n",
              "    .colab-df-convert:hover {\n",
              "      background-color: #E2EBFA;\n",
              "      box-shadow: 0px 1px 2px rgba(60, 64, 67, 0.3), 0px 1px 3px 1px rgba(60, 64, 67, 0.15);\n",
              "      fill: #174EA6;\n",
              "    }\n",
              "\n",
              "    [theme=dark] .colab-df-convert {\n",
              "      background-color: #3B4455;\n",
              "      fill: #D2E3FC;\n",
              "    }\n",
              "\n",
              "    [theme=dark] .colab-df-convert:hover {\n",
              "      background-color: #434B5C;\n",
              "      box-shadow: 0px 1px 3px 1px rgba(0, 0, 0, 0.15);\n",
              "      filter: drop-shadow(0px 1px 2px rgba(0, 0, 0, 0.3));\n",
              "      fill: #FFFFFF;\n",
              "    }\n",
              "  </style>\n",
              "\n",
              "      <script>\n",
              "        const buttonEl =\n",
              "          document.querySelector('#df-7e320fdf-4ae0-4676-9cfb-870e273e6740 button.colab-df-convert');\n",
              "        buttonEl.style.display =\n",
              "          google.colab.kernel.accessAllowed ? 'block' : 'none';\n",
              "\n",
              "        async function convertToInteractive(key) {\n",
              "          const element = document.querySelector('#df-7e320fdf-4ae0-4676-9cfb-870e273e6740');\n",
              "          const dataTable =\n",
              "            await google.colab.kernel.invokeFunction('convertToInteractive',\n",
              "                                                     [key], {});\n",
              "          if (!dataTable) return;\n",
              "\n",
              "          const docLinkHtml = 'Like what you see? Visit the ' +\n",
              "            '<a target=\"_blank\" href=https://colab.research.google.com/notebooks/data_table.ipynb>data table notebook</a>'\n",
              "            + ' to learn more about interactive tables.';\n",
              "          element.innerHTML = '';\n",
              "          dataTable['output_type'] = 'display_data';\n",
              "          await google.colab.output.renderOutput(dataTable, element);\n",
              "          const docLink = document.createElement('div');\n",
              "          docLink.innerHTML = docLinkHtml;\n",
              "          element.appendChild(docLink);\n",
              "        }\n",
              "      </script>\n",
              "    </div>\n",
              "  </div>\n",
              "  "
            ]
          },
          "metadata": {},
          "execution_count": 26
        }
      ],
      "source": [
        "aluno.groupby(\"ds_etapa\").count()\n",
        "\n"
      ]
    },
    {
      "cell_type": "markdown",
      "metadata": {
        "id": "-gCmzvrV1Oiu"
      },
      "source": [
        "**A maior parte dos alunos estudam nos períodos de manhã ou tarde**"
      ]
    },
    {
      "cell_type": "code",
      "execution_count": null,
      "metadata": {
        "id": "YftVaLAAT6n_",
        "colab": {
          "base_uri": "https://localhost:8080/",
          "height": 335
        },
        "outputId": "2b419db1-9255-46b5-c50a-e6ee0b7366a5"
      },
      "outputs": [
        {
          "output_type": "display_data",
          "data": {
            "text/plain": [
              "<Figure size 1440x360 with 1 Axes>"
            ],
            "image/png": "[encoded data removed]"
          },
          "metadata": {}
        }
      ],
      "source": [
        "grafico_barras('ds_turno')"
      ]
    },
    {
      "cell_type": "markdown",
      "metadata": {
        "id": "ZRlbX5o31eov"
      },
      "source": [
        "**Quantidade de alunos por escola**"
      ]
    },
    {
      "cell_type": "code",
      "execution_count": null,
      "metadata": {
        "id": "DMcho2q1hgdP"
      },
      "outputs": [],
      "source": [
        "escola_alunos =dados_alunos[['ds_sexo', 'nm_escola']]"
      ]
    },
    {
      "cell_type": "code",
      "execution_count": null,
      "metadata": {
        "id": "53s9kylhhBMQ",
        "colab": {
          "base_uri": "https://localhost:8080/",
          "height": 455
        },
        "outputId": "96701c4e-b552-4e52-9828-23c4772f241d"
      },
      "outputs": [
        {
          "output_type": "execute_result",
          "data": {
            "text/plain": [
              "                                         ds_sexo\n",
              "nm_escola                                       \n",
              "ADOLFO FERREIRA DE SOUSA EEEP               2212\n",
              "ALMIR PINTO EEM                             8956\n",
              "ANTONIA NEDINA ONOFRE DE PAIVA - EEEP       2248\n",
              "CAIC RAIMUNDO GOMES DE CARVALHO             5859\n",
              "CAIC SENADOR CARLOS JEREISSATI              5489\n",
              "...                                          ...\n",
              "RAIMUNDA SILVEIRA DE SOUZA CARNEIRO EEM     1344\n",
              "RAIMUNDO ADJACIR CIDRÃO DE OLIVEIRA EEM      789\n",
              "VEREADORA EDIMAR MARTINS DA CUNHA EEM        810\n",
              "ZULMIRA AGASSIS EEFM                        1206\n",
              "ZÉLIA DE MATOS BRITO EEM                    1343\n",
              "\n",
              "[725 rows x 1 columns]"
            ],
            "text/html": [
              "\n",
              "  <div id=\"df-1d7afb8e-c95e-4fa7-b602-6cdf5210a5e8\">\n",
              "    <div class=\"colab-df-container\">\n",
              "      <div>\n",
              "<style scoped>\n",
              "    .dataframe tbody tr th:only-of-type {\n",
              "        vertical-align: middle;\n",
              "    }\n",
              "\n",
              "    .dataframe tbody tr th {\n",
              "        vertical-align: top;\n",
              "    }\n",
              "\n",
              "    .dataframe thead th {\n",
              "        text-align: right;\n",
              "    }\n",
              "</style>\n",
              "<table border=\"1\" class=\"dataframe\">\n",
              "  <thead>\n",
              "    <tr style=\"text-align: right;\">\n",
              "      <th></th>\n",
              "      <th>ds_sexo</th>\n",
              "    </tr>\n",
              "    <tr>\n",
              "      <th>nm_escola</th>\n",
              "      <th></th>\n",
              "    </tr>\n",
              "  </thead>\n",
              "  <tbody>\n",
              "    <tr>\n",
              "      <th>ADOLFO FERREIRA DE SOUSA EEEP</th>\n",
              "      <td>2212</td>\n",
              "    </tr>\n",
              "    <tr>\n",
              "      <th>ALMIR PINTO EEM</th>\n",
              "      <td>8956</td>\n",
              "    </tr>\n",
              "    <tr>\n",
              "      <th>ANTONIA NEDINA ONOFRE DE PAIVA - EEEP</th>\n",
              "      <td>2248</td>\n",
              "    </tr>\n",
              "    <tr>\n",
              "      <th>CAIC RAIMUNDO GOMES DE CARVALHO</th>\n",
              "      <td>5859</td>\n",
              "    </tr>\n",
              "    <tr>\n",
              "      <th>CAIC SENADOR CARLOS JEREISSATI</th>\n",
              "      <td>5489</td>\n",
              "    </tr>\n",
              "    <tr>\n",
              "      <th>...</th>\n",
              "      <td>...</td>\n",
              "    </tr>\n",
              "    <tr>\n",
              "      <th>RAIMUNDA SILVEIRA DE SOUZA CARNEIRO EEM</th>\n",
              "      <td>1344</td>\n",
              "    </tr>\n",
              "    <tr>\n",
              "      <th>RAIMUNDO ADJACIR CIDRÃO DE OLIVEIRA EEM</th>\n",
              "      <td>789</td>\n",
              "    </tr>\n",
              "    <tr>\n",
              "      <th>VEREADORA EDIMAR MARTINS DA CUNHA EEM</th>\n",
              "      <td>810</td>\n",
              "    </tr>\n",
              "    <tr>\n",
              "      <th>ZULMIRA AGASSIS EEFM</th>\n",
              "      <td>1206</td>\n",
              "    </tr>\n",
              "    <tr>\n",
              "      <th>ZÉLIA DE MATOS BRITO EEM</th>\n",
              "      <td>1343</td>\n",
              "    </tr>\n",
              "  </tbody>\n",
              "</table>\n",
              "<p>725 rows × 1 columns</p>\n",
              "</div>\n",
              "      <button class=\"colab-df-convert\" onclick=\"convertToInteractive('df-1d7afb8e-c95e-4fa7-b602-6cdf5210a5e8')\"\n",
              "              title=\"Convert this dataframe to an interactive table.\"\n",
              "              style=\"display:none;\">\n",
              "        \n",
              "  <svg xmlns=\"http://www.w3.org/2000/svg\" height=\"24px\"viewBox=\"0 0 24 24\"\n",
              "       width=\"24px\">\n",
              "    <path d=\"M0 0h24v24H0V0z\" fill=\"none\"/>\n",
              "    <path d=\"M18.56 5.44l.94 2.06.94-2.06 2.06-.94-2.06-.94-.94-2.06-.94 2.06-2.06.94zm-11 1L8.5 8.5l.94-2.06 2.06-.94-2.06-.94L8.5 2.5l-.94 2.06-2.06.94zm10 10l.94 2.06.94-2.06 2.06-.94-2.06-.94-.94-2.06-.94 2.06-2.06.94z\"/><path d=\"M17.41 7.96l-1.37-1.37c-.4-.4-.92-.59-1.43-.59-.52 0-1.04.2-1.43.59L10.3 9.45l-7.72 7.72c-.78.78-.78 2.05 0 2.83L4 21.41c.39.39.9.59 1.41.59.51 0 1.02-.2 1.41-.59l7.78-7.78 2.81-2.81c.8-.78.8-2.07 0-2.86zM5.41 20L4 18.59l7.72-7.72 1.47 1.35L5.41 20z\"/>\n",
              "  </svg>\n",
              "      </button>\n",
              "      \n",
              "  <style>\n",
              "    .colab-df-container {\n",
              "      display:flex;\n",
              "      flex-wrap:wrap;\n",
              "      gap: 12px;\n",
              "    }\n",
              "\n",
              "    .colab-df-convert {\n",
              "      background-color: #E8F0FE;\n",
              "      border: none;\n",
              "      border-radius: 50%;\n",
              "      cursor: pointer;\n",
              "      display: none;\n",
              "      fill: #1967D2;\n",
              "      height: 32px;\n",
              "      padding: 0 0 0 0;\n",
              "      width: 32px;\n",
              "    }\n",
              "\n",
              "    .colab-df-convert:hover {\n",
              "      background-color: #E2EBFA;\n",
              "      box-shadow: 0px 1px 2px rgba(60, 64, 67, 0.3), 0px 1px 3px 1px rgba(60, 64, 67, 0.15);\n",
              "      fill: #174EA6;\n",
              "    }\n",
              "\n",
              "    [theme=dark] .colab-df-convert {\n",
              "      background-color: #3B4455;\n",
              "      fill: #D2E3FC;\n",
              "    }\n",
              "\n",
              "    [theme=dark] .colab-df-convert:hover {\n",
              "      background-color: #434B5C;\n",
              "      box-shadow: 0px 1px 3px 1px rgba(0, 0, 0, 0.15);\n",
              "      filter: drop-shadow(0px 1px 2px rgba(0, 0, 0, 0.3));\n",
              "      fill: #FFFFFF;\n",
              "    }\n",
              "  </style>\n",
              "\n",
              "      <script>\n",
              "        const buttonEl =\n",
              "          document.querySelector('#df-1d7afb8e-c95e-4fa7-b602-6cdf5210a5e8 button.colab-df-convert');\n",
              "        buttonEl.style.display =\n",
              "          google.colab.kernel.accessAllowed ? 'block' : 'none';\n",
              "\n",
              "        async function convertToInteractive(key) {\n",
              "          const element = document.querySelector('#df-1d7afb8e-c95e-4fa7-b602-6cdf5210a5e8');\n",
              "          const dataTable =\n",
              "            await google.colab.kernel.invokeFunction('convertToInteractive',\n",
              "                                                     [key], {});\n",
              "          if (!dataTable) return;\n",
              "\n",
              "          const docLinkHtml = 'Like what you see? Visit the ' +\n",
              "            '<a target=\"_blank\" href=https://colab.research.google.com/notebooks/data_table.ipynb>data table notebook</a>'\n",
              "            + ' to learn more about interactive tables.';\n",
              "          element.innerHTML = '';\n",
              "          dataTable['output_type'] = 'display_data';\n",
              "          await google.colab.output.renderOutput(dataTable, element);\n",
              "          const docLink = document.createElement('div');\n",
              "          docLink.innerHTML = docLinkHtml;\n",
              "          element.appendChild(docLink);\n",
              "        }\n",
              "      </script>\n",
              "    </div>\n",
              "  </div>\n",
              "  "
            ]
          },
          "metadata": {},
          "execution_count": 29
        }
      ],
      "source": [
        "escola_alunos.groupby(\"nm_escola\").count()\n",
        "\n"
      ]
    },
    {
      "cell_type": "markdown",
      "metadata": {
        "id": "NBVO_a8C1qhf"
      },
      "source": [
        "**Alunos por categoria de ensino** "
      ]
    },
    {
      "cell_type": "code",
      "execution_count": null,
      "metadata": {
        "id": "PD2eZwgAleZb",
        "colab": {
          "base_uri": "https://localhost:8080/",
          "height": 335
        },
        "outputId": "7b4aeab3-fe79-437f-a5b8-d4cc91f6af84"
      },
      "outputs": [
        {
          "output_type": "display_data",
          "data": {
            "text/plain": [
              "<Figure size 1440x360 with 1 Axes>"
            ],
            "image/png": "[encoded data removed]"
          },
          "metadata": {}
        }
      ],
      "source": [
        "grafico_barras('nm_categoria')"
      ]
    },
    {
      "cell_type": "markdown",
      "metadata": {
        "id": "19o22rj-129H"
      },
      "source": [
        "**Alunos por nível de ensino**"
      ]
    },
    {
      "cell_type": "code",
      "execution_count": null,
      "metadata": {
        "id": "O8b7hE_Zl-wI",
        "colab": {
          "base_uri": "https://localhost:8080/",
          "height": 335
        },
        "outputId": "ca7a98d0-3fbe-42fe-ed51-dae7b33524e2"
      },
      "outputs": [
        {
          "output_type": "display_data",
          "data": {
            "text/plain": [
              "<Figure size 1440x360 with 1 Axes>"
            ],
            "image/png": "[encoded data removed]"
          },
          "metadata": {}
        }
      ],
      "source": [
        "grafico_barras('ds_nivel')"
      ]
    },
    {
      "cell_type": "code",
      "execution_count": null,
      "metadata": {
        "id": "skIyIhsQm-jA",
        "colab": {
          "base_uri": "https://localhost:8080/",
          "height": 1000
        },
        "outputId": "41ab34b8-2329-4c53-b462-88dfef27a1d3"
      },
      "outputs": [
        {
          "output_type": "display_data",
          "data": {
            "text/plain": [
              "<Figure size 1440x360 with 1 Axes>"
            ],
            "image/png": "[encoded data removed]"
          },
          "metadata": {}
        }
      ],
      "source": [
        "grafico_barras('nm_curso')"
      ]
    },
    {
      "cell_type": "code",
      "execution_count": null,
      "metadata": {
        "id": "hx_iuqZXnTFr",
        "colab": {
          "base_uri": "https://localhost:8080/"
        },
        "outputId": "0b96283d-52e2-4322-8537-1f080218412d"
      },
      "outputs": [
        {
          "output_type": "execute_result",
          "data": {
            "text/plain": [
              "--- NÃO SE APLICA ---                             2089463\n",
              "TÉCNICO EM INFORMÁTICA                              44066\n",
              "TÉCNICO EM ADMINISTRAÇÃO                            39214\n",
              "TÉCNICO EM ENFERMAGEM                               34313\n",
              "Ensino Médio Semestral                              26850\n",
              "TÉCNICO EM REDES DE COMPUTADORES                    24089\n",
              "TÉCNICO EM FINANÇAS                                 14028\n",
              "TÉCNICO EM EDIFICAÇÕES                              12857\n",
              "TÉCNICO EM COMÉRCIO                                 11439\n",
              "TÉCNICO EM ELETROTECNICA                             8703\n",
              "TÉCNICO EM AGROPECUÁRIA                              8658\n",
              "TÉCNICO EM AGRONEGÓCIO                               7929\n",
              "TÉCNICO EM LOGÍSTICA                                 7412\n",
              "TÉCNICO EM AGROINDÚSTRIA                             6460\n",
              "TÉCNICO EM CONTABILIDADE                             6019\n",
              "TÉCNICO EM ELETROMECÂNICA                            5491\n",
              "TÉCNICO EM HOSPEDAGEM                                5177\n",
              "TÉCNICO EM DESENHO DE CONSTRUÇÃO CIVIL               4597\n",
              "TÉCNICO EM ESTÉTICA                                  3733\n",
              "TÉCNICO EM AQUICULTURA                               3604\n",
              "TÉCNICO EM MECÂNICA                                  3558\n",
              "TÉCNICO EM SEGURANÇA DO TRABALHO                     3302\n",
              "TÉCNICO EM NUTRIÇÃO E DIETÉTICA                      3141\n",
              "TÉCNICO EM MASSOTERAPIA                              2970\n",
              "TÉCNICO EM GUIA DE TURISMO                           2819\n",
              "TÉCNICO EM QUÍMICA                                   2510\n",
              "TÉCNICO EM SECRETARIADO                              2428\n",
              "TÉCNICO EM MEIO AMBIENTE                             2342\n",
              "TÉCNICO EM EVENTOS                                   2134\n",
              "TÉCNICO EM SECRETARIA ESCOLAR                        1998\n",
              "TÉCNICO EM MANUTENÇÃO AUTOMOTIVA                     1826\n",
              "TÉCNICO EM DESIGN DE INTERIORES                      1646\n",
              "TÉCNICO EM AGRIMENSURA                               1627\n",
              "Normal (Pedagógico)                                  1587\n",
              "TÉCNICO EM FABRICAÇÃO MECÂNICA                       1519\n",
              "TÉCNICO EM PRODUÇÃO DE AUDIO E VIDEO                 1443\n",
              "TÉCNICO EM MULTIMÍDIA                                1399\n",
              "TÉCNICO EM AUTOMAÇÃO INDUSTRIAL                      1231\n",
              "Mais Qualificação Profissional                       1143\n",
              "TÉCNICO EM MOVÉIS                                    1111\n",
              "TÉCNICO EM PAISAGISMO                                1052\n",
              "TÉCNICO EM TRANSAÇÕES IMOBILIÁRIAS                   1011\n",
              "TÉCNICO EM TÊXTIL                                     984\n",
              "TÉCNICO EM SAÚDE BUCAL                                960\n",
              "TÉCNICO EM FRUTICULTURA                               947\n",
              "TÉCNICO EM PRODUÇÃO DE MODA                           901\n",
              "TÉCNICO EM REGÊNCIA                                   858\n",
              "TÉCNICO EM BIOTECNOLOGIA                              749\n",
              "TÉCNICO EM VESTUÁRIO                                  726\n",
              "TÉCNICO EM AGRICULTURA (FLORICULTURA)                 642\n",
              "TÉCNICO EM MODELAGEM DO VESTUÁRIO                     611\n",
              "TÉCNICO EM PORTOS                                     580\n",
              "TÉCNICO EM PETRÓLEO E GÁS                             551\n",
              "TÉCNICO EM MINERAÇÃO                                  357\n",
              "TÉCNICO EM TRADUÇÃO E  INTERPRETAÇÃO DE LIBRAS        356\n",
              "TÉCNICO EM INSTRUÇÃO DE LIBRAS                        212\n",
              "TÉCNICO EM GESTÃO CULTURAL                            187\n",
              "TÉCNICO EM AGROPECUÁRIA (EFA)                          76\n",
              "TÉCNICO EM AGROPECUÁRIA (EFA) - ANUAL                  42\n",
              "Mais Qualificação Profissional Semestral               32\n",
              "Name: nm_curso, dtype: int64"
            ]
          },
          "metadata": {},
          "execution_count": 33
        }
      ],
      "source": [
        "dados_alunos['nm_curso'].value_counts()"
      ]
    },
    {
      "cell_type": "markdown",
      "metadata": {
        "id": "wzFZrq5d2leR"
      },
      "source": [
        "**Alunos por CREDE da escola**"
      ]
    },
    {
      "cell_type": "code",
      "execution_count": null,
      "metadata": {
        "id": "TVih4i2qxHwr",
        "colab": {
          "base_uri": "https://localhost:8080/",
          "height": 396
        },
        "outputId": "b18ecbfe-4e98-464f-d47d-70d7b11d7c8f"
      },
      "outputs": [
        {
          "output_type": "display_data",
          "data": {
            "text/plain": [
              "<Figure size 1440x360 with 1 Axes>"
            ],
            "image/png": "[encoded data removed]"
          },
          "metadata": {}
        }
      ],
      "source": [
        "grafico_barras('nm_crede_sefor')"
      ]
    },
    {
      "cell_type": "markdown",
      "metadata": {
        "id": "DXRhQVVB3EJt"
      },
      "source": [
        "**Quantidade de alunos por município**"
      ]
    },
    {
      "cell_type": "code",
      "execution_count": null,
      "metadata": {
        "id": "JNFempobyLI0",
        "colab": {
          "base_uri": "https://localhost:8080/",
          "height": 1000
        },
        "outputId": "d47c30bc-875f-49b4-ddb1-855cb803ab66"
      },
      "outputs": [
        {
          "output_type": "display_data",
          "data": {
            "text/plain": [
              "<Figure size 1440x360 with 1 Axes>"
            ],
            "image/png": "[encoded data removed]"
          },
          "metadata": {}
        }
      ],
      "source": [
        "grafico_barras('nm_municipio')"
      ]
    }
  ],
  "metadata": {
    "colab": {
      "collapsed_sections": [],
      "name": "Dados_alunos_2015a2020.ipynb",
      "provenance": [],
      "include_colab_link": true
    },
    "kernelspec": {
      "display_name": "Python 3 (ipykernel)",
      "language": "python",
      "name": "python3"
    },
    "language_info": {
      "codemirror_mode": {
        "name": "ipython",
        "version": 3
      },
      "file_extension": ".py",
      "mimetype": "text/x-python",
      "name": "python",
      "nbconvert_exporter": "python",
      "pygments_lexer": "ipython3",
      "version": "3.9.7"
    }
  },
  "nbformat": 4,
  "nbformat_minor": 0
}